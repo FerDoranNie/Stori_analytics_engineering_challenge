{
  "nbformat": 4,
  "nbformat_minor": 0,
  "metadata": {
    "colab": {
      "provenance": [],
      "toc_visible": true,
      "authorship_tag": "ABX9TyOloOZHtFkChXmsCq/ejneZ",
      "include_colab_link": true
    },
    "kernelspec": {
      "name": "python3",
      "display_name": "Python 3"
    },
    "language_info": {
      "name": "python"
    }
  },
  "cells": [
    {
      "cell_type": "markdown",
      "metadata": {
        "id": "view-in-github",
        "colab_type": "text"
      },
      "source": [
        "<a href=\"https://colab.research.google.com/github/FerDoranNie/Stori_analytics_engineering_challenge/blob/master/Stori_analytics_engineering_challenge.ipynb\" target=\"_parent\"><img src=\"https://colab.research.google.com/assets/colab-badge.svg\" alt=\"Open In Colab\"/></a>"
      ]
    },
    {
      "cell_type": "markdown",
      "source": [
        "# Story Analytics Engineering Challenge 🤓"
      ],
      "metadata": {
        "id": "D2FYi0cTsOV9"
      }
    },
    {
      "cell_type": "markdown",
      "source": [
        "## Purpose of this notebook\n",
        "\n",
        "Hello, my name is Fernando Dorantes Nieto\n",
        "\n",
        "**I did this notebook in order to show the code and the instruction on how I solved the challenge that Stori send me in order to test my skills to apply for the Analytics Engineering position.**\n",
        "\n",
        "\n"
      ],
      "metadata": {
        "id": "uK3eF_a_sSKZ"
      }
    },
    {
      "cell_type": "markdown",
      "source": [
        "### Some instructions before to proceed\n",
        "\n",
        "##### **This notebook has different sections, to see them as an index,  please click on the first icon on the left side.**"
      ],
      "metadata": {
        "id": "ylTxazTpwEn8"
      }
    },
    {
      "cell_type": "markdown",
      "source": [
        "## Instructions of the challenge\n"
      ],
      "metadata": {
        "id": "-fGWkdD8wmQY"
      }
    },
    {
      "cell_type": "markdown",
      "source": [
        "In order fot not to miss any details of the instructions for this challenge.\n",
        "I will paste the instructions just as they were shared with me.\n",
        "#### Main instructions given\n",
        "\n",
        "You have 3 different files, each containing different information:\n",
        "\n",
        "- user information,\n",
        "- transactional information,\n",
        "- package delivery information.\n",
        "\n",
        "Based on these files, do the following:\n",
        "1. Explore the three files and, based on your findings, write a data dictionary for each file and a UML diagram.\n",
        "Hint: Think of all the areas that can help others better understand the data\n",
        "\n",
        "2. Create a merged file that consolidates the information. Make sure that:\n",
        "- Date formats are standardized to YYYY-MM-DD,\n",
        "- Timestamp fields have the Mexico City time zone,\n",
        "- Numeric fields have two decimal places,\n",
        "- Text strings do not exceed 256 characters.\n",
        "\n",
        "Please write comments in the script explaining each code statement.\n",
        "\n",
        "3. Design a DAG for the production deployment of your merged table creation. Based on that, answer the following questions:\n",
        "- Would you choose ETL or ELT? Why?\n",
        "- Which part of the process would you emphasize most? Why?\n",
        "\n",
        "4. Write SQL queries to answer the following:\n",
        "- How many users are there in total?\n",
        "- How many users have transacted?\n",
        "- What is the card delivery rate?\n",
        "- Which is the most efficient package courier?\n",
        "- Which are the top 10 categories with the most transactions?\n",
        "Hints:\n",
        "- Check data quality\n",
        "- There are different ways to measure efficiency with the information provided, think of one that can best measure impact.\n",
        "- Categories refers to transaction_type\n"
      ],
      "metadata": {
        "id": "h5zXNzekx6WO"
      }
    },
    {
      "cell_type": "markdown",
      "source": [
        "## How will this callenge be solved?"
      ],
      "metadata": {
        "id": "Ga7cj6a2y_Ty"
      }
    },
    {
      "cell_type": "markdown",
      "source": [
        "As shown in the instructions in the previous paragraphs, the challenge consists of different steps.\n",
        "\n",
        "In this notebook each of the instructions will be explained step by step and the titles will be shown in the index.\n",
        "\n",
        "The UML as well as the processes for the DAG and the queries will be explained in this document. As the same time if there is a  need  to  add external links it will be done and it will be explained how they work.\n",
        "\n",
        "At the same time this document the queries and the instructions will be stored in a repository on GitHub.\n",
        "\n",
        "[Challenge GitHug repository](https://github.com/FerDoranNie/Stori_analytics_engineering_challenge)\n",
        "\n",
        "It is important to note that the dialect used fot queries will be ***MySQL*** and the programming language for data manipulation, query execution and data display will be ***Python***."
      ],
      "metadata": {
        "id": "rkOtS9UFzJBU"
      }
    },
    {
      "cell_type": "markdown",
      "source": [
        "## Starting the challenge"
      ],
      "metadata": {
        "id": "IlKofnHi5fWB"
      }
    },
    {
      "cell_type": "markdown",
      "source": [
        "### Installing/Loading the necessary libraries and Google Drive connection"
      ],
      "metadata": {
        "id": "a14vu0hy5h5u"
      }
    },
    {
      "cell_type": "code",
      "source": [
        "## What are the libraries that Colaboratory has installed?\n",
        "import sys\n",
        "libraries = [x for x in  sys.modules]\n",
        "required_libraries = [\n",
        "    'pandas',  ### For Data Manipulation\n",
        "    'numpy',  ### For numeric manipulation and math calculations\n",
        "    'matplotlib', ## For charts\n",
        "    'seaborn',  ## For charts but more prettier\n",
        "    'plotnine', ## Charts like ggplot2\n",
        "    'datetime', ## For date and time manipulation\n",
        "    'pytz', ## For timezones\n",
        "    'sqlalchemy', ### For connection to SQL databases\n",
        "    'pymysql', ## For connection to MySQL dialect\n",
        "    'PyDrive2', ## For Google Drive Connection\n",
        "]\n",
        "\n",
        "\n",
        "non_installed_libraries = [x for x in required_libraries if x not in libraries]\n",
        "\n",
        "print('These libraries are not installed: \\n' + '\\n'.join('{}:{}'.format(*l)\n",
        "  for l in enumerate(non_installed_libraries, start=1)))\n",
        "\n",
        "\n"
      ],
      "metadata": {
        "colab": {
          "base_uri": "https://localhost:8080/"
        },
        "id": "JgptYmwC7_Ro",
        "outputId": "3f0f8ff5-b400-41f1-894d-dda1651a60d1"
      },
      "execution_count": 52,
      "outputs": [
        {
          "output_type": "stream",
          "name": "stdout",
          "text": [
            "These libraries are not installed: \n",
            "1:seaborn\n",
            "2:plotnine\n",
            "3:PyDrive2\n",
            "4:wordcloud \n"
          ]
        }
      ]
    },
    {
      "cell_type": "code",
      "source": [
        "! pip install pandas seaborn plotnine pytz sqlalchemy pymysql PyDrive2"
      ],
      "metadata": {
        "colab": {
          "base_uri": "https://localhost:8080/"
        },
        "id": "vEjdcIAO_PvR",
        "outputId": "63abe16e-948c-4ccd-cc24-6785a50115c0"
      },
      "execution_count": 53,
      "outputs": [
        {
          "output_type": "stream",
          "name": "stdout",
          "text": [
            "Requirement already satisfied: pandas in /usr/local/lib/python3.10/dist-packages (2.2.2)\n",
            "Requirement already satisfied: seaborn in /usr/local/lib/python3.10/dist-packages (0.13.2)\n",
            "Requirement already satisfied: plotnine in /usr/local/lib/python3.10/dist-packages (0.14.1)\n",
            "Requirement already satisfied: pytz in /usr/local/lib/python3.10/dist-packages (2024.2)\n",
            "Requirement already satisfied: sqlalchemy in /usr/local/lib/python3.10/dist-packages (2.0.36)\n",
            "Requirement already satisfied: pymysql in /usr/local/lib/python3.10/dist-packages (1.1.1)\n",
            "Requirement already satisfied: PyDrive2 in /usr/local/lib/python3.10/dist-packages (1.21.1)\n",
            "Requirement already satisfied: wordcloud in /usr/local/lib/python3.10/dist-packages (1.9.3)\n",
            "Requirement already satisfied: numpy>=1.22.4 in /usr/local/lib/python3.10/dist-packages (from pandas) (1.26.4)\n",
            "Requirement already satisfied: python-dateutil>=2.8.2 in /usr/local/lib/python3.10/dist-packages (from pandas) (2.8.2)\n",
            "Requirement already satisfied: tzdata>=2022.7 in /usr/local/lib/python3.10/dist-packages (from pandas) (2024.2)\n",
            "Requirement already satisfied: matplotlib!=3.6.1,>=3.4 in /usr/local/lib/python3.10/dist-packages (from seaborn) (3.8.0)\n",
            "Requirement already satisfied: mizani~=0.13.0 in /usr/local/lib/python3.10/dist-packages (from plotnine) (0.13.0)\n",
            "Requirement already satisfied: scipy>=1.8.0 in /usr/local/lib/python3.10/dist-packages (from plotnine) (1.13.1)\n",
            "Requirement already satisfied: statsmodels>=0.14.0 in /usr/local/lib/python3.10/dist-packages (from plotnine) (0.14.4)\n",
            "Requirement already satisfied: typing-extensions>=4.6.0 in /usr/local/lib/python3.10/dist-packages (from sqlalchemy) (4.12.2)\n",
            "Requirement already satisfied: greenlet!=0.4.17 in /usr/local/lib/python3.10/dist-packages (from sqlalchemy) (3.1.1)\n",
            "Requirement already satisfied: google-api-python-client>=1.12.5 in /usr/local/lib/python3.10/dist-packages (from PyDrive2) (2.151.0)\n",
            "Requirement already satisfied: oauth2client>=4.0.0 in /usr/local/lib/python3.10/dist-packages (from PyDrive2) (4.1.3)\n",
            "Requirement already satisfied: PyYAML>=3.0 in /usr/local/lib/python3.10/dist-packages (from PyDrive2) (6.0.2)\n",
            "Requirement already satisfied: pyOpenSSL>=19.1.0 in /usr/local/lib/python3.10/dist-packages (from PyDrive2) (24.2.1)\n",
            "Requirement already satisfied: pillow in /usr/local/lib/python3.10/dist-packages (from wordcloud) (11.0.0)\n",
            "Requirement already satisfied: httplib2<1.dev0,>=0.19.0 in /usr/local/lib/python3.10/dist-packages (from google-api-python-client>=1.12.5->PyDrive2) (0.22.0)\n",
            "Requirement already satisfied: google-auth!=2.24.0,!=2.25.0,<3.0.0.dev0,>=1.32.0 in /usr/local/lib/python3.10/dist-packages (from google-api-python-client>=1.12.5->PyDrive2) (2.27.0)\n",
            "Requirement already satisfied: google-auth-httplib2<1.0.0,>=0.2.0 in /usr/local/lib/python3.10/dist-packages (from google-api-python-client>=1.12.5->PyDrive2) (0.2.0)\n",
            "Requirement already satisfied: google-api-core!=2.0.*,!=2.1.*,!=2.2.*,!=2.3.0,<3.0.0.dev0,>=1.31.5 in /usr/local/lib/python3.10/dist-packages (from google-api-python-client>=1.12.5->PyDrive2) (2.19.2)\n",
            "Requirement already satisfied: uritemplate<5,>=3.0.1 in /usr/local/lib/python3.10/dist-packages (from google-api-python-client>=1.12.5->PyDrive2) (4.1.1)\n",
            "Requirement already satisfied: contourpy>=1.0.1 in /usr/local/lib/python3.10/dist-packages (from matplotlib!=3.6.1,>=3.4->seaborn) (1.3.0)\n",
            "Requirement already satisfied: cycler>=0.10 in /usr/local/lib/python3.10/dist-packages (from matplotlib!=3.6.1,>=3.4->seaborn) (0.12.1)\n",
            "Requirement already satisfied: fonttools>=4.22.0 in /usr/local/lib/python3.10/dist-packages (from matplotlib!=3.6.1,>=3.4->seaborn) (4.54.1)\n",
            "Requirement already satisfied: kiwisolver>=1.0.1 in /usr/local/lib/python3.10/dist-packages (from matplotlib!=3.6.1,>=3.4->seaborn) (1.4.7)\n",
            "Requirement already satisfied: packaging>=20.0 in /usr/local/lib/python3.10/dist-packages (from matplotlib!=3.6.1,>=3.4->seaborn) (24.2)\n",
            "Requirement already satisfied: pyparsing>=2.3.1 in /usr/local/lib/python3.10/dist-packages (from matplotlib!=3.6.1,>=3.4->seaborn) (3.2.0)\n",
            "Requirement already satisfied: pyasn1>=0.1.7 in /usr/local/lib/python3.10/dist-packages (from oauth2client>=4.0.0->PyDrive2) (0.6.1)\n",
            "Requirement already satisfied: pyasn1-modules>=0.0.5 in /usr/local/lib/python3.10/dist-packages (from oauth2client>=4.0.0->PyDrive2) (0.4.1)\n",
            "Requirement already satisfied: rsa>=3.1.4 in /usr/local/lib/python3.10/dist-packages (from oauth2client>=4.0.0->PyDrive2) (4.9)\n",
            "Requirement already satisfied: six>=1.6.1 in /usr/local/lib/python3.10/dist-packages (from oauth2client>=4.0.0->PyDrive2) (1.16.0)\n",
            "Requirement already satisfied: cryptography<44,>=41.0.5 in /usr/local/lib/python3.10/dist-packages (from pyOpenSSL>=19.1.0->PyDrive2) (43.0.3)\n",
            "Requirement already satisfied: patsy>=0.5.6 in /usr/local/lib/python3.10/dist-packages (from statsmodels>=0.14.0->plotnine) (0.5.6)\n",
            "Requirement already satisfied: cffi>=1.12 in /usr/local/lib/python3.10/dist-packages (from cryptography<44,>=41.0.5->pyOpenSSL>=19.1.0->PyDrive2) (1.17.1)\n",
            "Requirement already satisfied: googleapis-common-protos<2.0.dev0,>=1.56.2 in /usr/local/lib/python3.10/dist-packages (from google-api-core!=2.0.*,!=2.1.*,!=2.2.*,!=2.3.0,<3.0.0.dev0,>=1.31.5->google-api-python-client>=1.12.5->PyDrive2) (1.65.0)\n",
            "Requirement already satisfied: protobuf!=3.20.0,!=3.20.1,!=4.21.0,!=4.21.1,!=4.21.2,!=4.21.3,!=4.21.4,!=4.21.5,<6.0.0.dev0,>=3.19.5 in /usr/local/lib/python3.10/dist-packages (from google-api-core!=2.0.*,!=2.1.*,!=2.2.*,!=2.3.0,<3.0.0.dev0,>=1.31.5->google-api-python-client>=1.12.5->PyDrive2) (4.25.5)\n",
            "Requirement already satisfied: proto-plus<2.0.0dev,>=1.22.3 in /usr/local/lib/python3.10/dist-packages (from google-api-core!=2.0.*,!=2.1.*,!=2.2.*,!=2.3.0,<3.0.0.dev0,>=1.31.5->google-api-python-client>=1.12.5->PyDrive2) (1.25.0)\n",
            "Requirement already satisfied: requests<3.0.0.dev0,>=2.18.0 in /usr/local/lib/python3.10/dist-packages (from google-api-core!=2.0.*,!=2.1.*,!=2.2.*,!=2.3.0,<3.0.0.dev0,>=1.31.5->google-api-python-client>=1.12.5->PyDrive2) (2.32.3)\n",
            "Requirement already satisfied: cachetools<6.0,>=2.0.0 in /usr/local/lib/python3.10/dist-packages (from google-auth!=2.24.0,!=2.25.0,<3.0.0.dev0,>=1.32.0->google-api-python-client>=1.12.5->PyDrive2) (5.5.0)\n",
            "Requirement already satisfied: pycparser in /usr/local/lib/python3.10/dist-packages (from cffi>=1.12->cryptography<44,>=41.0.5->pyOpenSSL>=19.1.0->PyDrive2) (2.22)\n",
            "Requirement already satisfied: charset-normalizer<4,>=2 in /usr/local/lib/python3.10/dist-packages (from requests<3.0.0.dev0,>=2.18.0->google-api-core!=2.0.*,!=2.1.*,!=2.2.*,!=2.3.0,<3.0.0.dev0,>=1.31.5->google-api-python-client>=1.12.5->PyDrive2) (3.4.0)\n",
            "Requirement already satisfied: idna<4,>=2.5 in /usr/local/lib/python3.10/dist-packages (from requests<3.0.0.dev0,>=2.18.0->google-api-core!=2.0.*,!=2.1.*,!=2.2.*,!=2.3.0,<3.0.0.dev0,>=1.31.5->google-api-python-client>=1.12.5->PyDrive2) (3.10)\n",
            "Requirement already satisfied: urllib3<3,>=1.21.1 in /usr/local/lib/python3.10/dist-packages (from requests<3.0.0.dev0,>=2.18.0->google-api-core!=2.0.*,!=2.1.*,!=2.2.*,!=2.3.0,<3.0.0.dev0,>=1.31.5->google-api-python-client>=1.12.5->PyDrive2) (2.2.3)\n",
            "Requirement already satisfied: certifi>=2017.4.17 in /usr/local/lib/python3.10/dist-packages (from requests<3.0.0.dev0,>=2.18.0->google-api-core!=2.0.*,!=2.1.*,!=2.2.*,!=2.3.0,<3.0.0.dev0,>=1.31.5->google-api-python-client>=1.12.5->PyDrive2) (2024.8.30)\n"
          ]
        }
      ]
    },
    {
      "cell_type": "code",
      "source": [
        "### Google Drive Connection\n",
        "from pydrive2.auth import GoogleAuth\n",
        "from pydrive2.drive import GoogleDrive\n",
        "from google.colab import auth\n",
        "from oauth2client.client import GoogleCredentials"
      ],
      "metadata": {
        "id": "32bnfhmoCUuQ"
      },
      "execution_count": 54,
      "outputs": []
    },
    {
      "cell_type": "markdown",
      "source": [
        "The next code cell is necessary to run in order to get the data that we need.\n",
        "\n",
        "**Please run it and after of that a new window will appear and you must login with your google account, after of that you must copy the code and paste when it is required. (It is necessary if it's your first time logging in colaboratory if you logged before, the window does not appear).**\n",
        "\n",
        "The Google Drive files are public so any person can use them.\n"
      ],
      "metadata": {
        "id": "WoFkun1jCmca"
      }
    },
    {
      "cell_type": "code",
      "source": [
        "## Authentication with Google Drive, please read the instructions above for more information\n",
        "auth.authenticate_user()\n",
        "googleAuth  = GoogleAuth()\n",
        "googleAuth.credentials = GoogleCredentials.get_application_default()\n",
        "drive= GoogleDrive(googleAuth)\n"
      ],
      "metadata": {
        "id": "NWiiR5qrCfv7"
      },
      "execution_count": 55,
      "outputs": []
    },
    {
      "cell_type": "markdown",
      "source": [
        "### Load Data and exploratory analysis"
      ],
      "metadata": {
        "id": "X9XNe3sFFnj5"
      }
    },
    {
      "cell_type": "markdown",
      "source": [
        "#### Downloading the data from Google Drive"
      ],
      "metadata": {
        "id": "TI7CR4w3IWCR"
      }
    },
    {
      "cell_type": "code",
      "source": [
        "## Google Drive Links files\n",
        "### https://drive.google.com/file/d/1Du08zh07CbJNgrWKk2Lxro7SZ3VvYI_m/view?usp=drive_link\n",
        "### https://drive.google.com/file/d/1kx0ii4zh9Khhq2KV3Uuz2xvGvpo4xl6i/view?usp=drive_link\n",
        "### https://drive.google.com/file/d/123xteQxAcUDHz09KHWFfyzsuGV8q9r08/view?usp=drive_link\n",
        "### https://drive.google.com/file/d/1oDgCOxo99T8u2osPOaHfboFWIF773t9K/view?usp=drive_link\n",
        "\n",
        "packageDataIdDrive = '1Du08zh07CbJNgrWKk2Lxro7SZ3VvYI_m'\n",
        "transactionDataIdDrive = '1kx0ii4zh9Khhq2KV3Uuz2xvGvpo4xl6i'\n",
        "userDataIdDrive = '123xteQxAcUDHz09KHWFfyzsuGV8q9r08'\n",
        "pemFileIdDrive = '1oDgCOxo99T8u2osPOaHfboFWIF773t9K'"
      ],
      "metadata": {
        "id": "-zADlwHjCyin"
      },
      "execution_count": 56,
      "outputs": []
    },
    {
      "cell_type": "code",
      "source": [
        "## Function to download the files from Drive to Colab\n",
        "def downloadDrivefile(fileId, fileName):\n",
        "  fileDownloaded = drive.CreateFile({'id': fileId})\n",
        "  fileDownloaded.GetContentFile(fileName)\n"
      ],
      "metadata": {
        "id": "YR3JjbvZFSX7"
      },
      "execution_count": 57,
      "outputs": []
    },
    {
      "cell_type": "code",
      "source": [
        "## Download the files\n",
        "downloadDrivefile(fileId= packageDataIdDrive,\n",
        "                  fileName='package_delivery_info.csv')\n",
        "downloadDrivefile(fileId= transactionDataIdDrive,\n",
        "                  fileName='transaction_info.csv')\n",
        "downloadDrivefile(fileId= userDataIdDrive,\n",
        "                  fileName='user_info.csv')\n",
        "\n",
        "downloadDrivefile(fileId= pemFileIdDrive,\n",
        "                  fileName='ca.pem')\n"
      ],
      "metadata": {
        "id": "NwQPoh0RFUyi"
      },
      "execution_count": 58,
      "outputs": []
    },
    {
      "cell_type": "markdown",
      "source": [
        "#### Loading the data"
      ],
      "metadata": {
        "id": "i6D4W5lTIc0P"
      }
    },
    {
      "cell_type": "code",
      "source": [
        "import pandas as pd\n",
        "import numpy as np"
      ],
      "metadata": {
        "id": "WyrTHCQasNqV"
      },
      "execution_count": 59,
      "outputs": []
    },
    {
      "cell_type": "code",
      "source": [
        "## Loading the data with pandas functions\n",
        "packageData = pd.read_csv('package_delivery_info.csv')\n",
        "transactionData = pd.read_csv('transaction_info.csv')\n",
        "userData = pd.read_csv('user_info.csv')\n"
      ],
      "metadata": {
        "id": "W_fXdwl3sNtF"
      },
      "execution_count": 60,
      "outputs": []
    },
    {
      "cell_type": "code",
      "source": [
        "## Function to get the data types of the columns and show in a readable format\n",
        "def columnTypesDf(df):\n",
        "  typesValues = df.dtypes\n",
        "  mainDict =  {'col_name': typesValues.index,\n",
        "               'data_type_original': typesValues.values}\n",
        "  mainDf  = pd.DataFrame(mainDict)\n",
        "  mainDf['data_type_edited'] = np.where(mainDf['data_type_original']=='object',\n",
        "                                        'string', mainDf['data_type_original'])\n",
        "  return mainDf\n"
      ],
      "metadata": {
        "id": "KpMsyjaqLtZv"
      },
      "execution_count": 61,
      "outputs": []
    },
    {
      "cell_type": "markdown",
      "source": [
        "Let's check the datatypes of package data and see the first 3 rows of the dataset\n"
      ],
      "metadata": {
        "id": "kM4H9w8mnwGX"
      }
    },
    {
      "cell_type": "code",
      "source": [
        "columnTypesDf(packageData)"
      ],
      "metadata": {
        "colab": {
          "base_uri": "https://localhost:8080/",
          "height": 231
        },
        "id": "hVeAzpHmNy7l",
        "outputId": "dc4021e3-77cb-4f42-c9b4-9be60573dd0a"
      },
      "execution_count": 62,
      "outputs": [
        {
          "output_type": "execute_result",
          "data": {
            "text/plain": [
              "          col_name data_type_original data_type_edited\n",
              "0       package_id             object           string\n",
              "1          courier             object           string\n",
              "2    delivery_date             object           string\n",
              "3  delivery_status             object           string\n",
              "4          user_id             object           string"
            ],
            "text/html": [
              "\n",
              "  <div id=\"df-e68b8276-2d85-4060-aea1-bfdd2e3d4f92\" class=\"colab-df-container\">\n",
              "    <div>\n",
              "<style scoped>\n",
              "    .dataframe tbody tr th:only-of-type {\n",
              "        vertical-align: middle;\n",
              "    }\n",
              "\n",
              "    .dataframe tbody tr th {\n",
              "        vertical-align: top;\n",
              "    }\n",
              "\n",
              "    .dataframe thead th {\n",
              "        text-align: right;\n",
              "    }\n",
              "</style>\n",
              "<table border=\"1\" class=\"dataframe\">\n",
              "  <thead>\n",
              "    <tr style=\"text-align: right;\">\n",
              "      <th></th>\n",
              "      <th>col_name</th>\n",
              "      <th>data_type_original</th>\n",
              "      <th>data_type_edited</th>\n",
              "    </tr>\n",
              "  </thead>\n",
              "  <tbody>\n",
              "    <tr>\n",
              "      <th>0</th>\n",
              "      <td>package_id</td>\n",
              "      <td>object</td>\n",
              "      <td>string</td>\n",
              "    </tr>\n",
              "    <tr>\n",
              "      <th>1</th>\n",
              "      <td>courier</td>\n",
              "      <td>object</td>\n",
              "      <td>string</td>\n",
              "    </tr>\n",
              "    <tr>\n",
              "      <th>2</th>\n",
              "      <td>delivery_date</td>\n",
              "      <td>object</td>\n",
              "      <td>string</td>\n",
              "    </tr>\n",
              "    <tr>\n",
              "      <th>3</th>\n",
              "      <td>delivery_status</td>\n",
              "      <td>object</td>\n",
              "      <td>string</td>\n",
              "    </tr>\n",
              "    <tr>\n",
              "      <th>4</th>\n",
              "      <td>user_id</td>\n",
              "      <td>object</td>\n",
              "      <td>string</td>\n",
              "    </tr>\n",
              "  </tbody>\n",
              "</table>\n",
              "</div>\n",
              "    <div class=\"colab-df-buttons\">\n",
              "\n",
              "  <div class=\"colab-df-container\">\n",
              "    <button class=\"colab-df-convert\" onclick=\"convertToInteractive('df-e68b8276-2d85-4060-aea1-bfdd2e3d4f92')\"\n",
              "            title=\"Convert this dataframe to an interactive table.\"\n",
              "            style=\"display:none;\">\n",
              "\n",
              "  <svg xmlns=\"http://www.w3.org/2000/svg\" height=\"24px\" viewBox=\"0 -960 960 960\">\n",
              "    <path d=\"M120-120v-720h720v720H120Zm60-500h600v-160H180v160Zm220 220h160v-160H400v160Zm0 220h160v-160H400v160ZM180-400h160v-160H180v160Zm440 0h160v-160H620v160ZM180-180h160v-160H180v160Zm440 0h160v-160H620v160Z\"/>\n",
              "  </svg>\n",
              "    </button>\n",
              "\n",
              "  <style>\n",
              "    .colab-df-container {\n",
              "      display:flex;\n",
              "      gap: 12px;\n",
              "    }\n",
              "\n",
              "    .colab-df-convert {\n",
              "      background-color: #E8F0FE;\n",
              "      border: none;\n",
              "      border-radius: 50%;\n",
              "      cursor: pointer;\n",
              "      display: none;\n",
              "      fill: #1967D2;\n",
              "      height: 32px;\n",
              "      padding: 0 0 0 0;\n",
              "      width: 32px;\n",
              "    }\n",
              "\n",
              "    .colab-df-convert:hover {\n",
              "      background-color: #E2EBFA;\n",
              "      box-shadow: 0px 1px 2px rgba(60, 64, 67, 0.3), 0px 1px 3px 1px rgba(60, 64, 67, 0.15);\n",
              "      fill: #174EA6;\n",
              "    }\n",
              "\n",
              "    .colab-df-buttons div {\n",
              "      margin-bottom: 4px;\n",
              "    }\n",
              "\n",
              "    [theme=dark] .colab-df-convert {\n",
              "      background-color: #3B4455;\n",
              "      fill: #D2E3FC;\n",
              "    }\n",
              "\n",
              "    [theme=dark] .colab-df-convert:hover {\n",
              "      background-color: #434B5C;\n",
              "      box-shadow: 0px 1px 3px 1px rgba(0, 0, 0, 0.15);\n",
              "      filter: drop-shadow(0px 1px 2px rgba(0, 0, 0, 0.3));\n",
              "      fill: #FFFFFF;\n",
              "    }\n",
              "  </style>\n",
              "\n",
              "    <script>\n",
              "      const buttonEl =\n",
              "        document.querySelector('#df-e68b8276-2d85-4060-aea1-bfdd2e3d4f92 button.colab-df-convert');\n",
              "      buttonEl.style.display =\n",
              "        google.colab.kernel.accessAllowed ? 'block' : 'none';\n",
              "\n",
              "      async function convertToInteractive(key) {\n",
              "        const element = document.querySelector('#df-e68b8276-2d85-4060-aea1-bfdd2e3d4f92');\n",
              "        const dataTable =\n",
              "          await google.colab.kernel.invokeFunction('convertToInteractive',\n",
              "                                                    [key], {});\n",
              "        if (!dataTable) return;\n",
              "\n",
              "        const docLinkHtml = 'Like what you see? Visit the ' +\n",
              "          '<a target=\"_blank\" href=https://colab.research.google.com/notebooks/data_table.ipynb>data table notebook</a>'\n",
              "          + ' to learn more about interactive tables.';\n",
              "        element.innerHTML = '';\n",
              "        dataTable['output_type'] = 'display_data';\n",
              "        await google.colab.output.renderOutput(dataTable, element);\n",
              "        const docLink = document.createElement('div');\n",
              "        docLink.innerHTML = docLinkHtml;\n",
              "        element.appendChild(docLink);\n",
              "      }\n",
              "    </script>\n",
              "  </div>\n",
              "\n",
              "\n",
              "<div id=\"df-e5d71c90-66c1-4f39-beb6-9c84d7529185\">\n",
              "  <button class=\"colab-df-quickchart\" onclick=\"quickchart('df-e5d71c90-66c1-4f39-beb6-9c84d7529185')\"\n",
              "            title=\"Suggest charts\"\n",
              "            style=\"display:none;\">\n",
              "\n",
              "<svg xmlns=\"http://www.w3.org/2000/svg\" height=\"24px\"viewBox=\"0 0 24 24\"\n",
              "     width=\"24px\">\n",
              "    <g>\n",
              "        <path d=\"M19 3H5c-1.1 0-2 .9-2 2v14c0 1.1.9 2 2 2h14c1.1 0 2-.9 2-2V5c0-1.1-.9-2-2-2zM9 17H7v-7h2v7zm4 0h-2V7h2v10zm4 0h-2v-4h2v4z\"/>\n",
              "    </g>\n",
              "</svg>\n",
              "  </button>\n",
              "\n",
              "<style>\n",
              "  .colab-df-quickchart {\n",
              "      --bg-color: #E8F0FE;\n",
              "      --fill-color: #1967D2;\n",
              "      --hover-bg-color: #E2EBFA;\n",
              "      --hover-fill-color: #174EA6;\n",
              "      --disabled-fill-color: #AAA;\n",
              "      --disabled-bg-color: #DDD;\n",
              "  }\n",
              "\n",
              "  [theme=dark] .colab-df-quickchart {\n",
              "      --bg-color: #3B4455;\n",
              "      --fill-color: #D2E3FC;\n",
              "      --hover-bg-color: #434B5C;\n",
              "      --hover-fill-color: #FFFFFF;\n",
              "      --disabled-bg-color: #3B4455;\n",
              "      --disabled-fill-color: #666;\n",
              "  }\n",
              "\n",
              "  .colab-df-quickchart {\n",
              "    background-color: var(--bg-color);\n",
              "    border: none;\n",
              "    border-radius: 50%;\n",
              "    cursor: pointer;\n",
              "    display: none;\n",
              "    fill: var(--fill-color);\n",
              "    height: 32px;\n",
              "    padding: 0;\n",
              "    width: 32px;\n",
              "  }\n",
              "\n",
              "  .colab-df-quickchart:hover {\n",
              "    background-color: var(--hover-bg-color);\n",
              "    box-shadow: 0 1px 2px rgba(60, 64, 67, 0.3), 0 1px 3px 1px rgba(60, 64, 67, 0.15);\n",
              "    fill: var(--button-hover-fill-color);\n",
              "  }\n",
              "\n",
              "  .colab-df-quickchart-complete:disabled,\n",
              "  .colab-df-quickchart-complete:disabled:hover {\n",
              "    background-color: var(--disabled-bg-color);\n",
              "    fill: var(--disabled-fill-color);\n",
              "    box-shadow: none;\n",
              "  }\n",
              "\n",
              "  .colab-df-spinner {\n",
              "    border: 2px solid var(--fill-color);\n",
              "    border-color: transparent;\n",
              "    border-bottom-color: var(--fill-color);\n",
              "    animation:\n",
              "      spin 1s steps(1) infinite;\n",
              "  }\n",
              "\n",
              "  @keyframes spin {\n",
              "    0% {\n",
              "      border-color: transparent;\n",
              "      border-bottom-color: var(--fill-color);\n",
              "      border-left-color: var(--fill-color);\n",
              "    }\n",
              "    20% {\n",
              "      border-color: transparent;\n",
              "      border-left-color: var(--fill-color);\n",
              "      border-top-color: var(--fill-color);\n",
              "    }\n",
              "    30% {\n",
              "      border-color: transparent;\n",
              "      border-left-color: var(--fill-color);\n",
              "      border-top-color: var(--fill-color);\n",
              "      border-right-color: var(--fill-color);\n",
              "    }\n",
              "    40% {\n",
              "      border-color: transparent;\n",
              "      border-right-color: var(--fill-color);\n",
              "      border-top-color: var(--fill-color);\n",
              "    }\n",
              "    60% {\n",
              "      border-color: transparent;\n",
              "      border-right-color: var(--fill-color);\n",
              "    }\n",
              "    80% {\n",
              "      border-color: transparent;\n",
              "      border-right-color: var(--fill-color);\n",
              "      border-bottom-color: var(--fill-color);\n",
              "    }\n",
              "    90% {\n",
              "      border-color: transparent;\n",
              "      border-bottom-color: var(--fill-color);\n",
              "    }\n",
              "  }\n",
              "</style>\n",
              "\n",
              "  <script>\n",
              "    async function quickchart(key) {\n",
              "      const quickchartButtonEl =\n",
              "        document.querySelector('#' + key + ' button');\n",
              "      quickchartButtonEl.disabled = true;  // To prevent multiple clicks.\n",
              "      quickchartButtonEl.classList.add('colab-df-spinner');\n",
              "      try {\n",
              "        const charts = await google.colab.kernel.invokeFunction(\n",
              "            'suggestCharts', [key], {});\n",
              "      } catch (error) {\n",
              "        console.error('Error during call to suggestCharts:', error);\n",
              "      }\n",
              "      quickchartButtonEl.classList.remove('colab-df-spinner');\n",
              "      quickchartButtonEl.classList.add('colab-df-quickchart-complete');\n",
              "    }\n",
              "    (() => {\n",
              "      let quickchartButtonEl =\n",
              "        document.querySelector('#df-e5d71c90-66c1-4f39-beb6-9c84d7529185 button');\n",
              "      quickchartButtonEl.style.display =\n",
              "        google.colab.kernel.accessAllowed ? 'block' : 'none';\n",
              "    })();\n",
              "  </script>\n",
              "</div>\n",
              "\n",
              "    </div>\n",
              "  </div>\n"
            ],
            "application/vnd.google.colaboratory.intrinsic+json": {
              "type": "dataframe",
              "summary": "{\n  \"name\": \"columnTypesDf(packageData)\",\n  \"rows\": 5,\n  \"fields\": [\n    {\n      \"column\": \"col_name\",\n      \"properties\": {\n        \"dtype\": \"string\",\n        \"num_unique_values\": 5,\n        \"samples\": [\n          \"courier\",\n          \"user_id\",\n          \"delivery_date\"\n        ],\n        \"semantic_type\": \"\",\n        \"description\": \"\"\n      }\n    },\n    {\n      \"column\": \"data_type_original\",\n      \"properties\": {\n        \"dtype\": \"category\",\n        \"num_unique_values\": 1,\n        \"samples\": [\n          \"object\"\n        ],\n        \"semantic_type\": \"\",\n        \"description\": \"\"\n      }\n    },\n    {\n      \"column\": \"data_type_edited\",\n      \"properties\": {\n        \"dtype\": \"category\",\n        \"num_unique_values\": 1,\n        \"samples\": [\n          \"string\"\n        ],\n        \"semantic_type\": \"\",\n        \"description\": \"\"\n      }\n    }\n  ]\n}"
            },
            "application/vnd.google.colaboratory.module+javascript": "\n      import \"https://ssl.gstatic.com/colaboratory/data_table/54ded79905fc55e4/data_table.js\";\n\n      const table = window.createDataTable({\n        data: [[{\n            'v': 0,\n            'f': \"0\",\n        },\n\"package_id\",\n\"object\",\n\"string\"],\n [{\n            'v': 1,\n            'f': \"1\",\n        },\n\"courier\",\n\"object\",\n\"string\"],\n [{\n            'v': 2,\n            'f': \"2\",\n        },\n\"delivery_date\",\n\"object\",\n\"string\"],\n [{\n            'v': 3,\n            'f': \"3\",\n        },\n\"delivery_status\",\n\"object\",\n\"string\"],\n [{\n            'v': 4,\n            'f': \"4\",\n        },\n\"user_id\",\n\"object\",\n\"string\"]],\n        columns: [[\"number\", \"index\"], [\"string\", \"col_name\"], [\"string\", \"data_type_original\"], [\"string\", \"data_type_edited\"]],\n        columnOptions: [{\"width\": \"1px\", \"className\": \"index_column\"}],\n        rowsPerPage: 25,\n        helpUrl: \"https://colab.research.google.com/notebooks/data_table.ipynb\",\n        suppressOutputScrolling: true,\n        minimumWidth: undefined,\n      });\n\n      function appendQuickchartButton(parentElement) {\n        let quickchartButtonContainerElement = document.createElement('div');\n        quickchartButtonContainerElement.innerHTML = `\n<div id=\"df-add7c4ef-c496-4e3f-b342-6c95327f4cbc\">\n  <button class=\"colab-df-quickchart\" onclick=\"quickchart('df-add7c4ef-c496-4e3f-b342-6c95327f4cbc')\"\n            title=\"Suggest charts\"\n            style=\"display:none;\">\n    \n<svg xmlns=\"http://www.w3.org/2000/svg\" height=\"24px\"viewBox=\"0 0 24 24\"\n     width=\"24px\">\n    <g>\n        <path d=\"M19 3H5c-1.1 0-2 .9-2 2v14c0 1.1.9 2 2 2h14c1.1 0 2-.9 2-2V5c0-1.1-.9-2-2-2zM9 17H7v-7h2v7zm4 0h-2V7h2v10zm4 0h-2v-4h2v4z\"/>\n    </g>\n</svg>\n  </button>\n  \n<style>\n  .colab-df-quickchart {\n      --bg-color: #E8F0FE;\n      --fill-color: #1967D2;\n      --hover-bg-color: #E2EBFA;\n      --hover-fill-color: #174EA6;\n      --disabled-fill-color: #AAA;\n      --disabled-bg-color: #DDD;\n  }\n\n  [theme=dark] .colab-df-quickchart {\n      --bg-color: #3B4455;\n      --fill-color: #D2E3FC;\n      --hover-bg-color: #434B5C;\n      --hover-fill-color: #FFFFFF;\n      --disabled-bg-color: #3B4455;\n      --disabled-fill-color: #666;\n  }\n\n  .colab-df-quickchart {\n    background-color: var(--bg-color);\n    border: none;\n    border-radius: 50%;\n    cursor: pointer;\n    display: none;\n    fill: var(--fill-color);\n    height: 32px;\n    padding: 0;\n    width: 32px;\n  }\n\n  .colab-df-quickchart:hover {\n    background-color: var(--hover-bg-color);\n    box-shadow: 0 1px 2px rgba(60, 64, 67, 0.3), 0 1px 3px 1px rgba(60, 64, 67, 0.15);\n    fill: var(--button-hover-fill-color);\n  }\n\n  .colab-df-quickchart-complete:disabled,\n  .colab-df-quickchart-complete:disabled:hover {\n    background-color: var(--disabled-bg-color);\n    fill: var(--disabled-fill-color);\n    box-shadow: none;\n  }\n\n  .colab-df-spinner {\n    border: 2px solid var(--fill-color);\n    border-color: transparent;\n    border-bottom-color: var(--fill-color);\n    animation:\n      spin 1s steps(1) infinite;\n  }\n\n  @keyframes spin {\n    0% {\n      border-color: transparent;\n      border-bottom-color: var(--fill-color);\n      border-left-color: var(--fill-color);\n    }\n    20% {\n      border-color: transparent;\n      border-left-color: var(--fill-color);\n      border-top-color: var(--fill-color);\n    }\n    30% {\n      border-color: transparent;\n      border-left-color: var(--fill-color);\n      border-top-color: var(--fill-color);\n      border-right-color: var(--fill-color);\n    }\n    40% {\n      border-color: transparent;\n      border-right-color: var(--fill-color);\n      border-top-color: var(--fill-color);\n    }\n    60% {\n      border-color: transparent;\n      border-right-color: var(--fill-color);\n    }\n    80% {\n      border-color: transparent;\n      border-right-color: var(--fill-color);\n      border-bottom-color: var(--fill-color);\n    }\n    90% {\n      border-color: transparent;\n      border-bottom-color: var(--fill-color);\n    }\n  }\n</style>\n\n  <script>\n    async function quickchart(key) {\n      const quickchartButtonEl =\n        document.querySelector('#' + key + ' button');\n      quickchartButtonEl.disabled = true;  // To prevent multiple clicks.\n      quickchartButtonEl.classList.add('colab-df-spinner');\n      try {\n        const charts = await google.colab.kernel.invokeFunction(\n            'suggestCharts', [key], {});\n      } catch (error) {\n        console.error('Error during call to suggestCharts:', error);\n      }\n      quickchartButtonEl.classList.remove('colab-df-spinner');\n      quickchartButtonEl.classList.add('colab-df-quickchart-complete');\n    }\n    (() => {\n      let quickchartButtonEl =\n        document.querySelector('#df-add7c4ef-c496-4e3f-b342-6c95327f4cbc button');\n      quickchartButtonEl.style.display =\n        google.colab.kernel.accessAllowed ? 'block' : 'none';\n    })();\n  </script>\n</div>`;\n        parentElement.appendChild(quickchartButtonContainerElement);\n      }\n\n      appendQuickchartButton(table);\n    "
          },
          "metadata": {},
          "execution_count": 62
        }
      ]
    },
    {
      "cell_type": "code",
      "source": [
        "packageData.head(3)"
      ],
      "metadata": {
        "colab": {
          "base_uri": "https://localhost:8080/",
          "height": 188
        },
        "id": "rIWKbNCfswed",
        "outputId": "feba2422-eaf7-426f-bbeb-f1db160b40eb"
      },
      "execution_count": 63,
      "outputs": [
        {
          "output_type": "execute_result",
          "data": {
            "text/plain": [
              "                             package_id courier delivery_date delivery_status  \\\n",
              "0  80c09506-8a61-454a-a226-22e639d8795b     DHL    09-12-2022       Delivered   \n",
              "1  2e321909-afe9-4ed2-9065-05425bce5394     ups    05/16/2021      In Transit   \n",
              "2  89b8b5d6-b90e-4a29-9d1e-a9a9db4d1e03     UPS    2022-08-30         Pending   \n",
              "\n",
              "                                user_id  \n",
              "0  1d10b266-b7b2-4258-88b3-3957de0461ea  \n",
              "1  bf04c0b9-8a09-49e4-b4a5-0b2915bc5143  \n",
              "2  616735b6-b8db-4517-bb3f-8171ec2a6166  "
            ],
            "text/html": [
              "\n",
              "  <div id=\"df-9bf29500-38a6-4f73-b954-eb9ffa51f4a0\" class=\"colab-df-container\">\n",
              "    <div>\n",
              "<style scoped>\n",
              "    .dataframe tbody tr th:only-of-type {\n",
              "        vertical-align: middle;\n",
              "    }\n",
              "\n",
              "    .dataframe tbody tr th {\n",
              "        vertical-align: top;\n",
              "    }\n",
              "\n",
              "    .dataframe thead th {\n",
              "        text-align: right;\n",
              "    }\n",
              "</style>\n",
              "<table border=\"1\" class=\"dataframe\">\n",
              "  <thead>\n",
              "    <tr style=\"text-align: right;\">\n",
              "      <th></th>\n",
              "      <th>package_id</th>\n",
              "      <th>courier</th>\n",
              "      <th>delivery_date</th>\n",
              "      <th>delivery_status</th>\n",
              "      <th>user_id</th>\n",
              "    </tr>\n",
              "  </thead>\n",
              "  <tbody>\n",
              "    <tr>\n",
              "      <th>0</th>\n",
              "      <td>80c09506-8a61-454a-a226-22e639d8795b</td>\n",
              "      <td>DHL</td>\n",
              "      <td>09-12-2022</td>\n",
              "      <td>Delivered</td>\n",
              "      <td>1d10b266-b7b2-4258-88b3-3957de0461ea</td>\n",
              "    </tr>\n",
              "    <tr>\n",
              "      <th>1</th>\n",
              "      <td>2e321909-afe9-4ed2-9065-05425bce5394</td>\n",
              "      <td>ups</td>\n",
              "      <td>05/16/2021</td>\n",
              "      <td>In Transit</td>\n",
              "      <td>bf04c0b9-8a09-49e4-b4a5-0b2915bc5143</td>\n",
              "    </tr>\n",
              "    <tr>\n",
              "      <th>2</th>\n",
              "      <td>89b8b5d6-b90e-4a29-9d1e-a9a9db4d1e03</td>\n",
              "      <td>UPS</td>\n",
              "      <td>2022-08-30</td>\n",
              "      <td>Pending</td>\n",
              "      <td>616735b6-b8db-4517-bb3f-8171ec2a6166</td>\n",
              "    </tr>\n",
              "  </tbody>\n",
              "</table>\n",
              "</div>\n",
              "    <div class=\"colab-df-buttons\">\n",
              "\n",
              "  <div class=\"colab-df-container\">\n",
              "    <button class=\"colab-df-convert\" onclick=\"convertToInteractive('df-9bf29500-38a6-4f73-b954-eb9ffa51f4a0')\"\n",
              "            title=\"Convert this dataframe to an interactive table.\"\n",
              "            style=\"display:none;\">\n",
              "\n",
              "  <svg xmlns=\"http://www.w3.org/2000/svg\" height=\"24px\" viewBox=\"0 -960 960 960\">\n",
              "    <path d=\"M120-120v-720h720v720H120Zm60-500h600v-160H180v160Zm220 220h160v-160H400v160Zm0 220h160v-160H400v160ZM180-400h160v-160H180v160Zm440 0h160v-160H620v160ZM180-180h160v-160H180v160Zm440 0h160v-160H620v160Z\"/>\n",
              "  </svg>\n",
              "    </button>\n",
              "\n",
              "  <style>\n",
              "    .colab-df-container {\n",
              "      display:flex;\n",
              "      gap: 12px;\n",
              "    }\n",
              "\n",
              "    .colab-df-convert {\n",
              "      background-color: #E8F0FE;\n",
              "      border: none;\n",
              "      border-radius: 50%;\n",
              "      cursor: pointer;\n",
              "      display: none;\n",
              "      fill: #1967D2;\n",
              "      height: 32px;\n",
              "      padding: 0 0 0 0;\n",
              "      width: 32px;\n",
              "    }\n",
              "\n",
              "    .colab-df-convert:hover {\n",
              "      background-color: #E2EBFA;\n",
              "      box-shadow: 0px 1px 2px rgba(60, 64, 67, 0.3), 0px 1px 3px 1px rgba(60, 64, 67, 0.15);\n",
              "      fill: #174EA6;\n",
              "    }\n",
              "\n",
              "    .colab-df-buttons div {\n",
              "      margin-bottom: 4px;\n",
              "    }\n",
              "\n",
              "    [theme=dark] .colab-df-convert {\n",
              "      background-color: #3B4455;\n",
              "      fill: #D2E3FC;\n",
              "    }\n",
              "\n",
              "    [theme=dark] .colab-df-convert:hover {\n",
              "      background-color: #434B5C;\n",
              "      box-shadow: 0px 1px 3px 1px rgba(0, 0, 0, 0.15);\n",
              "      filter: drop-shadow(0px 1px 2px rgba(0, 0, 0, 0.3));\n",
              "      fill: #FFFFFF;\n",
              "    }\n",
              "  </style>\n",
              "\n",
              "    <script>\n",
              "      const buttonEl =\n",
              "        document.querySelector('#df-9bf29500-38a6-4f73-b954-eb9ffa51f4a0 button.colab-df-convert');\n",
              "      buttonEl.style.display =\n",
              "        google.colab.kernel.accessAllowed ? 'block' : 'none';\n",
              "\n",
              "      async function convertToInteractive(key) {\n",
              "        const element = document.querySelector('#df-9bf29500-38a6-4f73-b954-eb9ffa51f4a0');\n",
              "        const dataTable =\n",
              "          await google.colab.kernel.invokeFunction('convertToInteractive',\n",
              "                                                    [key], {});\n",
              "        if (!dataTable) return;\n",
              "\n",
              "        const docLinkHtml = 'Like what you see? Visit the ' +\n",
              "          '<a target=\"_blank\" href=https://colab.research.google.com/notebooks/data_table.ipynb>data table notebook</a>'\n",
              "          + ' to learn more about interactive tables.';\n",
              "        element.innerHTML = '';\n",
              "        dataTable['output_type'] = 'display_data';\n",
              "        await google.colab.output.renderOutput(dataTable, element);\n",
              "        const docLink = document.createElement('div');\n",
              "        docLink.innerHTML = docLinkHtml;\n",
              "        element.appendChild(docLink);\n",
              "      }\n",
              "    </script>\n",
              "  </div>\n",
              "\n",
              "\n",
              "<div id=\"df-269214db-c647-42d1-b595-e1d3f57da413\">\n",
              "  <button class=\"colab-df-quickchart\" onclick=\"quickchart('df-269214db-c647-42d1-b595-e1d3f57da413')\"\n",
              "            title=\"Suggest charts\"\n",
              "            style=\"display:none;\">\n",
              "\n",
              "<svg xmlns=\"http://www.w3.org/2000/svg\" height=\"24px\"viewBox=\"0 0 24 24\"\n",
              "     width=\"24px\">\n",
              "    <g>\n",
              "        <path d=\"M19 3H5c-1.1 0-2 .9-2 2v14c0 1.1.9 2 2 2h14c1.1 0 2-.9 2-2V5c0-1.1-.9-2-2-2zM9 17H7v-7h2v7zm4 0h-2V7h2v10zm4 0h-2v-4h2v4z\"/>\n",
              "    </g>\n",
              "</svg>\n",
              "  </button>\n",
              "\n",
              "<style>\n",
              "  .colab-df-quickchart {\n",
              "      --bg-color: #E8F0FE;\n",
              "      --fill-color: #1967D2;\n",
              "      --hover-bg-color: #E2EBFA;\n",
              "      --hover-fill-color: #174EA6;\n",
              "      --disabled-fill-color: #AAA;\n",
              "      --disabled-bg-color: #DDD;\n",
              "  }\n",
              "\n",
              "  [theme=dark] .colab-df-quickchart {\n",
              "      --bg-color: #3B4455;\n",
              "      --fill-color: #D2E3FC;\n",
              "      --hover-bg-color: #434B5C;\n",
              "      --hover-fill-color: #FFFFFF;\n",
              "      --disabled-bg-color: #3B4455;\n",
              "      --disabled-fill-color: #666;\n",
              "  }\n",
              "\n",
              "  .colab-df-quickchart {\n",
              "    background-color: var(--bg-color);\n",
              "    border: none;\n",
              "    border-radius: 50%;\n",
              "    cursor: pointer;\n",
              "    display: none;\n",
              "    fill: var(--fill-color);\n",
              "    height: 32px;\n",
              "    padding: 0;\n",
              "    width: 32px;\n",
              "  }\n",
              "\n",
              "  .colab-df-quickchart:hover {\n",
              "    background-color: var(--hover-bg-color);\n",
              "    box-shadow: 0 1px 2px rgba(60, 64, 67, 0.3), 0 1px 3px 1px rgba(60, 64, 67, 0.15);\n",
              "    fill: var(--button-hover-fill-color);\n",
              "  }\n",
              "\n",
              "  .colab-df-quickchart-complete:disabled,\n",
              "  .colab-df-quickchart-complete:disabled:hover {\n",
              "    background-color: var(--disabled-bg-color);\n",
              "    fill: var(--disabled-fill-color);\n",
              "    box-shadow: none;\n",
              "  }\n",
              "\n",
              "  .colab-df-spinner {\n",
              "    border: 2px solid var(--fill-color);\n",
              "    border-color: transparent;\n",
              "    border-bottom-color: var(--fill-color);\n",
              "    animation:\n",
              "      spin 1s steps(1) infinite;\n",
              "  }\n",
              "\n",
              "  @keyframes spin {\n",
              "    0% {\n",
              "      border-color: transparent;\n",
              "      border-bottom-color: var(--fill-color);\n",
              "      border-left-color: var(--fill-color);\n",
              "    }\n",
              "    20% {\n",
              "      border-color: transparent;\n",
              "      border-left-color: var(--fill-color);\n",
              "      border-top-color: var(--fill-color);\n",
              "    }\n",
              "    30% {\n",
              "      border-color: transparent;\n",
              "      border-left-color: var(--fill-color);\n",
              "      border-top-color: var(--fill-color);\n",
              "      border-right-color: var(--fill-color);\n",
              "    }\n",
              "    40% {\n",
              "      border-color: transparent;\n",
              "      border-right-color: var(--fill-color);\n",
              "      border-top-color: var(--fill-color);\n",
              "    }\n",
              "    60% {\n",
              "      border-color: transparent;\n",
              "      border-right-color: var(--fill-color);\n",
              "    }\n",
              "    80% {\n",
              "      border-color: transparent;\n",
              "      border-right-color: var(--fill-color);\n",
              "      border-bottom-color: var(--fill-color);\n",
              "    }\n",
              "    90% {\n",
              "      border-color: transparent;\n",
              "      border-bottom-color: var(--fill-color);\n",
              "    }\n",
              "  }\n",
              "</style>\n",
              "\n",
              "  <script>\n",
              "    async function quickchart(key) {\n",
              "      const quickchartButtonEl =\n",
              "        document.querySelector('#' + key + ' button');\n",
              "      quickchartButtonEl.disabled = true;  // To prevent multiple clicks.\n",
              "      quickchartButtonEl.classList.add('colab-df-spinner');\n",
              "      try {\n",
              "        const charts = await google.colab.kernel.invokeFunction(\n",
              "            'suggestCharts', [key], {});\n",
              "      } catch (error) {\n",
              "        console.error('Error during call to suggestCharts:', error);\n",
              "      }\n",
              "      quickchartButtonEl.classList.remove('colab-df-spinner');\n",
              "      quickchartButtonEl.classList.add('colab-df-quickchart-complete');\n",
              "    }\n",
              "    (() => {\n",
              "      let quickchartButtonEl =\n",
              "        document.querySelector('#df-269214db-c647-42d1-b595-e1d3f57da413 button');\n",
              "      quickchartButtonEl.style.display =\n",
              "        google.colab.kernel.accessAllowed ? 'block' : 'none';\n",
              "    })();\n",
              "  </script>\n",
              "</div>\n",
              "\n",
              "    </div>\n",
              "  </div>\n"
            ],
            "application/vnd.google.colaboratory.intrinsic+json": {
              "type": "dataframe",
              "variable_name": "packageData",
              "summary": "{\n  \"name\": \"packageData\",\n  \"rows\": 10002,\n  \"fields\": [\n    {\n      \"column\": \"package_id\",\n      \"properties\": {\n        \"dtype\": \"string\",\n        \"num_unique_values\": 10000,\n        \"samples\": [\n          \"1fb773ee-c49f-4545-bcee-0d54681897a3\",\n          \"6f89be65-b721-4a57-8cf6-bf7cf5ef9a94\",\n          \"86c47e82-baa0-4f57-aa17-6877e728d014\"\n        ],\n        \"semantic_type\": \"\",\n        \"description\": \"\"\n      }\n    },\n    {\n      \"column\": \"courier\",\n      \"properties\": {\n        \"dtype\": \"category\",\n        \"num_unique_values\": 5,\n        \"samples\": [\n          \"ups\",\n          \"DHL   \",\n          \"UPS\"\n        ],\n        \"semantic_type\": \"\",\n        \"description\": \"\"\n      }\n    },\n    {\n      \"column\": \"delivery_date\",\n      \"properties\": {\n        \"dtype\": \"category\",\n        \"num_unique_values\": 3921,\n        \"samples\": [\n          \"2024-03-08\",\n          \"04/05/2024\",\n          \"05/10/2022\"\n        ],\n        \"semantic_type\": \"\",\n        \"description\": \"\"\n      }\n    },\n    {\n      \"column\": \"delivery_status\",\n      \"properties\": {\n        \"dtype\": \"category\",\n        \"num_unique_values\": 4,\n        \"samples\": [\n          \"In Transit\",\n          \"Lost\",\n          \"Delivered\"\n        ],\n        \"semantic_type\": \"\",\n        \"description\": \"\"\n      }\n    },\n    {\n      \"column\": \"user_id\",\n      \"properties\": {\n        \"dtype\": \"string\",\n        \"num_unique_values\": 10000,\n        \"samples\": [\n          \"4eccfb6b-1782-4880-9694-cccd7bfa83b9\",\n          \"91952c5b-8a7a-4fb9-98a0-96481517d331\",\n          \"64725b8c-50ad-4172-9e59-5163025374b6\"\n        ],\n        \"semantic_type\": \"\",\n        \"description\": \"\"\n      }\n    }\n  ]\n}"
            },
            "application/vnd.google.colaboratory.module+javascript": "\n      import \"https://ssl.gstatic.com/colaboratory/data_table/54ded79905fc55e4/data_table.js\";\n\n      const table = window.createDataTable({\n        data: [[{\n            'v': 0,\n            'f': \"0\",\n        },\n\"80c09506-8a61-454a-a226-22e639d8795b\",\n\"DHL\",\n\"09-12-2022\",\n\"Delivered\",\n\"1d10b266-b7b2-4258-88b3-3957de0461ea\"],\n [{\n            'v': 1,\n            'f': \"1\",\n        },\n\"2e321909-afe9-4ed2-9065-05425bce5394\",\n\"ups\",\n\"05/16/2021\",\n\"In Transit\",\n\"bf04c0b9-8a09-49e4-b4a5-0b2915bc5143\"],\n [{\n            'v': 2,\n            'f': \"2\",\n        },\n\"89b8b5d6-b90e-4a29-9d1e-a9a9db4d1e03\",\n\"UPS\",\n\"2022-08-30\",\n\"Pending\",\n\"616735b6-b8db-4517-bb3f-8171ec2a6166\"]],\n        columns: [[\"number\", \"index\"], [\"string\", \"package_id\"], [\"string\", \"courier\"], [\"string\", \"delivery_date\"], [\"string\", \"delivery_status\"], [\"string\", \"user_id\"]],\n        columnOptions: [{\"width\": \"1px\", \"className\": \"index_column\"}],\n        rowsPerPage: 25,\n        helpUrl: \"https://colab.research.google.com/notebooks/data_table.ipynb\",\n        suppressOutputScrolling: true,\n        minimumWidth: undefined,\n      });\n\n      function appendQuickchartButton(parentElement) {\n        let quickchartButtonContainerElement = document.createElement('div');\n        quickchartButtonContainerElement.innerHTML = `\n<div id=\"df-bff722be-3f3f-4edb-becf-f5b8ce7778e6\">\n  <button class=\"colab-df-quickchart\" onclick=\"quickchart('df-bff722be-3f3f-4edb-becf-f5b8ce7778e6')\"\n            title=\"Suggest charts\"\n            style=\"display:none;\">\n    \n<svg xmlns=\"http://www.w3.org/2000/svg\" height=\"24px\"viewBox=\"0 0 24 24\"\n     width=\"24px\">\n    <g>\n        <path d=\"M19 3H5c-1.1 0-2 .9-2 2v14c0 1.1.9 2 2 2h14c1.1 0 2-.9 2-2V5c0-1.1-.9-2-2-2zM9 17H7v-7h2v7zm4 0h-2V7h2v10zm4 0h-2v-4h2v4z\"/>\n    </g>\n</svg>\n  </button>\n  \n<style>\n  .colab-df-quickchart {\n      --bg-color: #E8F0FE;\n      --fill-color: #1967D2;\n      --hover-bg-color: #E2EBFA;\n      --hover-fill-color: #174EA6;\n      --disabled-fill-color: #AAA;\n      --disabled-bg-color: #DDD;\n  }\n\n  [theme=dark] .colab-df-quickchart {\n      --bg-color: #3B4455;\n      --fill-color: #D2E3FC;\n      --hover-bg-color: #434B5C;\n      --hover-fill-color: #FFFFFF;\n      --disabled-bg-color: #3B4455;\n      --disabled-fill-color: #666;\n  }\n\n  .colab-df-quickchart {\n    background-color: var(--bg-color);\n    border: none;\n    border-radius: 50%;\n    cursor: pointer;\n    display: none;\n    fill: var(--fill-color);\n    height: 32px;\n    padding: 0;\n    width: 32px;\n  }\n\n  .colab-df-quickchart:hover {\n    background-color: var(--hover-bg-color);\n    box-shadow: 0 1px 2px rgba(60, 64, 67, 0.3), 0 1px 3px 1px rgba(60, 64, 67, 0.15);\n    fill: var(--button-hover-fill-color);\n  }\n\n  .colab-df-quickchart-complete:disabled,\n  .colab-df-quickchart-complete:disabled:hover {\n    background-color: var(--disabled-bg-color);\n    fill: var(--disabled-fill-color);\n    box-shadow: none;\n  }\n\n  .colab-df-spinner {\n    border: 2px solid var(--fill-color);\n    border-color: transparent;\n    border-bottom-color: var(--fill-color);\n    animation:\n      spin 1s steps(1) infinite;\n  }\n\n  @keyframes spin {\n    0% {\n      border-color: transparent;\n      border-bottom-color: var(--fill-color);\n      border-left-color: var(--fill-color);\n    }\n    20% {\n      border-color: transparent;\n      border-left-color: var(--fill-color);\n      border-top-color: var(--fill-color);\n    }\n    30% {\n      border-color: transparent;\n      border-left-color: var(--fill-color);\n      border-top-color: var(--fill-color);\n      border-right-color: var(--fill-color);\n    }\n    40% {\n      border-color: transparent;\n      border-right-color: var(--fill-color);\n      border-top-color: var(--fill-color);\n    }\n    60% {\n      border-color: transparent;\n      border-right-color: var(--fill-color);\n    }\n    80% {\n      border-color: transparent;\n      border-right-color: var(--fill-color);\n      border-bottom-color: var(--fill-color);\n    }\n    90% {\n      border-color: transparent;\n      border-bottom-color: var(--fill-color);\n    }\n  }\n</style>\n\n  <script>\n    async function quickchart(key) {\n      const quickchartButtonEl =\n        document.querySelector('#' + key + ' button');\n      quickchartButtonEl.disabled = true;  // To prevent multiple clicks.\n      quickchartButtonEl.classList.add('colab-df-spinner');\n      try {\n        const charts = await google.colab.kernel.invokeFunction(\n            'suggestCharts', [key], {});\n      } catch (error) {\n        console.error('Error during call to suggestCharts:', error);\n      }\n      quickchartButtonEl.classList.remove('colab-df-spinner');\n      quickchartButtonEl.classList.add('colab-df-quickchart-complete');\n    }\n    (() => {\n      let quickchartButtonEl =\n        document.querySelector('#df-bff722be-3f3f-4edb-becf-f5b8ce7778e6 button');\n      quickchartButtonEl.style.display =\n        google.colab.kernel.accessAllowed ? 'block' : 'none';\n    })();\n  </script>\n</div>`;\n        parentElement.appendChild(quickchartButtonContainerElement);\n      }\n\n      appendQuickchartButton(table);\n    "
          },
          "metadata": {},
          "execution_count": 63
        }
      ]
    },
    {
      "cell_type": "markdown",
      "source": [
        "Now it's time to check the transaction data"
      ],
      "metadata": {
        "id": "ugIoL0Srn3FV"
      }
    },
    {
      "cell_type": "code",
      "source": [
        "columnTypesDf(transactionData)"
      ],
      "metadata": {
        "colab": {
          "base_uri": "https://localhost:8080/",
          "height": 231
        },
        "id": "7AbD8J2sN3nb",
        "outputId": "bdeb4c6d-30f4-4b09-e126-42da9dc4c30f"
      },
      "execution_count": 64,
      "outputs": [
        {
          "output_type": "execute_result",
          "data": {
            "text/plain": [
              "           col_name data_type_original data_type_edited\n",
              "0    transaction_id             object           string\n",
              "1           user_id             object           string\n",
              "2            amount            float64          float64\n",
              "3         timestamp             object           string\n",
              "4  transaction_type             object           string"
            ],
            "text/html": [
              "\n",
              "  <div id=\"df-7c0cfa62-c073-4bde-aa39-568a2b489682\" class=\"colab-df-container\">\n",
              "    <div>\n",
              "<style scoped>\n",
              "    .dataframe tbody tr th:only-of-type {\n",
              "        vertical-align: middle;\n",
              "    }\n",
              "\n",
              "    .dataframe tbody tr th {\n",
              "        vertical-align: top;\n",
              "    }\n",
              "\n",
              "    .dataframe thead th {\n",
              "        text-align: right;\n",
              "    }\n",
              "</style>\n",
              "<table border=\"1\" class=\"dataframe\">\n",
              "  <thead>\n",
              "    <tr style=\"text-align: right;\">\n",
              "      <th></th>\n",
              "      <th>col_name</th>\n",
              "      <th>data_type_original</th>\n",
              "      <th>data_type_edited</th>\n",
              "    </tr>\n",
              "  </thead>\n",
              "  <tbody>\n",
              "    <tr>\n",
              "      <th>0</th>\n",
              "      <td>transaction_id</td>\n",
              "      <td>object</td>\n",
              "      <td>string</td>\n",
              "    </tr>\n",
              "    <tr>\n",
              "      <th>1</th>\n",
              "      <td>user_id</td>\n",
              "      <td>object</td>\n",
              "      <td>string</td>\n",
              "    </tr>\n",
              "    <tr>\n",
              "      <th>2</th>\n",
              "      <td>amount</td>\n",
              "      <td>float64</td>\n",
              "      <td>float64</td>\n",
              "    </tr>\n",
              "    <tr>\n",
              "      <th>3</th>\n",
              "      <td>timestamp</td>\n",
              "      <td>object</td>\n",
              "      <td>string</td>\n",
              "    </tr>\n",
              "    <tr>\n",
              "      <th>4</th>\n",
              "      <td>transaction_type</td>\n",
              "      <td>object</td>\n",
              "      <td>string</td>\n",
              "    </tr>\n",
              "  </tbody>\n",
              "</table>\n",
              "</div>\n",
              "    <div class=\"colab-df-buttons\">\n",
              "\n",
              "  <div class=\"colab-df-container\">\n",
              "    <button class=\"colab-df-convert\" onclick=\"convertToInteractive('df-7c0cfa62-c073-4bde-aa39-568a2b489682')\"\n",
              "            title=\"Convert this dataframe to an interactive table.\"\n",
              "            style=\"display:none;\">\n",
              "\n",
              "  <svg xmlns=\"http://www.w3.org/2000/svg\" height=\"24px\" viewBox=\"0 -960 960 960\">\n",
              "    <path d=\"M120-120v-720h720v720H120Zm60-500h600v-160H180v160Zm220 220h160v-160H400v160Zm0 220h160v-160H400v160ZM180-400h160v-160H180v160Zm440 0h160v-160H620v160ZM180-180h160v-160H180v160Zm440 0h160v-160H620v160Z\"/>\n",
              "  </svg>\n",
              "    </button>\n",
              "\n",
              "  <style>\n",
              "    .colab-df-container {\n",
              "      display:flex;\n",
              "      gap: 12px;\n",
              "    }\n",
              "\n",
              "    .colab-df-convert {\n",
              "      background-color: #E8F0FE;\n",
              "      border: none;\n",
              "      border-radius: 50%;\n",
              "      cursor: pointer;\n",
              "      display: none;\n",
              "      fill: #1967D2;\n",
              "      height: 32px;\n",
              "      padding: 0 0 0 0;\n",
              "      width: 32px;\n",
              "    }\n",
              "\n",
              "    .colab-df-convert:hover {\n",
              "      background-color: #E2EBFA;\n",
              "      box-shadow: 0px 1px 2px rgba(60, 64, 67, 0.3), 0px 1px 3px 1px rgba(60, 64, 67, 0.15);\n",
              "      fill: #174EA6;\n",
              "    }\n",
              "\n",
              "    .colab-df-buttons div {\n",
              "      margin-bottom: 4px;\n",
              "    }\n",
              "\n",
              "    [theme=dark] .colab-df-convert {\n",
              "      background-color: #3B4455;\n",
              "      fill: #D2E3FC;\n",
              "    }\n",
              "\n",
              "    [theme=dark] .colab-df-convert:hover {\n",
              "      background-color: #434B5C;\n",
              "      box-shadow: 0px 1px 3px 1px rgba(0, 0, 0, 0.15);\n",
              "      filter: drop-shadow(0px 1px 2px rgba(0, 0, 0, 0.3));\n",
              "      fill: #FFFFFF;\n",
              "    }\n",
              "  </style>\n",
              "\n",
              "    <script>\n",
              "      const buttonEl =\n",
              "        document.querySelector('#df-7c0cfa62-c073-4bde-aa39-568a2b489682 button.colab-df-convert');\n",
              "      buttonEl.style.display =\n",
              "        google.colab.kernel.accessAllowed ? 'block' : 'none';\n",
              "\n",
              "      async function convertToInteractive(key) {\n",
              "        const element = document.querySelector('#df-7c0cfa62-c073-4bde-aa39-568a2b489682');\n",
              "        const dataTable =\n",
              "          await google.colab.kernel.invokeFunction('convertToInteractive',\n",
              "                                                    [key], {});\n",
              "        if (!dataTable) return;\n",
              "\n",
              "        const docLinkHtml = 'Like what you see? Visit the ' +\n",
              "          '<a target=\"_blank\" href=https://colab.research.google.com/notebooks/data_table.ipynb>data table notebook</a>'\n",
              "          + ' to learn more about interactive tables.';\n",
              "        element.innerHTML = '';\n",
              "        dataTable['output_type'] = 'display_data';\n",
              "        await google.colab.output.renderOutput(dataTable, element);\n",
              "        const docLink = document.createElement('div');\n",
              "        docLink.innerHTML = docLinkHtml;\n",
              "        element.appendChild(docLink);\n",
              "      }\n",
              "    </script>\n",
              "  </div>\n",
              "\n",
              "\n",
              "<div id=\"df-364a573b-4f7d-4ead-af76-f5f99f7751d6\">\n",
              "  <button class=\"colab-df-quickchart\" onclick=\"quickchart('df-364a573b-4f7d-4ead-af76-f5f99f7751d6')\"\n",
              "            title=\"Suggest charts\"\n",
              "            style=\"display:none;\">\n",
              "\n",
              "<svg xmlns=\"http://www.w3.org/2000/svg\" height=\"24px\"viewBox=\"0 0 24 24\"\n",
              "     width=\"24px\">\n",
              "    <g>\n",
              "        <path d=\"M19 3H5c-1.1 0-2 .9-2 2v14c0 1.1.9 2 2 2h14c1.1 0 2-.9 2-2V5c0-1.1-.9-2-2-2zM9 17H7v-7h2v7zm4 0h-2V7h2v10zm4 0h-2v-4h2v4z\"/>\n",
              "    </g>\n",
              "</svg>\n",
              "  </button>\n",
              "\n",
              "<style>\n",
              "  .colab-df-quickchart {\n",
              "      --bg-color: #E8F0FE;\n",
              "      --fill-color: #1967D2;\n",
              "      --hover-bg-color: #E2EBFA;\n",
              "      --hover-fill-color: #174EA6;\n",
              "      --disabled-fill-color: #AAA;\n",
              "      --disabled-bg-color: #DDD;\n",
              "  }\n",
              "\n",
              "  [theme=dark] .colab-df-quickchart {\n",
              "      --bg-color: #3B4455;\n",
              "      --fill-color: #D2E3FC;\n",
              "      --hover-bg-color: #434B5C;\n",
              "      --hover-fill-color: #FFFFFF;\n",
              "      --disabled-bg-color: #3B4455;\n",
              "      --disabled-fill-color: #666;\n",
              "  }\n",
              "\n",
              "  .colab-df-quickchart {\n",
              "    background-color: var(--bg-color);\n",
              "    border: none;\n",
              "    border-radius: 50%;\n",
              "    cursor: pointer;\n",
              "    display: none;\n",
              "    fill: var(--fill-color);\n",
              "    height: 32px;\n",
              "    padding: 0;\n",
              "    width: 32px;\n",
              "  }\n",
              "\n",
              "  .colab-df-quickchart:hover {\n",
              "    background-color: var(--hover-bg-color);\n",
              "    box-shadow: 0 1px 2px rgba(60, 64, 67, 0.3), 0 1px 3px 1px rgba(60, 64, 67, 0.15);\n",
              "    fill: var(--button-hover-fill-color);\n",
              "  }\n",
              "\n",
              "  .colab-df-quickchart-complete:disabled,\n",
              "  .colab-df-quickchart-complete:disabled:hover {\n",
              "    background-color: var(--disabled-bg-color);\n",
              "    fill: var(--disabled-fill-color);\n",
              "    box-shadow: none;\n",
              "  }\n",
              "\n",
              "  .colab-df-spinner {\n",
              "    border: 2px solid var(--fill-color);\n",
              "    border-color: transparent;\n",
              "    border-bottom-color: var(--fill-color);\n",
              "    animation:\n",
              "      spin 1s steps(1) infinite;\n",
              "  }\n",
              "\n",
              "  @keyframes spin {\n",
              "    0% {\n",
              "      border-color: transparent;\n",
              "      border-bottom-color: var(--fill-color);\n",
              "      border-left-color: var(--fill-color);\n",
              "    }\n",
              "    20% {\n",
              "      border-color: transparent;\n",
              "      border-left-color: var(--fill-color);\n",
              "      border-top-color: var(--fill-color);\n",
              "    }\n",
              "    30% {\n",
              "      border-color: transparent;\n",
              "      border-left-color: var(--fill-color);\n",
              "      border-top-color: var(--fill-color);\n",
              "      border-right-color: var(--fill-color);\n",
              "    }\n",
              "    40% {\n",
              "      border-color: transparent;\n",
              "      border-right-color: var(--fill-color);\n",
              "      border-top-color: var(--fill-color);\n",
              "    }\n",
              "    60% {\n",
              "      border-color: transparent;\n",
              "      border-right-color: var(--fill-color);\n",
              "    }\n",
              "    80% {\n",
              "      border-color: transparent;\n",
              "      border-right-color: var(--fill-color);\n",
              "      border-bottom-color: var(--fill-color);\n",
              "    }\n",
              "    90% {\n",
              "      border-color: transparent;\n",
              "      border-bottom-color: var(--fill-color);\n",
              "    }\n",
              "  }\n",
              "</style>\n",
              "\n",
              "  <script>\n",
              "    async function quickchart(key) {\n",
              "      const quickchartButtonEl =\n",
              "        document.querySelector('#' + key + ' button');\n",
              "      quickchartButtonEl.disabled = true;  // To prevent multiple clicks.\n",
              "      quickchartButtonEl.classList.add('colab-df-spinner');\n",
              "      try {\n",
              "        const charts = await google.colab.kernel.invokeFunction(\n",
              "            'suggestCharts', [key], {});\n",
              "      } catch (error) {\n",
              "        console.error('Error during call to suggestCharts:', error);\n",
              "      }\n",
              "      quickchartButtonEl.classList.remove('colab-df-spinner');\n",
              "      quickchartButtonEl.classList.add('colab-df-quickchart-complete');\n",
              "    }\n",
              "    (() => {\n",
              "      let quickchartButtonEl =\n",
              "        document.querySelector('#df-364a573b-4f7d-4ead-af76-f5f99f7751d6 button');\n",
              "      quickchartButtonEl.style.display =\n",
              "        google.colab.kernel.accessAllowed ? 'block' : 'none';\n",
              "    })();\n",
              "  </script>\n",
              "</div>\n",
              "\n",
              "    </div>\n",
              "  </div>\n"
            ],
            "application/vnd.google.colaboratory.intrinsic+json": {
              "type": "dataframe",
              "summary": "{\n  \"name\": \"columnTypesDf(transactionData)\",\n  \"rows\": 5,\n  \"fields\": [\n    {\n      \"column\": \"col_name\",\n      \"properties\": {\n        \"dtype\": \"string\",\n        \"num_unique_values\": 5,\n        \"samples\": [\n          \"user_id\",\n          \"transaction_type\",\n          \"amount\"\n        ],\n        \"semantic_type\": \"\",\n        \"description\": \"\"\n      }\n    },\n    {\n      \"column\": \"data_type_original\",\n      \"properties\": {\n        \"dtype\": \"category\",\n        \"num_unique_values\": 2,\n        \"samples\": [\n          \"float64\",\n          \"object\"\n        ],\n        \"semantic_type\": \"\",\n        \"description\": \"\"\n      }\n    },\n    {\n      \"column\": \"data_type_edited\",\n      \"properties\": {\n        \"dtype\": \"category\",\n        \"num_unique_values\": 2,\n        \"samples\": [\n          \"float64\",\n          \"string\"\n        ],\n        \"semantic_type\": \"\",\n        \"description\": \"\"\n      }\n    }\n  ]\n}"
            },
            "application/vnd.google.colaboratory.module+javascript": "\n      import \"https://ssl.gstatic.com/colaboratory/data_table/54ded79905fc55e4/data_table.js\";\n\n      const table = window.createDataTable({\n        data: [[{\n            'v': 0,\n            'f': \"0\",\n        },\n\"transaction_id\",\n\"object\",\n\"string\"],\n [{\n            'v': 1,\n            'f': \"1\",\n        },\n\"user_id\",\n\"object\",\n\"string\"],\n [{\n            'v': 2,\n            'f': \"2\",\n        },\n\"amount\",\n\"float64\",\n\"float64\"],\n [{\n            'v': 3,\n            'f': \"3\",\n        },\n\"timestamp\",\n\"object\",\n\"string\"],\n [{\n            'v': 4,\n            'f': \"4\",\n        },\n\"transaction_type\",\n\"object\",\n\"string\"]],\n        columns: [[\"number\", \"index\"], [\"string\", \"col_name\"], [\"string\", \"data_type_original\"], [\"string\", \"data_type_edited\"]],\n        columnOptions: [{\"width\": \"1px\", \"className\": \"index_column\"}],\n        rowsPerPage: 25,\n        helpUrl: \"https://colab.research.google.com/notebooks/data_table.ipynb\",\n        suppressOutputScrolling: true,\n        minimumWidth: undefined,\n      });\n\n      function appendQuickchartButton(parentElement) {\n        let quickchartButtonContainerElement = document.createElement('div');\n        quickchartButtonContainerElement.innerHTML = `\n<div id=\"df-75fd2f17-dc1d-4a58-8751-a27aef98ee01\">\n  <button class=\"colab-df-quickchart\" onclick=\"quickchart('df-75fd2f17-dc1d-4a58-8751-a27aef98ee01')\"\n            title=\"Suggest charts\"\n            style=\"display:none;\">\n    \n<svg xmlns=\"http://www.w3.org/2000/svg\" height=\"24px\"viewBox=\"0 0 24 24\"\n     width=\"24px\">\n    <g>\n        <path d=\"M19 3H5c-1.1 0-2 .9-2 2v14c0 1.1.9 2 2 2h14c1.1 0 2-.9 2-2V5c0-1.1-.9-2-2-2zM9 17H7v-7h2v7zm4 0h-2V7h2v10zm4 0h-2v-4h2v4z\"/>\n    </g>\n</svg>\n  </button>\n  \n<style>\n  .colab-df-quickchart {\n      --bg-color: #E8F0FE;\n      --fill-color: #1967D2;\n      --hover-bg-color: #E2EBFA;\n      --hover-fill-color: #174EA6;\n      --disabled-fill-color: #AAA;\n      --disabled-bg-color: #DDD;\n  }\n\n  [theme=dark] .colab-df-quickchart {\n      --bg-color: #3B4455;\n      --fill-color: #D2E3FC;\n      --hover-bg-color: #434B5C;\n      --hover-fill-color: #FFFFFF;\n      --disabled-bg-color: #3B4455;\n      --disabled-fill-color: #666;\n  }\n\n  .colab-df-quickchart {\n    background-color: var(--bg-color);\n    border: none;\n    border-radius: 50%;\n    cursor: pointer;\n    display: none;\n    fill: var(--fill-color);\n    height: 32px;\n    padding: 0;\n    width: 32px;\n  }\n\n  .colab-df-quickchart:hover {\n    background-color: var(--hover-bg-color);\n    box-shadow: 0 1px 2px rgba(60, 64, 67, 0.3), 0 1px 3px 1px rgba(60, 64, 67, 0.15);\n    fill: var(--button-hover-fill-color);\n  }\n\n  .colab-df-quickchart-complete:disabled,\n  .colab-df-quickchart-complete:disabled:hover {\n    background-color: var(--disabled-bg-color);\n    fill: var(--disabled-fill-color);\n    box-shadow: none;\n  }\n\n  .colab-df-spinner {\n    border: 2px solid var(--fill-color);\n    border-color: transparent;\n    border-bottom-color: var(--fill-color);\n    animation:\n      spin 1s steps(1) infinite;\n  }\n\n  @keyframes spin {\n    0% {\n      border-color: transparent;\n      border-bottom-color: var(--fill-color);\n      border-left-color: var(--fill-color);\n    }\n    20% {\n      border-color: transparent;\n      border-left-color: var(--fill-color);\n      border-top-color: var(--fill-color);\n    }\n    30% {\n      border-color: transparent;\n      border-left-color: var(--fill-color);\n      border-top-color: var(--fill-color);\n      border-right-color: var(--fill-color);\n    }\n    40% {\n      border-color: transparent;\n      border-right-color: var(--fill-color);\n      border-top-color: var(--fill-color);\n    }\n    60% {\n      border-color: transparent;\n      border-right-color: var(--fill-color);\n    }\n    80% {\n      border-color: transparent;\n      border-right-color: var(--fill-color);\n      border-bottom-color: var(--fill-color);\n    }\n    90% {\n      border-color: transparent;\n      border-bottom-color: var(--fill-color);\n    }\n  }\n</style>\n\n  <script>\n    async function quickchart(key) {\n      const quickchartButtonEl =\n        document.querySelector('#' + key + ' button');\n      quickchartButtonEl.disabled = true;  // To prevent multiple clicks.\n      quickchartButtonEl.classList.add('colab-df-spinner');\n      try {\n        const charts = await google.colab.kernel.invokeFunction(\n            'suggestCharts', [key], {});\n      } catch (error) {\n        console.error('Error during call to suggestCharts:', error);\n      }\n      quickchartButtonEl.classList.remove('colab-df-spinner');\n      quickchartButtonEl.classList.add('colab-df-quickchart-complete');\n    }\n    (() => {\n      let quickchartButtonEl =\n        document.querySelector('#df-75fd2f17-dc1d-4a58-8751-a27aef98ee01 button');\n      quickchartButtonEl.style.display =\n        google.colab.kernel.accessAllowed ? 'block' : 'none';\n    })();\n  </script>\n</div>`;\n        parentElement.appendChild(quickchartButtonContainerElement);\n      }\n\n      appendQuickchartButton(table);\n    "
          },
          "metadata": {},
          "execution_count": 64
        }
      ]
    },
    {
      "cell_type": "code",
      "source": [
        "transactionData.head(3)\n"
      ],
      "metadata": {
        "colab": {
          "base_uri": "https://localhost:8080/",
          "height": 188
        },
        "id": "Fi9Dd_PdtQnX",
        "outputId": "36bc4e68-f9f8-4167-8ee3-79cb4798f3bc"
      },
      "execution_count": 65,
      "outputs": [
        {
          "output_type": "execute_result",
          "data": {
            "text/plain": [
              "                         transaction_id                               user_id  \\\n",
              "0  8b266b46-9ec7-4010-83e4-004b3bef400f  1d10b266-b7b2-4258-88b3-3957de0461ea   \n",
              "1  98ae73d5-6918-4790-9d63-eedf8ad43a0b  bf04c0b9-8a09-49e4-b4a5-0b2915bc5143   \n",
              "2  483b1462-9efe-4e9e-a659-da11640c3201  616735b6-b8db-4517-bb3f-8171ec2a6166   \n",
              "\n",
              "   amount            timestamp transaction_type  \n",
              "0  865.48  2023-06-11 06:12:30         In-Store  \n",
              "1  416.50     2023.08.30 09:26     Subscription  \n",
              "2  473.42  11/22/2023 01:09 AM           Online  "
            ],
            "text/html": [
              "\n",
              "  <div id=\"df-b0b7d468-f702-4cb1-8ce5-726d3078dc34\" class=\"colab-df-container\">\n",
              "    <div>\n",
              "<style scoped>\n",
              "    .dataframe tbody tr th:only-of-type {\n",
              "        vertical-align: middle;\n",
              "    }\n",
              "\n",
              "    .dataframe tbody tr th {\n",
              "        vertical-align: top;\n",
              "    }\n",
              "\n",
              "    .dataframe thead th {\n",
              "        text-align: right;\n",
              "    }\n",
              "</style>\n",
              "<table border=\"1\" class=\"dataframe\">\n",
              "  <thead>\n",
              "    <tr style=\"text-align: right;\">\n",
              "      <th></th>\n",
              "      <th>transaction_id</th>\n",
              "      <th>user_id</th>\n",
              "      <th>amount</th>\n",
              "      <th>timestamp</th>\n",
              "      <th>transaction_type</th>\n",
              "    </tr>\n",
              "  </thead>\n",
              "  <tbody>\n",
              "    <tr>\n",
              "      <th>0</th>\n",
              "      <td>8b266b46-9ec7-4010-83e4-004b3bef400f</td>\n",
              "      <td>1d10b266-b7b2-4258-88b3-3957de0461ea</td>\n",
              "      <td>865.48</td>\n",
              "      <td>2023-06-11 06:12:30</td>\n",
              "      <td>In-Store</td>\n",
              "    </tr>\n",
              "    <tr>\n",
              "      <th>1</th>\n",
              "      <td>98ae73d5-6918-4790-9d63-eedf8ad43a0b</td>\n",
              "      <td>bf04c0b9-8a09-49e4-b4a5-0b2915bc5143</td>\n",
              "      <td>416.50</td>\n",
              "      <td>2023.08.30 09:26</td>\n",
              "      <td>Subscription</td>\n",
              "    </tr>\n",
              "    <tr>\n",
              "      <th>2</th>\n",
              "      <td>483b1462-9efe-4e9e-a659-da11640c3201</td>\n",
              "      <td>616735b6-b8db-4517-bb3f-8171ec2a6166</td>\n",
              "      <td>473.42</td>\n",
              "      <td>11/22/2023 01:09 AM</td>\n",
              "      <td>Online</td>\n",
              "    </tr>\n",
              "  </tbody>\n",
              "</table>\n",
              "</div>\n",
              "    <div class=\"colab-df-buttons\">\n",
              "\n",
              "  <div class=\"colab-df-container\">\n",
              "    <button class=\"colab-df-convert\" onclick=\"convertToInteractive('df-b0b7d468-f702-4cb1-8ce5-726d3078dc34')\"\n",
              "            title=\"Convert this dataframe to an interactive table.\"\n",
              "            style=\"display:none;\">\n",
              "\n",
              "  <svg xmlns=\"http://www.w3.org/2000/svg\" height=\"24px\" viewBox=\"0 -960 960 960\">\n",
              "    <path d=\"M120-120v-720h720v720H120Zm60-500h600v-160H180v160Zm220 220h160v-160H400v160Zm0 220h160v-160H400v160ZM180-400h160v-160H180v160Zm440 0h160v-160H620v160ZM180-180h160v-160H180v160Zm440 0h160v-160H620v160Z\"/>\n",
              "  </svg>\n",
              "    </button>\n",
              "\n",
              "  <style>\n",
              "    .colab-df-container {\n",
              "      display:flex;\n",
              "      gap: 12px;\n",
              "    }\n",
              "\n",
              "    .colab-df-convert {\n",
              "      background-color: #E8F0FE;\n",
              "      border: none;\n",
              "      border-radius: 50%;\n",
              "      cursor: pointer;\n",
              "      display: none;\n",
              "      fill: #1967D2;\n",
              "      height: 32px;\n",
              "      padding: 0 0 0 0;\n",
              "      width: 32px;\n",
              "    }\n",
              "\n",
              "    .colab-df-convert:hover {\n",
              "      background-color: #E2EBFA;\n",
              "      box-shadow: 0px 1px 2px rgba(60, 64, 67, 0.3), 0px 1px 3px 1px rgba(60, 64, 67, 0.15);\n",
              "      fill: #174EA6;\n",
              "    }\n",
              "\n",
              "    .colab-df-buttons div {\n",
              "      margin-bottom: 4px;\n",
              "    }\n",
              "\n",
              "    [theme=dark] .colab-df-convert {\n",
              "      background-color: #3B4455;\n",
              "      fill: #D2E3FC;\n",
              "    }\n",
              "\n",
              "    [theme=dark] .colab-df-convert:hover {\n",
              "      background-color: #434B5C;\n",
              "      box-shadow: 0px 1px 3px 1px rgba(0, 0, 0, 0.15);\n",
              "      filter: drop-shadow(0px 1px 2px rgba(0, 0, 0, 0.3));\n",
              "      fill: #FFFFFF;\n",
              "    }\n",
              "  </style>\n",
              "\n",
              "    <script>\n",
              "      const buttonEl =\n",
              "        document.querySelector('#df-b0b7d468-f702-4cb1-8ce5-726d3078dc34 button.colab-df-convert');\n",
              "      buttonEl.style.display =\n",
              "        google.colab.kernel.accessAllowed ? 'block' : 'none';\n",
              "\n",
              "      async function convertToInteractive(key) {\n",
              "        const element = document.querySelector('#df-b0b7d468-f702-4cb1-8ce5-726d3078dc34');\n",
              "        const dataTable =\n",
              "          await google.colab.kernel.invokeFunction('convertToInteractive',\n",
              "                                                    [key], {});\n",
              "        if (!dataTable) return;\n",
              "\n",
              "        const docLinkHtml = 'Like what you see? Visit the ' +\n",
              "          '<a target=\"_blank\" href=https://colab.research.google.com/notebooks/data_table.ipynb>data table notebook</a>'\n",
              "          + ' to learn more about interactive tables.';\n",
              "        element.innerHTML = '';\n",
              "        dataTable['output_type'] = 'display_data';\n",
              "        await google.colab.output.renderOutput(dataTable, element);\n",
              "        const docLink = document.createElement('div');\n",
              "        docLink.innerHTML = docLinkHtml;\n",
              "        element.appendChild(docLink);\n",
              "      }\n",
              "    </script>\n",
              "  </div>\n",
              "\n",
              "\n",
              "<div id=\"df-a2ec7020-5cc0-42c4-8541-81b41ed77080\">\n",
              "  <button class=\"colab-df-quickchart\" onclick=\"quickchart('df-a2ec7020-5cc0-42c4-8541-81b41ed77080')\"\n",
              "            title=\"Suggest charts\"\n",
              "            style=\"display:none;\">\n",
              "\n",
              "<svg xmlns=\"http://www.w3.org/2000/svg\" height=\"24px\"viewBox=\"0 0 24 24\"\n",
              "     width=\"24px\">\n",
              "    <g>\n",
              "        <path d=\"M19 3H5c-1.1 0-2 .9-2 2v14c0 1.1.9 2 2 2h14c1.1 0 2-.9 2-2V5c0-1.1-.9-2-2-2zM9 17H7v-7h2v7zm4 0h-2V7h2v10zm4 0h-2v-4h2v4z\"/>\n",
              "    </g>\n",
              "</svg>\n",
              "  </button>\n",
              "\n",
              "<style>\n",
              "  .colab-df-quickchart {\n",
              "      --bg-color: #E8F0FE;\n",
              "      --fill-color: #1967D2;\n",
              "      --hover-bg-color: #E2EBFA;\n",
              "      --hover-fill-color: #174EA6;\n",
              "      --disabled-fill-color: #AAA;\n",
              "      --disabled-bg-color: #DDD;\n",
              "  }\n",
              "\n",
              "  [theme=dark] .colab-df-quickchart {\n",
              "      --bg-color: #3B4455;\n",
              "      --fill-color: #D2E3FC;\n",
              "      --hover-bg-color: #434B5C;\n",
              "      --hover-fill-color: #FFFFFF;\n",
              "      --disabled-bg-color: #3B4455;\n",
              "      --disabled-fill-color: #666;\n",
              "  }\n",
              "\n",
              "  .colab-df-quickchart {\n",
              "    background-color: var(--bg-color);\n",
              "    border: none;\n",
              "    border-radius: 50%;\n",
              "    cursor: pointer;\n",
              "    display: none;\n",
              "    fill: var(--fill-color);\n",
              "    height: 32px;\n",
              "    padding: 0;\n",
              "    width: 32px;\n",
              "  }\n",
              "\n",
              "  .colab-df-quickchart:hover {\n",
              "    background-color: var(--hover-bg-color);\n",
              "    box-shadow: 0 1px 2px rgba(60, 64, 67, 0.3), 0 1px 3px 1px rgba(60, 64, 67, 0.15);\n",
              "    fill: var(--button-hover-fill-color);\n",
              "  }\n",
              "\n",
              "  .colab-df-quickchart-complete:disabled,\n",
              "  .colab-df-quickchart-complete:disabled:hover {\n",
              "    background-color: var(--disabled-bg-color);\n",
              "    fill: var(--disabled-fill-color);\n",
              "    box-shadow: none;\n",
              "  }\n",
              "\n",
              "  .colab-df-spinner {\n",
              "    border: 2px solid var(--fill-color);\n",
              "    border-color: transparent;\n",
              "    border-bottom-color: var(--fill-color);\n",
              "    animation:\n",
              "      spin 1s steps(1) infinite;\n",
              "  }\n",
              "\n",
              "  @keyframes spin {\n",
              "    0% {\n",
              "      border-color: transparent;\n",
              "      border-bottom-color: var(--fill-color);\n",
              "      border-left-color: var(--fill-color);\n",
              "    }\n",
              "    20% {\n",
              "      border-color: transparent;\n",
              "      border-left-color: var(--fill-color);\n",
              "      border-top-color: var(--fill-color);\n",
              "    }\n",
              "    30% {\n",
              "      border-color: transparent;\n",
              "      border-left-color: var(--fill-color);\n",
              "      border-top-color: var(--fill-color);\n",
              "      border-right-color: var(--fill-color);\n",
              "    }\n",
              "    40% {\n",
              "      border-color: transparent;\n",
              "      border-right-color: var(--fill-color);\n",
              "      border-top-color: var(--fill-color);\n",
              "    }\n",
              "    60% {\n",
              "      border-color: transparent;\n",
              "      border-right-color: var(--fill-color);\n",
              "    }\n",
              "    80% {\n",
              "      border-color: transparent;\n",
              "      border-right-color: var(--fill-color);\n",
              "      border-bottom-color: var(--fill-color);\n",
              "    }\n",
              "    90% {\n",
              "      border-color: transparent;\n",
              "      border-bottom-color: var(--fill-color);\n",
              "    }\n",
              "  }\n",
              "</style>\n",
              "\n",
              "  <script>\n",
              "    async function quickchart(key) {\n",
              "      const quickchartButtonEl =\n",
              "        document.querySelector('#' + key + ' button');\n",
              "      quickchartButtonEl.disabled = true;  // To prevent multiple clicks.\n",
              "      quickchartButtonEl.classList.add('colab-df-spinner');\n",
              "      try {\n",
              "        const charts = await google.colab.kernel.invokeFunction(\n",
              "            'suggestCharts', [key], {});\n",
              "      } catch (error) {\n",
              "        console.error('Error during call to suggestCharts:', error);\n",
              "      }\n",
              "      quickchartButtonEl.classList.remove('colab-df-spinner');\n",
              "      quickchartButtonEl.classList.add('colab-df-quickchart-complete');\n",
              "    }\n",
              "    (() => {\n",
              "      let quickchartButtonEl =\n",
              "        document.querySelector('#df-a2ec7020-5cc0-42c4-8541-81b41ed77080 button');\n",
              "      quickchartButtonEl.style.display =\n",
              "        google.colab.kernel.accessAllowed ? 'block' : 'none';\n",
              "    })();\n",
              "  </script>\n",
              "</div>\n",
              "\n",
              "    </div>\n",
              "  </div>\n"
            ],
            "application/vnd.google.colaboratory.intrinsic+json": {
              "type": "dataframe",
              "variable_name": "transactionData",
              "summary": "{\n  \"name\": \"transactionData\",\n  \"rows\": 10002,\n  \"fields\": [\n    {\n      \"column\": \"transaction_id\",\n      \"properties\": {\n        \"dtype\": \"string\",\n        \"num_unique_values\": 10000,\n        \"samples\": [\n          \"85c21ccc-7f8a-4349-a506-a19ea61e9e33\",\n          \"cb09279f-fd1a-4243-8e39-da962eeca430\",\n          \"809dfab6-fef2-4103-984d-d36817fe007c\"\n        ],\n        \"semantic_type\": \"\",\n        \"description\": \"\"\n      }\n    },\n    {\n      \"column\": \"user_id\",\n      \"properties\": {\n        \"dtype\": \"string\",\n        \"num_unique_values\": 10000,\n        \"samples\": [\n          \"4eccfb6b-1782-4880-9694-cccd7bfa83b9\",\n          \"91952c5b-8a7a-4fb9-98a0-96481517d331\",\n          \"64725b8c-50ad-4172-9e59-5163025374b6\"\n        ],\n        \"semantic_type\": \"\",\n        \"description\": \"\"\n      }\n    },\n    {\n      \"column\": \"amount\",\n      \"properties\": {\n        \"dtype\": \"number\",\n        \"std\": 289.95715059475356,\n        \"min\": 0.19,\n        \"max\": 999.98,\n        \"num_unique_values\": 8700,\n        \"samples\": [\n          747.53,\n          341.9,\n          114.18\n        ],\n        \"semantic_type\": \"\",\n        \"description\": \"\"\n      }\n    },\n    {\n      \"column\": \"timestamp\",\n      \"properties\": {\n        \"dtype\": \"string\",\n        \"num_unique_values\": 9983,\n        \"samples\": [\n          \"2023.10.11 17:07\",\n          \"06/21/2023 10:18 PM\",\n          \"2023-05-31 06:12:03\"\n        ],\n        \"semantic_type\": \"\",\n        \"description\": \"\"\n      }\n    },\n    {\n      \"column\": \"transaction_type\",\n      \"properties\": {\n        \"dtype\": \"category\",\n        \"num_unique_values\": 3,\n        \"samples\": [\n          \"In-Store\",\n          \"Subscription\",\n          \"Online\"\n        ],\n        \"semantic_type\": \"\",\n        \"description\": \"\"\n      }\n    }\n  ]\n}"
            },
            "application/vnd.google.colaboratory.module+javascript": "\n      import \"https://ssl.gstatic.com/colaboratory/data_table/54ded79905fc55e4/data_table.js\";\n\n      const table = window.createDataTable({\n        data: [[{\n            'v': 0,\n            'f': \"0\",\n        },\n\"8b266b46-9ec7-4010-83e4-004b3bef400f\",\n\"1d10b266-b7b2-4258-88b3-3957de0461ea\",\n{\n            'v': 865.48,\n            'f': \"865.48\",\n        },\n\"2023-06-11 06:12:30\",\n\"In-Store\"],\n [{\n            'v': 1,\n            'f': \"1\",\n        },\n\"98ae73d5-6918-4790-9d63-eedf8ad43a0b\",\n\"bf04c0b9-8a09-49e4-b4a5-0b2915bc5143\",\n{\n            'v': 416.5,\n            'f': \"416.5\",\n        },\n\"2023.08.30 09:26\",\n\"Subscription\"],\n [{\n            'v': 2,\n            'f': \"2\",\n        },\n\"483b1462-9efe-4e9e-a659-da11640c3201\",\n\"616735b6-b8db-4517-bb3f-8171ec2a6166\",\n{\n            'v': 473.42,\n            'f': \"473.42\",\n        },\n\"11/22/2023 01:09 AM\",\n\"Online\"]],\n        columns: [[\"number\", \"index\"], [\"string\", \"transaction_id\"], [\"string\", \"user_id\"], [\"number\", \"amount\"], [\"string\", \"timestamp\"], [\"string\", \"transaction_type\"]],\n        columnOptions: [{\"width\": \"1px\", \"className\": \"index_column\"}],\n        rowsPerPage: 25,\n        helpUrl: \"https://colab.research.google.com/notebooks/data_table.ipynb\",\n        suppressOutputScrolling: true,\n        minimumWidth: undefined,\n      });\n\n      function appendQuickchartButton(parentElement) {\n        let quickchartButtonContainerElement = document.createElement('div');\n        quickchartButtonContainerElement.innerHTML = `\n<div id=\"df-24cca850-c0d1-4d3a-a946-6ba3eba72dff\">\n  <button class=\"colab-df-quickchart\" onclick=\"quickchart('df-24cca850-c0d1-4d3a-a946-6ba3eba72dff')\"\n            title=\"Suggest charts\"\n            style=\"display:none;\">\n    \n<svg xmlns=\"http://www.w3.org/2000/svg\" height=\"24px\"viewBox=\"0 0 24 24\"\n     width=\"24px\">\n    <g>\n        <path d=\"M19 3H5c-1.1 0-2 .9-2 2v14c0 1.1.9 2 2 2h14c1.1 0 2-.9 2-2V5c0-1.1-.9-2-2-2zM9 17H7v-7h2v7zm4 0h-2V7h2v10zm4 0h-2v-4h2v4z\"/>\n    </g>\n</svg>\n  </button>\n  \n<style>\n  .colab-df-quickchart {\n      --bg-color: #E8F0FE;\n      --fill-color: #1967D2;\n      --hover-bg-color: #E2EBFA;\n      --hover-fill-color: #174EA6;\n      --disabled-fill-color: #AAA;\n      --disabled-bg-color: #DDD;\n  }\n\n  [theme=dark] .colab-df-quickchart {\n      --bg-color: #3B4455;\n      --fill-color: #D2E3FC;\n      --hover-bg-color: #434B5C;\n      --hover-fill-color: #FFFFFF;\n      --disabled-bg-color: #3B4455;\n      --disabled-fill-color: #666;\n  }\n\n  .colab-df-quickchart {\n    background-color: var(--bg-color);\n    border: none;\n    border-radius: 50%;\n    cursor: pointer;\n    display: none;\n    fill: var(--fill-color);\n    height: 32px;\n    padding: 0;\n    width: 32px;\n  }\n\n  .colab-df-quickchart:hover {\n    background-color: var(--hover-bg-color);\n    box-shadow: 0 1px 2px rgba(60, 64, 67, 0.3), 0 1px 3px 1px rgba(60, 64, 67, 0.15);\n    fill: var(--button-hover-fill-color);\n  }\n\n  .colab-df-quickchart-complete:disabled,\n  .colab-df-quickchart-complete:disabled:hover {\n    background-color: var(--disabled-bg-color);\n    fill: var(--disabled-fill-color);\n    box-shadow: none;\n  }\n\n  .colab-df-spinner {\n    border: 2px solid var(--fill-color);\n    border-color: transparent;\n    border-bottom-color: var(--fill-color);\n    animation:\n      spin 1s steps(1) infinite;\n  }\n\n  @keyframes spin {\n    0% {\n      border-color: transparent;\n      border-bottom-color: var(--fill-color);\n      border-left-color: var(--fill-color);\n    }\n    20% {\n      border-color: transparent;\n      border-left-color: var(--fill-color);\n      border-top-color: var(--fill-color);\n    }\n    30% {\n      border-color: transparent;\n      border-left-color: var(--fill-color);\n      border-top-color: var(--fill-color);\n      border-right-color: var(--fill-color);\n    }\n    40% {\n      border-color: transparent;\n      border-right-color: var(--fill-color);\n      border-top-color: var(--fill-color);\n    }\n    60% {\n      border-color: transparent;\n      border-right-color: var(--fill-color);\n    }\n    80% {\n      border-color: transparent;\n      border-right-color: var(--fill-color);\n      border-bottom-color: var(--fill-color);\n    }\n    90% {\n      border-color: transparent;\n      border-bottom-color: var(--fill-color);\n    }\n  }\n</style>\n\n  <script>\n    async function quickchart(key) {\n      const quickchartButtonEl =\n        document.querySelector('#' + key + ' button');\n      quickchartButtonEl.disabled = true;  // To prevent multiple clicks.\n      quickchartButtonEl.classList.add('colab-df-spinner');\n      try {\n        const charts = await google.colab.kernel.invokeFunction(\n            'suggestCharts', [key], {});\n      } catch (error) {\n        console.error('Error during call to suggestCharts:', error);\n      }\n      quickchartButtonEl.classList.remove('colab-df-spinner');\n      quickchartButtonEl.classList.add('colab-df-quickchart-complete');\n    }\n    (() => {\n      let quickchartButtonEl =\n        document.querySelector('#df-24cca850-c0d1-4d3a-a946-6ba3eba72dff button');\n      quickchartButtonEl.style.display =\n        google.colab.kernel.accessAllowed ? 'block' : 'none';\n    })();\n  </script>\n</div>`;\n        parentElement.appendChild(quickchartButtonContainerElement);\n      }\n\n      appendQuickchartButton(table);\n    "
          },
          "metadata": {},
          "execution_count": 65
        }
      ]
    },
    {
      "cell_type": "markdown",
      "source": [
        "Last I'm goint to check the user data"
      ],
      "metadata": {
        "id": "iFc_RKjgn8SS"
      }
    },
    {
      "cell_type": "code",
      "source": [
        "columnTypesDf(userData)"
      ],
      "metadata": {
        "colab": {
          "base_uri": "https://localhost:8080/",
          "height": 209
        },
        "id": "_4XzLo51sNv9",
        "outputId": "5d429ef7-877c-4759-fc8f-3ccccc2ecc3b"
      },
      "execution_count": 66,
      "outputs": [
        {
          "output_type": "execute_result",
          "data": {
            "text/plain": [
              "    col_name data_type_original data_type_edited\n",
              "0    user_id             object           string\n",
              "1       name             object           string\n",
              "2      email             object           string\n",
              "3  join_date             object           string"
            ],
            "text/html": [
              "\n",
              "  <div id=\"df-ed4f6be9-49d0-43ce-8091-a6aff77da098\" class=\"colab-df-container\">\n",
              "    <div>\n",
              "<style scoped>\n",
              "    .dataframe tbody tr th:only-of-type {\n",
              "        vertical-align: middle;\n",
              "    }\n",
              "\n",
              "    .dataframe tbody tr th {\n",
              "        vertical-align: top;\n",
              "    }\n",
              "\n",
              "    .dataframe thead th {\n",
              "        text-align: right;\n",
              "    }\n",
              "</style>\n",
              "<table border=\"1\" class=\"dataframe\">\n",
              "  <thead>\n",
              "    <tr style=\"text-align: right;\">\n",
              "      <th></th>\n",
              "      <th>col_name</th>\n",
              "      <th>data_type_original</th>\n",
              "      <th>data_type_edited</th>\n",
              "    </tr>\n",
              "  </thead>\n",
              "  <tbody>\n",
              "    <tr>\n",
              "      <th>0</th>\n",
              "      <td>user_id</td>\n",
              "      <td>object</td>\n",
              "      <td>string</td>\n",
              "    </tr>\n",
              "    <tr>\n",
              "      <th>1</th>\n",
              "      <td>name</td>\n",
              "      <td>object</td>\n",
              "      <td>string</td>\n",
              "    </tr>\n",
              "    <tr>\n",
              "      <th>2</th>\n",
              "      <td>email</td>\n",
              "      <td>object</td>\n",
              "      <td>string</td>\n",
              "    </tr>\n",
              "    <tr>\n",
              "      <th>3</th>\n",
              "      <td>join_date</td>\n",
              "      <td>object</td>\n",
              "      <td>string</td>\n",
              "    </tr>\n",
              "  </tbody>\n",
              "</table>\n",
              "</div>\n",
              "    <div class=\"colab-df-buttons\">\n",
              "\n",
              "  <div class=\"colab-df-container\">\n",
              "    <button class=\"colab-df-convert\" onclick=\"convertToInteractive('df-ed4f6be9-49d0-43ce-8091-a6aff77da098')\"\n",
              "            title=\"Convert this dataframe to an interactive table.\"\n",
              "            style=\"display:none;\">\n",
              "\n",
              "  <svg xmlns=\"http://www.w3.org/2000/svg\" height=\"24px\" viewBox=\"0 -960 960 960\">\n",
              "    <path d=\"M120-120v-720h720v720H120Zm60-500h600v-160H180v160Zm220 220h160v-160H400v160Zm0 220h160v-160H400v160ZM180-400h160v-160H180v160Zm440 0h160v-160H620v160ZM180-180h160v-160H180v160Zm440 0h160v-160H620v160Z\"/>\n",
              "  </svg>\n",
              "    </button>\n",
              "\n",
              "  <style>\n",
              "    .colab-df-container {\n",
              "      display:flex;\n",
              "      gap: 12px;\n",
              "    }\n",
              "\n",
              "    .colab-df-convert {\n",
              "      background-color: #E8F0FE;\n",
              "      border: none;\n",
              "      border-radius: 50%;\n",
              "      cursor: pointer;\n",
              "      display: none;\n",
              "      fill: #1967D2;\n",
              "      height: 32px;\n",
              "      padding: 0 0 0 0;\n",
              "      width: 32px;\n",
              "    }\n",
              "\n",
              "    .colab-df-convert:hover {\n",
              "      background-color: #E2EBFA;\n",
              "      box-shadow: 0px 1px 2px rgba(60, 64, 67, 0.3), 0px 1px 3px 1px rgba(60, 64, 67, 0.15);\n",
              "      fill: #174EA6;\n",
              "    }\n",
              "\n",
              "    .colab-df-buttons div {\n",
              "      margin-bottom: 4px;\n",
              "    }\n",
              "\n",
              "    [theme=dark] .colab-df-convert {\n",
              "      background-color: #3B4455;\n",
              "      fill: #D2E3FC;\n",
              "    }\n",
              "\n",
              "    [theme=dark] .colab-df-convert:hover {\n",
              "      background-color: #434B5C;\n",
              "      box-shadow: 0px 1px 3px 1px rgba(0, 0, 0, 0.15);\n",
              "      filter: drop-shadow(0px 1px 2px rgba(0, 0, 0, 0.3));\n",
              "      fill: #FFFFFF;\n",
              "    }\n",
              "  </style>\n",
              "\n",
              "    <script>\n",
              "      const buttonEl =\n",
              "        document.querySelector('#df-ed4f6be9-49d0-43ce-8091-a6aff77da098 button.colab-df-convert');\n",
              "      buttonEl.style.display =\n",
              "        google.colab.kernel.accessAllowed ? 'block' : 'none';\n",
              "\n",
              "      async function convertToInteractive(key) {\n",
              "        const element = document.querySelector('#df-ed4f6be9-49d0-43ce-8091-a6aff77da098');\n",
              "        const dataTable =\n",
              "          await google.colab.kernel.invokeFunction('convertToInteractive',\n",
              "                                                    [key], {});\n",
              "        if (!dataTable) return;\n",
              "\n",
              "        const docLinkHtml = 'Like what you see? Visit the ' +\n",
              "          '<a target=\"_blank\" href=https://colab.research.google.com/notebooks/data_table.ipynb>data table notebook</a>'\n",
              "          + ' to learn more about interactive tables.';\n",
              "        element.innerHTML = '';\n",
              "        dataTable['output_type'] = 'display_data';\n",
              "        await google.colab.output.renderOutput(dataTable, element);\n",
              "        const docLink = document.createElement('div');\n",
              "        docLink.innerHTML = docLinkHtml;\n",
              "        element.appendChild(docLink);\n",
              "      }\n",
              "    </script>\n",
              "  </div>\n",
              "\n",
              "\n",
              "<div id=\"df-17839a36-b023-4aef-b498-4b7b55bb84ac\">\n",
              "  <button class=\"colab-df-quickchart\" onclick=\"quickchart('df-17839a36-b023-4aef-b498-4b7b55bb84ac')\"\n",
              "            title=\"Suggest charts\"\n",
              "            style=\"display:none;\">\n",
              "\n",
              "<svg xmlns=\"http://www.w3.org/2000/svg\" height=\"24px\"viewBox=\"0 0 24 24\"\n",
              "     width=\"24px\">\n",
              "    <g>\n",
              "        <path d=\"M19 3H5c-1.1 0-2 .9-2 2v14c0 1.1.9 2 2 2h14c1.1 0 2-.9 2-2V5c0-1.1-.9-2-2-2zM9 17H7v-7h2v7zm4 0h-2V7h2v10zm4 0h-2v-4h2v4z\"/>\n",
              "    </g>\n",
              "</svg>\n",
              "  </button>\n",
              "\n",
              "<style>\n",
              "  .colab-df-quickchart {\n",
              "      --bg-color: #E8F0FE;\n",
              "      --fill-color: #1967D2;\n",
              "      --hover-bg-color: #E2EBFA;\n",
              "      --hover-fill-color: #174EA6;\n",
              "      --disabled-fill-color: #AAA;\n",
              "      --disabled-bg-color: #DDD;\n",
              "  }\n",
              "\n",
              "  [theme=dark] .colab-df-quickchart {\n",
              "      --bg-color: #3B4455;\n",
              "      --fill-color: #D2E3FC;\n",
              "      --hover-bg-color: #434B5C;\n",
              "      --hover-fill-color: #FFFFFF;\n",
              "      --disabled-bg-color: #3B4455;\n",
              "      --disabled-fill-color: #666;\n",
              "  }\n",
              "\n",
              "  .colab-df-quickchart {\n",
              "    background-color: var(--bg-color);\n",
              "    border: none;\n",
              "    border-radius: 50%;\n",
              "    cursor: pointer;\n",
              "    display: none;\n",
              "    fill: var(--fill-color);\n",
              "    height: 32px;\n",
              "    padding: 0;\n",
              "    width: 32px;\n",
              "  }\n",
              "\n",
              "  .colab-df-quickchart:hover {\n",
              "    background-color: var(--hover-bg-color);\n",
              "    box-shadow: 0 1px 2px rgba(60, 64, 67, 0.3), 0 1px 3px 1px rgba(60, 64, 67, 0.15);\n",
              "    fill: var(--button-hover-fill-color);\n",
              "  }\n",
              "\n",
              "  .colab-df-quickchart-complete:disabled,\n",
              "  .colab-df-quickchart-complete:disabled:hover {\n",
              "    background-color: var(--disabled-bg-color);\n",
              "    fill: var(--disabled-fill-color);\n",
              "    box-shadow: none;\n",
              "  }\n",
              "\n",
              "  .colab-df-spinner {\n",
              "    border: 2px solid var(--fill-color);\n",
              "    border-color: transparent;\n",
              "    border-bottom-color: var(--fill-color);\n",
              "    animation:\n",
              "      spin 1s steps(1) infinite;\n",
              "  }\n",
              "\n",
              "  @keyframes spin {\n",
              "    0% {\n",
              "      border-color: transparent;\n",
              "      border-bottom-color: var(--fill-color);\n",
              "      border-left-color: var(--fill-color);\n",
              "    }\n",
              "    20% {\n",
              "      border-color: transparent;\n",
              "      border-left-color: var(--fill-color);\n",
              "      border-top-color: var(--fill-color);\n",
              "    }\n",
              "    30% {\n",
              "      border-color: transparent;\n",
              "      border-left-color: var(--fill-color);\n",
              "      border-top-color: var(--fill-color);\n",
              "      border-right-color: var(--fill-color);\n",
              "    }\n",
              "    40% {\n",
              "      border-color: transparent;\n",
              "      border-right-color: var(--fill-color);\n",
              "      border-top-color: var(--fill-color);\n",
              "    }\n",
              "    60% {\n",
              "      border-color: transparent;\n",
              "      border-right-color: var(--fill-color);\n",
              "    }\n",
              "    80% {\n",
              "      border-color: transparent;\n",
              "      border-right-color: var(--fill-color);\n",
              "      border-bottom-color: var(--fill-color);\n",
              "    }\n",
              "    90% {\n",
              "      border-color: transparent;\n",
              "      border-bottom-color: var(--fill-color);\n",
              "    }\n",
              "  }\n",
              "</style>\n",
              "\n",
              "  <script>\n",
              "    async function quickchart(key) {\n",
              "      const quickchartButtonEl =\n",
              "        document.querySelector('#' + key + ' button');\n",
              "      quickchartButtonEl.disabled = true;  // To prevent multiple clicks.\n",
              "      quickchartButtonEl.classList.add('colab-df-spinner');\n",
              "      try {\n",
              "        const charts = await google.colab.kernel.invokeFunction(\n",
              "            'suggestCharts', [key], {});\n",
              "      } catch (error) {\n",
              "        console.error('Error during call to suggestCharts:', error);\n",
              "      }\n",
              "      quickchartButtonEl.classList.remove('colab-df-spinner');\n",
              "      quickchartButtonEl.classList.add('colab-df-quickchart-complete');\n",
              "    }\n",
              "    (() => {\n",
              "      let quickchartButtonEl =\n",
              "        document.querySelector('#df-17839a36-b023-4aef-b498-4b7b55bb84ac button');\n",
              "      quickchartButtonEl.style.display =\n",
              "        google.colab.kernel.accessAllowed ? 'block' : 'none';\n",
              "    })();\n",
              "  </script>\n",
              "</div>\n",
              "\n",
              "    </div>\n",
              "  </div>\n"
            ],
            "application/vnd.google.colaboratory.intrinsic+json": {
              "type": "dataframe",
              "summary": "{\n  \"name\": \"columnTypesDf(userData)\",\n  \"rows\": 4,\n  \"fields\": [\n    {\n      \"column\": \"col_name\",\n      \"properties\": {\n        \"dtype\": \"string\",\n        \"num_unique_values\": 4,\n        \"samples\": [\n          \"name\",\n          \"join_date\",\n          \"user_id\"\n        ],\n        \"semantic_type\": \"\",\n        \"description\": \"\"\n      }\n    },\n    {\n      \"column\": \"data_type_original\",\n      \"properties\": {\n        \"dtype\": \"category\",\n        \"num_unique_values\": 1,\n        \"samples\": [\n          \"object\"\n        ],\n        \"semantic_type\": \"\",\n        \"description\": \"\"\n      }\n    },\n    {\n      \"column\": \"data_type_edited\",\n      \"properties\": {\n        \"dtype\": \"category\",\n        \"num_unique_values\": 1,\n        \"samples\": [\n          \"string\"\n        ],\n        \"semantic_type\": \"\",\n        \"description\": \"\"\n      }\n    }\n  ]\n}"
            },
            "application/vnd.google.colaboratory.module+javascript": "\n      import \"https://ssl.gstatic.com/colaboratory/data_table/54ded79905fc55e4/data_table.js\";\n\n      const table = window.createDataTable({\n        data: [[{\n            'v': 0,\n            'f': \"0\",\n        },\n\"user_id\",\n\"object\",\n\"string\"],\n [{\n            'v': 1,\n            'f': \"1\",\n        },\n\"name\",\n\"object\",\n\"string\"],\n [{\n            'v': 2,\n            'f': \"2\",\n        },\n\"email\",\n\"object\",\n\"string\"],\n [{\n            'v': 3,\n            'f': \"3\",\n        },\n\"join_date\",\n\"object\",\n\"string\"]],\n        columns: [[\"number\", \"index\"], [\"string\", \"col_name\"], [\"string\", \"data_type_original\"], [\"string\", \"data_type_edited\"]],\n        columnOptions: [{\"width\": \"1px\", \"className\": \"index_column\"}],\n        rowsPerPage: 25,\n        helpUrl: \"https://colab.research.google.com/notebooks/data_table.ipynb\",\n        suppressOutputScrolling: true,\n        minimumWidth: undefined,\n      });\n\n      function appendQuickchartButton(parentElement) {\n        let quickchartButtonContainerElement = document.createElement('div');\n        quickchartButtonContainerElement.innerHTML = `\n<div id=\"df-90f4fb27-d397-4d0f-9f67-2e61f662f5a1\">\n  <button class=\"colab-df-quickchart\" onclick=\"quickchart('df-90f4fb27-d397-4d0f-9f67-2e61f662f5a1')\"\n            title=\"Suggest charts\"\n            style=\"display:none;\">\n    \n<svg xmlns=\"http://www.w3.org/2000/svg\" height=\"24px\"viewBox=\"0 0 24 24\"\n     width=\"24px\">\n    <g>\n        <path d=\"M19 3H5c-1.1 0-2 .9-2 2v14c0 1.1.9 2 2 2h14c1.1 0 2-.9 2-2V5c0-1.1-.9-2-2-2zM9 17H7v-7h2v7zm4 0h-2V7h2v10zm4 0h-2v-4h2v4z\"/>\n    </g>\n</svg>\n  </button>\n  \n<style>\n  .colab-df-quickchart {\n      --bg-color: #E8F0FE;\n      --fill-color: #1967D2;\n      --hover-bg-color: #E2EBFA;\n      --hover-fill-color: #174EA6;\n      --disabled-fill-color: #AAA;\n      --disabled-bg-color: #DDD;\n  }\n\n  [theme=dark] .colab-df-quickchart {\n      --bg-color: #3B4455;\n      --fill-color: #D2E3FC;\n      --hover-bg-color: #434B5C;\n      --hover-fill-color: #FFFFFF;\n      --disabled-bg-color: #3B4455;\n      --disabled-fill-color: #666;\n  }\n\n  .colab-df-quickchart {\n    background-color: var(--bg-color);\n    border: none;\n    border-radius: 50%;\n    cursor: pointer;\n    display: none;\n    fill: var(--fill-color);\n    height: 32px;\n    padding: 0;\n    width: 32px;\n  }\n\n  .colab-df-quickchart:hover {\n    background-color: var(--hover-bg-color);\n    box-shadow: 0 1px 2px rgba(60, 64, 67, 0.3), 0 1px 3px 1px rgba(60, 64, 67, 0.15);\n    fill: var(--button-hover-fill-color);\n  }\n\n  .colab-df-quickchart-complete:disabled,\n  .colab-df-quickchart-complete:disabled:hover {\n    background-color: var(--disabled-bg-color);\n    fill: var(--disabled-fill-color);\n    box-shadow: none;\n  }\n\n  .colab-df-spinner {\n    border: 2px solid var(--fill-color);\n    border-color: transparent;\n    border-bottom-color: var(--fill-color);\n    animation:\n      spin 1s steps(1) infinite;\n  }\n\n  @keyframes spin {\n    0% {\n      border-color: transparent;\n      border-bottom-color: var(--fill-color);\n      border-left-color: var(--fill-color);\n    }\n    20% {\n      border-color: transparent;\n      border-left-color: var(--fill-color);\n      border-top-color: var(--fill-color);\n    }\n    30% {\n      border-color: transparent;\n      border-left-color: var(--fill-color);\n      border-top-color: var(--fill-color);\n      border-right-color: var(--fill-color);\n    }\n    40% {\n      border-color: transparent;\n      border-right-color: var(--fill-color);\n      border-top-color: var(--fill-color);\n    }\n    60% {\n      border-color: transparent;\n      border-right-color: var(--fill-color);\n    }\n    80% {\n      border-color: transparent;\n      border-right-color: var(--fill-color);\n      border-bottom-color: var(--fill-color);\n    }\n    90% {\n      border-color: transparent;\n      border-bottom-color: var(--fill-color);\n    }\n  }\n</style>\n\n  <script>\n    async function quickchart(key) {\n      const quickchartButtonEl =\n        document.querySelector('#' + key + ' button');\n      quickchartButtonEl.disabled = true;  // To prevent multiple clicks.\n      quickchartButtonEl.classList.add('colab-df-spinner');\n      try {\n        const charts = await google.colab.kernel.invokeFunction(\n            'suggestCharts', [key], {});\n      } catch (error) {\n        console.error('Error during call to suggestCharts:', error);\n      }\n      quickchartButtonEl.classList.remove('colab-df-spinner');\n      quickchartButtonEl.classList.add('colab-df-quickchart-complete');\n    }\n    (() => {\n      let quickchartButtonEl =\n        document.querySelector('#df-90f4fb27-d397-4d0f-9f67-2e61f662f5a1 button');\n      quickchartButtonEl.style.display =\n        google.colab.kernel.accessAllowed ? 'block' : 'none';\n    })();\n  </script>\n</div>`;\n        parentElement.appendChild(quickchartButtonContainerElement);\n      }\n\n      appendQuickchartButton(table);\n    "
          },
          "metadata": {},
          "execution_count": 66
        }
      ]
    },
    {
      "cell_type": "code",
      "source": [
        "userData.head(3)"
      ],
      "metadata": {
        "colab": {
          "base_uri": "https://localhost:8080/",
          "height": 188
        },
        "id": "YG-KMBqVtRPY",
        "outputId": "adb33bdb-3359-4347-8a6d-a178ce04d5c0"
      },
      "execution_count": 67,
      "outputs": [
        {
          "output_type": "execute_result",
          "data": {
            "text/plain": [
              "                                user_id             name  \\\n",
              "0  1d10b266-b7b2-4258-88b3-3957de0461ea     Angela Smith   \n",
              "1  bf04c0b9-8a09-49e4-b4a5-0b2915bc5143  Mr. John Powell   \n",
              "2  616735b6-b8db-4517-bb3f-8171ec2a6166      Susan Chase   \n",
              "\n",
              "                         email   join_date  \n",
              "0           nfischer@yahoo.com  02/06/2023  \n",
              "1      rebeccabarnes@yahoo.com  2022-05-04  \n",
              "2  riverschristopher@davis.net  2022-01-01  "
            ],
            "text/html": [
              "\n",
              "  <div id=\"df-436b1076-cd19-4572-a2c6-80bae9c4e495\" class=\"colab-df-container\">\n",
              "    <div>\n",
              "<style scoped>\n",
              "    .dataframe tbody tr th:only-of-type {\n",
              "        vertical-align: middle;\n",
              "    }\n",
              "\n",
              "    .dataframe tbody tr th {\n",
              "        vertical-align: top;\n",
              "    }\n",
              "\n",
              "    .dataframe thead th {\n",
              "        text-align: right;\n",
              "    }\n",
              "</style>\n",
              "<table border=\"1\" class=\"dataframe\">\n",
              "  <thead>\n",
              "    <tr style=\"text-align: right;\">\n",
              "      <th></th>\n",
              "      <th>user_id</th>\n",
              "      <th>name</th>\n",
              "      <th>email</th>\n",
              "      <th>join_date</th>\n",
              "    </tr>\n",
              "  </thead>\n",
              "  <tbody>\n",
              "    <tr>\n",
              "      <th>0</th>\n",
              "      <td>1d10b266-b7b2-4258-88b3-3957de0461ea</td>\n",
              "      <td>Angela Smith</td>\n",
              "      <td>nfischer@yahoo.com</td>\n",
              "      <td>02/06/2023</td>\n",
              "    </tr>\n",
              "    <tr>\n",
              "      <th>1</th>\n",
              "      <td>bf04c0b9-8a09-49e4-b4a5-0b2915bc5143</td>\n",
              "      <td>Mr. John Powell</td>\n",
              "      <td>rebeccabarnes@yahoo.com</td>\n",
              "      <td>2022-05-04</td>\n",
              "    </tr>\n",
              "    <tr>\n",
              "      <th>2</th>\n",
              "      <td>616735b6-b8db-4517-bb3f-8171ec2a6166</td>\n",
              "      <td>Susan Chase</td>\n",
              "      <td>riverschristopher@davis.net</td>\n",
              "      <td>2022-01-01</td>\n",
              "    </tr>\n",
              "  </tbody>\n",
              "</table>\n",
              "</div>\n",
              "    <div class=\"colab-df-buttons\">\n",
              "\n",
              "  <div class=\"colab-df-container\">\n",
              "    <button class=\"colab-df-convert\" onclick=\"convertToInteractive('df-436b1076-cd19-4572-a2c6-80bae9c4e495')\"\n",
              "            title=\"Convert this dataframe to an interactive table.\"\n",
              "            style=\"display:none;\">\n",
              "\n",
              "  <svg xmlns=\"http://www.w3.org/2000/svg\" height=\"24px\" viewBox=\"0 -960 960 960\">\n",
              "    <path d=\"M120-120v-720h720v720H120Zm60-500h600v-160H180v160Zm220 220h160v-160H400v160Zm0 220h160v-160H400v160ZM180-400h160v-160H180v160Zm440 0h160v-160H620v160ZM180-180h160v-160H180v160Zm440 0h160v-160H620v160Z\"/>\n",
              "  </svg>\n",
              "    </button>\n",
              "\n",
              "  <style>\n",
              "    .colab-df-container {\n",
              "      display:flex;\n",
              "      gap: 12px;\n",
              "    }\n",
              "\n",
              "    .colab-df-convert {\n",
              "      background-color: #E8F0FE;\n",
              "      border: none;\n",
              "      border-radius: 50%;\n",
              "      cursor: pointer;\n",
              "      display: none;\n",
              "      fill: #1967D2;\n",
              "      height: 32px;\n",
              "      padding: 0 0 0 0;\n",
              "      width: 32px;\n",
              "    }\n",
              "\n",
              "    .colab-df-convert:hover {\n",
              "      background-color: #E2EBFA;\n",
              "      box-shadow: 0px 1px 2px rgba(60, 64, 67, 0.3), 0px 1px 3px 1px rgba(60, 64, 67, 0.15);\n",
              "      fill: #174EA6;\n",
              "    }\n",
              "\n",
              "    .colab-df-buttons div {\n",
              "      margin-bottom: 4px;\n",
              "    }\n",
              "\n",
              "    [theme=dark] .colab-df-convert {\n",
              "      background-color: #3B4455;\n",
              "      fill: #D2E3FC;\n",
              "    }\n",
              "\n",
              "    [theme=dark] .colab-df-convert:hover {\n",
              "      background-color: #434B5C;\n",
              "      box-shadow: 0px 1px 3px 1px rgba(0, 0, 0, 0.15);\n",
              "      filter: drop-shadow(0px 1px 2px rgba(0, 0, 0, 0.3));\n",
              "      fill: #FFFFFF;\n",
              "    }\n",
              "  </style>\n",
              "\n",
              "    <script>\n",
              "      const buttonEl =\n",
              "        document.querySelector('#df-436b1076-cd19-4572-a2c6-80bae9c4e495 button.colab-df-convert');\n",
              "      buttonEl.style.display =\n",
              "        google.colab.kernel.accessAllowed ? 'block' : 'none';\n",
              "\n",
              "      async function convertToInteractive(key) {\n",
              "        const element = document.querySelector('#df-436b1076-cd19-4572-a2c6-80bae9c4e495');\n",
              "        const dataTable =\n",
              "          await google.colab.kernel.invokeFunction('convertToInteractive',\n",
              "                                                    [key], {});\n",
              "        if (!dataTable) return;\n",
              "\n",
              "        const docLinkHtml = 'Like what you see? Visit the ' +\n",
              "          '<a target=\"_blank\" href=https://colab.research.google.com/notebooks/data_table.ipynb>data table notebook</a>'\n",
              "          + ' to learn more about interactive tables.';\n",
              "        element.innerHTML = '';\n",
              "        dataTable['output_type'] = 'display_data';\n",
              "        await google.colab.output.renderOutput(dataTable, element);\n",
              "        const docLink = document.createElement('div');\n",
              "        docLink.innerHTML = docLinkHtml;\n",
              "        element.appendChild(docLink);\n",
              "      }\n",
              "    </script>\n",
              "  </div>\n",
              "\n",
              "\n",
              "<div id=\"df-2f1d6832-1e3f-4f7f-83ed-abdd6492e515\">\n",
              "  <button class=\"colab-df-quickchart\" onclick=\"quickchart('df-2f1d6832-1e3f-4f7f-83ed-abdd6492e515')\"\n",
              "            title=\"Suggest charts\"\n",
              "            style=\"display:none;\">\n",
              "\n",
              "<svg xmlns=\"http://www.w3.org/2000/svg\" height=\"24px\"viewBox=\"0 0 24 24\"\n",
              "     width=\"24px\">\n",
              "    <g>\n",
              "        <path d=\"M19 3H5c-1.1 0-2 .9-2 2v14c0 1.1.9 2 2 2h14c1.1 0 2-.9 2-2V5c0-1.1-.9-2-2-2zM9 17H7v-7h2v7zm4 0h-2V7h2v10zm4 0h-2v-4h2v4z\"/>\n",
              "    </g>\n",
              "</svg>\n",
              "  </button>\n",
              "\n",
              "<style>\n",
              "  .colab-df-quickchart {\n",
              "      --bg-color: #E8F0FE;\n",
              "      --fill-color: #1967D2;\n",
              "      --hover-bg-color: #E2EBFA;\n",
              "      --hover-fill-color: #174EA6;\n",
              "      --disabled-fill-color: #AAA;\n",
              "      --disabled-bg-color: #DDD;\n",
              "  }\n",
              "\n",
              "  [theme=dark] .colab-df-quickchart {\n",
              "      --bg-color: #3B4455;\n",
              "      --fill-color: #D2E3FC;\n",
              "      --hover-bg-color: #434B5C;\n",
              "      --hover-fill-color: #FFFFFF;\n",
              "      --disabled-bg-color: #3B4455;\n",
              "      --disabled-fill-color: #666;\n",
              "  }\n",
              "\n",
              "  .colab-df-quickchart {\n",
              "    background-color: var(--bg-color);\n",
              "    border: none;\n",
              "    border-radius: 50%;\n",
              "    cursor: pointer;\n",
              "    display: none;\n",
              "    fill: var(--fill-color);\n",
              "    height: 32px;\n",
              "    padding: 0;\n",
              "    width: 32px;\n",
              "  }\n",
              "\n",
              "  .colab-df-quickchart:hover {\n",
              "    background-color: var(--hover-bg-color);\n",
              "    box-shadow: 0 1px 2px rgba(60, 64, 67, 0.3), 0 1px 3px 1px rgba(60, 64, 67, 0.15);\n",
              "    fill: var(--button-hover-fill-color);\n",
              "  }\n",
              "\n",
              "  .colab-df-quickchart-complete:disabled,\n",
              "  .colab-df-quickchart-complete:disabled:hover {\n",
              "    background-color: var(--disabled-bg-color);\n",
              "    fill: var(--disabled-fill-color);\n",
              "    box-shadow: none;\n",
              "  }\n",
              "\n",
              "  .colab-df-spinner {\n",
              "    border: 2px solid var(--fill-color);\n",
              "    border-color: transparent;\n",
              "    border-bottom-color: var(--fill-color);\n",
              "    animation:\n",
              "      spin 1s steps(1) infinite;\n",
              "  }\n",
              "\n",
              "  @keyframes spin {\n",
              "    0% {\n",
              "      border-color: transparent;\n",
              "      border-bottom-color: var(--fill-color);\n",
              "      border-left-color: var(--fill-color);\n",
              "    }\n",
              "    20% {\n",
              "      border-color: transparent;\n",
              "      border-left-color: var(--fill-color);\n",
              "      border-top-color: var(--fill-color);\n",
              "    }\n",
              "    30% {\n",
              "      border-color: transparent;\n",
              "      border-left-color: var(--fill-color);\n",
              "      border-top-color: var(--fill-color);\n",
              "      border-right-color: var(--fill-color);\n",
              "    }\n",
              "    40% {\n",
              "      border-color: transparent;\n",
              "      border-right-color: var(--fill-color);\n",
              "      border-top-color: var(--fill-color);\n",
              "    }\n",
              "    60% {\n",
              "      border-color: transparent;\n",
              "      border-right-color: var(--fill-color);\n",
              "    }\n",
              "    80% {\n",
              "      border-color: transparent;\n",
              "      border-right-color: var(--fill-color);\n",
              "      border-bottom-color: var(--fill-color);\n",
              "    }\n",
              "    90% {\n",
              "      border-color: transparent;\n",
              "      border-bottom-color: var(--fill-color);\n",
              "    }\n",
              "  }\n",
              "</style>\n",
              "\n",
              "  <script>\n",
              "    async function quickchart(key) {\n",
              "      const quickchartButtonEl =\n",
              "        document.querySelector('#' + key + ' button');\n",
              "      quickchartButtonEl.disabled = true;  // To prevent multiple clicks.\n",
              "      quickchartButtonEl.classList.add('colab-df-spinner');\n",
              "      try {\n",
              "        const charts = await google.colab.kernel.invokeFunction(\n",
              "            'suggestCharts', [key], {});\n",
              "      } catch (error) {\n",
              "        console.error('Error during call to suggestCharts:', error);\n",
              "      }\n",
              "      quickchartButtonEl.classList.remove('colab-df-spinner');\n",
              "      quickchartButtonEl.classList.add('colab-df-quickchart-complete');\n",
              "    }\n",
              "    (() => {\n",
              "      let quickchartButtonEl =\n",
              "        document.querySelector('#df-2f1d6832-1e3f-4f7f-83ed-abdd6492e515 button');\n",
              "      quickchartButtonEl.style.display =\n",
              "        google.colab.kernel.accessAllowed ? 'block' : 'none';\n",
              "    })();\n",
              "  </script>\n",
              "</div>\n",
              "\n",
              "    </div>\n",
              "  </div>\n"
            ],
            "application/vnd.google.colaboratory.intrinsic+json": {
              "type": "dataframe",
              "variable_name": "userData",
              "summary": "{\n  \"name\": \"userData\",\n  \"rows\": 10002,\n  \"fields\": [\n    {\n      \"column\": \"user_id\",\n      \"properties\": {\n        \"dtype\": \"string\",\n        \"num_unique_values\": 10000,\n        \"samples\": [\n          \"4eccfb6b-1782-4880-9694-cccd7bfa83b9\",\n          \"91952c5b-8a7a-4fb9-98a0-96481517d331\",\n          \"64725b8c-50ad-4172-9e59-5163025374b6\"\n        ],\n        \"semantic_type\": \"\",\n        \"description\": \"\"\n      }\n    },\n    {\n      \"column\": \"name\",\n      \"properties\": {\n        \"dtype\": \"string\",\n        \"num_unique_values\": 9362,\n        \"samples\": [\n          \"Amanda Harris\",\n          \"Daniel Lowe\",\n          \"Stacy Howard\"\n        ],\n        \"semantic_type\": \"\",\n        \"description\": \"\"\n      }\n    },\n    {\n      \"column\": \"email\",\n      \"properties\": {\n        \"dtype\": \"string\",\n        \"num_unique_values\": 9934,\n        \"samples\": [\n          \"bdominguez@gmail.com\",\n          \"jonathancarlson@schmidt-williams.com\",\n          \"xpittman@stephenson-romero.com\"\n        ],\n        \"semantic_type\": \"\",\n        \"description\": \"\"\n      }\n    },\n    {\n      \"column\": \"join_date\",\n      \"properties\": {\n        \"dtype\": \"category\",\n        \"num_unique_values\": 3955,\n        \"samples\": [\n          \"05/24/2021\",\n          \"2021-11-20\",\n          \"2022.10.17\"\n        ],\n        \"semantic_type\": \"\",\n        \"description\": \"\"\n      }\n    }\n  ]\n}"
            },
            "application/vnd.google.colaboratory.module+javascript": "\n      import \"https://ssl.gstatic.com/colaboratory/data_table/54ded79905fc55e4/data_table.js\";\n\n      const table = window.createDataTable({\n        data: [[{\n            'v': 0,\n            'f': \"0\",\n        },\n\"1d10b266-b7b2-4258-88b3-3957de0461ea\",\n\"Angela Smith\",\n\"nfischer@yahoo.com\",\n\"02/06/2023\"],\n [{\n            'v': 1,\n            'f': \"1\",\n        },\n\"bf04c0b9-8a09-49e4-b4a5-0b2915bc5143\",\n\"Mr. John Powell\",\n\"rebeccabarnes@yahoo.com\",\n\"2022-05-04\"],\n [{\n            'v': 2,\n            'f': \"2\",\n        },\n\"616735b6-b8db-4517-bb3f-8171ec2a6166\",\n\"Susan Chase\",\n\"riverschristopher@davis.net\",\n\"2022-01-01\"]],\n        columns: [[\"number\", \"index\"], [\"string\", \"user_id\"], [\"string\", \"name\"], [\"string\", \"email\"], [\"string\", \"join_date\"]],\n        columnOptions: [{\"width\": \"1px\", \"className\": \"index_column\"}],\n        rowsPerPage: 25,\n        helpUrl: \"https://colab.research.google.com/notebooks/data_table.ipynb\",\n        suppressOutputScrolling: true,\n        minimumWidth: undefined,\n      });\n\n      function appendQuickchartButton(parentElement) {\n        let quickchartButtonContainerElement = document.createElement('div');\n        quickchartButtonContainerElement.innerHTML = `\n<div id=\"df-d0bf82d9-bf73-4be8-b954-bd6bf050d2b7\">\n  <button class=\"colab-df-quickchart\" onclick=\"quickchart('df-d0bf82d9-bf73-4be8-b954-bd6bf050d2b7')\"\n            title=\"Suggest charts\"\n            style=\"display:none;\">\n    \n<svg xmlns=\"http://www.w3.org/2000/svg\" height=\"24px\"viewBox=\"0 0 24 24\"\n     width=\"24px\">\n    <g>\n        <path d=\"M19 3H5c-1.1 0-2 .9-2 2v14c0 1.1.9 2 2 2h14c1.1 0 2-.9 2-2V5c0-1.1-.9-2-2-2zM9 17H7v-7h2v7zm4 0h-2V7h2v10zm4 0h-2v-4h2v4z\"/>\n    </g>\n</svg>\n  </button>\n  \n<style>\n  .colab-df-quickchart {\n      --bg-color: #E8F0FE;\n      --fill-color: #1967D2;\n      --hover-bg-color: #E2EBFA;\n      --hover-fill-color: #174EA6;\n      --disabled-fill-color: #AAA;\n      --disabled-bg-color: #DDD;\n  }\n\n  [theme=dark] .colab-df-quickchart {\n      --bg-color: #3B4455;\n      --fill-color: #D2E3FC;\n      --hover-bg-color: #434B5C;\n      --hover-fill-color: #FFFFFF;\n      --disabled-bg-color: #3B4455;\n      --disabled-fill-color: #666;\n  }\n\n  .colab-df-quickchart {\n    background-color: var(--bg-color);\n    border: none;\n    border-radius: 50%;\n    cursor: pointer;\n    display: none;\n    fill: var(--fill-color);\n    height: 32px;\n    padding: 0;\n    width: 32px;\n  }\n\n  .colab-df-quickchart:hover {\n    background-color: var(--hover-bg-color);\n    box-shadow: 0 1px 2px rgba(60, 64, 67, 0.3), 0 1px 3px 1px rgba(60, 64, 67, 0.15);\n    fill: var(--button-hover-fill-color);\n  }\n\n  .colab-df-quickchart-complete:disabled,\n  .colab-df-quickchart-complete:disabled:hover {\n    background-color: var(--disabled-bg-color);\n    fill: var(--disabled-fill-color);\n    box-shadow: none;\n  }\n\n  .colab-df-spinner {\n    border: 2px solid var(--fill-color);\n    border-color: transparent;\n    border-bottom-color: var(--fill-color);\n    animation:\n      spin 1s steps(1) infinite;\n  }\n\n  @keyframes spin {\n    0% {\n      border-color: transparent;\n      border-bottom-color: var(--fill-color);\n      border-left-color: var(--fill-color);\n    }\n    20% {\n      border-color: transparent;\n      border-left-color: var(--fill-color);\n      border-top-color: var(--fill-color);\n    }\n    30% {\n      border-color: transparent;\n      border-left-color: var(--fill-color);\n      border-top-color: var(--fill-color);\n      border-right-color: var(--fill-color);\n    }\n    40% {\n      border-color: transparent;\n      border-right-color: var(--fill-color);\n      border-top-color: var(--fill-color);\n    }\n    60% {\n      border-color: transparent;\n      border-right-color: var(--fill-color);\n    }\n    80% {\n      border-color: transparent;\n      border-right-color: var(--fill-color);\n      border-bottom-color: var(--fill-color);\n    }\n    90% {\n      border-color: transparent;\n      border-bottom-color: var(--fill-color);\n    }\n  }\n</style>\n\n  <script>\n    async function quickchart(key) {\n      const quickchartButtonEl =\n        document.querySelector('#' + key + ' button');\n      quickchartButtonEl.disabled = true;  // To prevent multiple clicks.\n      quickchartButtonEl.classList.add('colab-df-spinner');\n      try {\n        const charts = await google.colab.kernel.invokeFunction(\n            'suggestCharts', [key], {});\n      } catch (error) {\n        console.error('Error during call to suggestCharts:', error);\n      }\n      quickchartButtonEl.classList.remove('colab-df-spinner');\n      quickchartButtonEl.classList.add('colab-df-quickchart-complete');\n    }\n    (() => {\n      let quickchartButtonEl =\n        document.querySelector('#df-d0bf82d9-bf73-4be8-b954-bd6bf050d2b7 button');\n      quickchartButtonEl.style.display =\n        google.colab.kernel.accessAllowed ? 'block' : 'none';\n    })();\n  </script>\n</div>`;\n        parentElement.appendChild(quickchartButtonContainerElement);\n      }\n\n      appendQuickchartButton(table);\n    "
          },
          "metadata": {},
          "execution_count": 67
        }
      ]
    },
    {
      "cell_type": "markdown",
      "source": [
        "##### Notes about the data types of the files"
      ],
      "metadata": {
        "id": "UwDExmgErwnK"
      }
    },
    {
      "cell_type": "markdown",
      "source": [
        "The original datasets need to be modified as mps of the columns are detected as string\n",
        "\n",
        "The datasets have some columns that corresponds to datetime or date and they need to be cleaned in order to get the real values.\n",
        "\n",
        "This cleaning will be made in the next sections."
      ],
      "metadata": {
        "id": "wdvtDDc9r1id"
      }
    },
    {
      "cell_type": "markdown",
      "source": [
        "### 1.- UML and Data Dictionary\n",
        "Instructions\n",
        "\n",
        "Explore the three files and, based on your findings, write a data dictionary for each file and a UML diagram"
      ],
      "metadata": {
        "id": "FYt4aHL4glAm"
      }
    },
    {
      "cell_type": "markdown",
      "source": [
        "#### UML"
      ],
      "metadata": {
        "id": "eab2qdX1qvBl"
      }
    },
    {
      "cell_type": "markdown",
      "source": [
        "[UML in detail](https://dbdiagram.io/d/Stori-Challenge-EML-67367042e9daa85aca8268cc)\n",
        "\n",
        "![Stori Challenge EML.png](data:image/png;base64,iVBORw0KGgoAAAANSUhEUgAAA4QAAAH1CAYAAACurzB2AAAgAElEQVR4Xuy9C/AV133neZBmhJB4KzYvYwssQEBskMEEHM2EhxMUu+IhjjUuXEMeeCc7yJudTDkm2dplXBlqZ8c43uzOzIrJpkziMGPKo0Rik4oj4uExiWOIDBHYBhlQhCKZlx3xlgApsvb/beV3ff6Hvvd239vdtx+frqL433tPn8fnnNt9Pn0ed8Rrr732huOAAAQgAAEIQAACEIAABCAAgcYRGIEQNq7OKTAEIAABCEAAAhCAAAQgAIGIAEJIQ4AABCAAAQhAAAIQgAAEINBQAghhQyueYkMAAhCAAAQgAAEIQAACEEAIaQMQgAAEIAABCEAAAhCAAAQaSgAhbGjFU2wIQAACEIAABCAAAQhAAAIIIW0AAhCAAAQgAAEIQAACEIBAQwkghA2teIoNAQhAAAIQgAAEIAABCEAAIaQNQAACEIAABCAAAQhAAAIQaCgBhLChFU+xIQABCEAAAhCAAAQgAAEIIIS0AQhAAAIQgAAEIAABCEAAAg0lgBA2tOIpNgQgAAEIQAACEIAABCAAAYSQNgABCEAAAhCAAAQgAAEIQKChBBDChlY8xYYABCAAAQhAAAIQgAAEIIAQ0gYgAAEIQAACEIAABCAAAQg0lABC2NCKp9gQgAAEIAABCEAAAhCAAAQQQtoABCAAAQhAAAIQgAAEIACBhhJACBta8RQbAhCAAAQgAAEIQAACEIAAQkgbgAAEIAABCEAAAhCAAAQg0FACCGFDK55iQwACEIAABCAAAQhAAAIQQAhpAxCAAAQgAAEIQAACEIAABBpKACFsaMVTbAhAAAIQgAAEIAABCEAAAgghbQACEIAABCAAAQhAAAIQgEBDCSCEDa14ig0BCEAAAhCAAAQgAAEIQAAhpA1AAAIQgAAEIAABCEAAAhBoKAGEsKEVT7EhAAEIQAACEIAABCAAAQgghLQBCEAAAhCAAAQgAAEIQAACDSWAEDa04ik2BCAAAQhAAAIQgAAEIAABhJA2AAEIQAACEIAABCAAAQhAoKEEEMKGVjzFhgAEIAABCEAAAhCAAAQggBDSBiAAAQhAAAIQgAAEIAABCDSUAELY0Iqn2BCAAAQgAAEIQAACEIAABBBC2gAEIAABCEAAAhCAAAQgAIGGEkAIG1rxFBsCEIAABCAAAQhAAAIQgABCSBuAAAQgAAEIQAACEIAABCDQUAIIYUMrnmJDAAIQgAAEIAABCEAAAhBACGkDEIAABCAAAQhAAAIQgAAEGkoAIWxoxVNsCEAAAhCAAAQgAAEIQAACCCFtAAIQgAAEIAABCEAAAhCAQEMJIIQNrXiKDQEIQAACEIAABCAAAQhAACGkDUAAAhCAAAQgAAEIQAACEGgoAYSwoRVPsSEAAQhAAAIQgAAEIAABCCCEtAEIQAACEIAABCAAAQhAAAINJYAQNrTiKTYEIAABCEAAAhCAAAQgAAGEkDYAAQhAAAIQgAAEIAABCECgoQQQwoZWPMWGAAQgAAEIQAACEIAABCCAENIGIAABCEAAAhCAAAQgAAEINJQAQtjQiqfYEIAABCAAAQhAAAIQgAAEEELaAAQgAAEIQAACEIAABCAAgYYSQAgbWvEUGwIQgAAEIAABCEAAAhCAAEJIG4AABCAAAQhAAAIQgAAEINBQAghhQyueYkMAAhCAAAQgAAEIQAACEEAIaQMQgAAEIAABCEAAAhCAAAQaSgAhbGjFU2wIQAACEIAABCAAAQhAAAIIIW0AAhCAAAQgAAEIQAACEIBAQwkghA2teIoNAQhAAAIQgAAEIAABCEAAIaQNQAACEIAABCAAAQhAAAIQaCgBhLChFU+xIQABCEAAAhCAAAQgAAEIIIS0AQhAAAIQgAAEIAABCEAAAg0lgBA2tOIpNgQgAAEIQAACEIAABCAAAYSQNgABCEAgIwIbf/srbt83ns8oNqKBQP0I/H+/vtZNmTi6fgWjRBCAAAQqTAAhrHDlkXUIQKBcBBDCctUHuSkfAYSwfHVCjiAAAQgghLQBCEAAAhkRQAgzAkk0tSWAENa2aikYBCBQYQIIYYUrj6xDAALlIoAQlqs+yE35CCCE5asTcgQBCEAAIaQNQAACEMiIAEKYEUiiqS0BhLC2VUvBIACBChNACCtceWQdAhAoFwGEsFz1QW7KRwAhLF+dkCMIQAACCCFtAAIQgEBGBBDCjEASTW0JIIS1rVoKBgEIVJgAQljhyiPrEIBAuQgghOWqD3JTPgIIYfnqhBxBAAIQQAhpAxCAAAQyIoAQZgSSaGpLACGsbdVSMAhAoMIEEMIKVx5ZhwAEykUAISxXfZCb8hFACMtXJ+QIAhCAAEJIG4AABCCQEQGEMCOQRFNbAghhbauWgkEAAhUmgBBWuPLIOgQgUC4CCGG56oPclI8AQli+OiFHEIAABBBC2gAEIACBjAikEcKdv/4x9/a3jnMf/9xO9/SzZ90D901xn//kGvfCdy+7NZ/+YpSjv9q6YVjO/vs3nnf/auufRO/t/Y1fcOPuvrP1+Xs2bI3+XrviXe5T//RB96V933Lz3vEW964Zk6K///TQs1H8/qH3P/OlP8+o9EQDge4EEMLujAgBAQhAoGgCCGHRxEkPAhCoLYEshfALGz8cyZwk8KlvfyeSvM/+16+6HXu/2ZJB/7PLL99wK37ld1pC6EPWeR9d/q5IQCWBOj66/IdbMlrbCqFgpSOAEJauSsgQBCAAAYcQ0gggAAEIZEQgDyFU1mwUUX/bCKA/kmjyKPHTIXnUYaOG+ttGJMP3Myo60UAgEQGEMBEmAkEAAhAolABCWChuEoMABOpMIEshDCXOxPD+6T/UEr6QpS+EvjBauHbTTOtcJ5StXAQQwnLVB7mBAAQgIAIIIe0AAhCAQEYEehFCmwb6qx/9R9E0zjiRsxFAffalfd+MhDAunIoRN4IYFs9GC7956rz7uS2PZ1R6ooFAdwIIYXdGhIAABCBQNAGEsGjipAcBCNSWQBohNMkLYZjo6XOt+dO6wN/c8JPux959rzOBs5E+WzcowRt398hhawhDYVQYHdqwxl+faJvU1LZSKFipCCCEpaoOMgMBCEAgIoAQ0hAgAAEIZEQgjRAqSX8XUW328tB773OXX745TNosayZ/9tpfE6j3wk1l4oRQgmlHuxHGjFAQDQRiCSCENAwIQAAC5SOAEJavTsgRBCBQUQJphbCixSTbEOiZAELYMzpOhAAEIJAbAYQwN7REDAEINI0AQti0Gqe8aQkghGmJER4CEIBA/gQQwvwZkwIEINAQAghhQyqaYvZMACHsGR0nQgACEMiNAEKYG1oihgAEmkYAIWxajVPetAQQwrTECA8BCEAgfwIIYf6MSQECEGgIAYSwIRVNMXsmgBD2jI4TIQABCORGACHMDS0RQwACTSOAEDatxilvWgIIYVpihIcABCCQPwGEMH/GpAABCDSEAELYkIqmmD0TQAh7RseJEIAABHIjgBDmhpaIIQCBphFACJtW45Q3LQGEMC0xwkMAAhDInwBCmD9jUoAABBpCACFsSEVTzJ4JIIQ9o+NECEAAArkRQAhzQ0vEEIBA0wgghE2rccqblgBCmJYY4SEAAQjkTwAhzJ8xKUAAAg0hgBA2pKIpZs8EEMKe0XEiBCAAgdwIIIS5oSViCECgaQQQwqbVOOVNSwAhTEuM8BCAAATyJ4AQ5s+YFCAAgYYQQAgbUtEUs2cCCGHP6DgRAhCAQG4EEMLc0BIxBCDQNAKvvvqqe/3115tWbMoLgcQE7rzzTjdixIjE4QkIAQhAAAL5E0AI82dMChCAQEMIIIQNqWiK2TMBhLBndJwIAQhAIDcCCGFuaIkYAhBoGgGEsGk1TnnTEkAI0xIjPAQgAIH8CSCE+TMmBQhAoCEEEMKGVDTF7JkAQtgzOk6EAAQgkBsBhDA3tEQMAQg0jQBC2LQap7xpCSCEaYkRHgIQgED+BBDC/BmTAgQg0BACCGFDKppi9kwAIewZHSdCAAIQyI0AQpgbWiKGAASaRgAhbFqNU960BBDCtMQIDwEIQCB/Aghh/oxJAQIQaAgBhLAhFU0xeyaAEPaMjhMhAAEI5EYAIcwNLRFDAAJNI4AQNq3GKW9aAghhWmKEhwAEIJA/AYQwf8akAAEINIRAFYVw06ZNbsyYMW7jxo2xtbR161Z35swZt2bNGrdo0aKONXnjxg33ta99zZ07d86NHz/eve9974v+5ygXgR07dkQZWrt2beEZQwgLR06CEIAABLoSQAi7IiIABCAAgWQEqiqEKt3mzZv7EsKzZ8+6J554wt1///1uypQp7tKlS27Pnj3uAx/4gHvggQeSASRUIQQQwkIwkwgEIACByhBACCtTVWQUAhAoO4EqCmE3pklHCLdt2+aWLVvm5s6d6zRS+OUvfzn6+/HHH3ef+MQnGCnsBrrAzxHCAmGTFAQgAIEKEEAIK1BJZBECEBgcgWvXXnZPPrnHfeQjP9U1E2mE0ERr/fr1bsaMGe7UqVNOUjV16lS3YcOGKC1N5/QPTdnU1E0dW7ZscVevXm19bCN8hw4dcjt37nQrVqxwp0+fdidOnIj+XrlyZWz+LY3wfAXWVFKN9imOTlNGbXTwkUceidLQ60cffTRKV3I4YcKESBY5biWwb9++iJfawNKlS6MABw4ciNqDvWcCZ2erTpYvXz4srOp3//797vr161FdT5o0yVnc4XmKb9SoUZGkK20dEydOdKtXr47+Pn/+fDS66x9+/nbt2hWlozpVOMVl7bJbHSeZMnrs2Al37eWX3ZL3MrLcjSefQwACEMiCAEKYBUXigAAEaktgUEK4ffv2SMQkgdOnT48kz6TMZND/zNYBmhD6FdJJ5kIhDCXU4ukUh+RFMvKxj32slaxEUJ1/vX/x4sVo6ijHrQRMvnwhU11LuGyNnwRMx8KFC1uiNm/ePLdgwYKWPPox67xQBvX54sWL3axZs1womHauxanXyoOEcdq0ae7gwYNREDtf+blw4UIrST/v3eoYIexGiM8hAAEIFE8AISyeOSlCAAIVIjBoIRQqG0XU3yZ8/kiiyaON0qgzr6PdukAfvy+EGu3Zu3fvsFHKblNGtVbw85//fDQqFbdW0J9KWqFqLzSrJlhieOXKlUjA/FFAPzNHjhxxx44da40e2mhiKGUmfTZa6McRfhbGGRbe0jBhtPz6o4ZJgSGESUkRDgIQgEBxBBDC4liTEgQgUCECmv557dorQyMhF91TXz88tB5uVtfcz5k9040YMaJrOAVIMmXUwliEEkONzJjwhQn5QugLY6cMxQmhPzXVl81wl9FOMqgRQgmmwvgjh4ngNCyQL2TipmmcNhonFHEjeiZj4fRSQ9dpnWD4maVvEho3ZVTxhkLo5zFplb344hn38ivXOwa/dPGyu3rt2tDI+LSu0b7j7W8bmu7KTrZdQREAAhCAQAcCCCHNAwIQgMDfE5AEHj5y1D377PPRO6NH3+XuuOOOIQm7lEgIZ903w91++22JeIYjb3GjcxaRSZkkb8mSJZEQthO+uBHEtEI4e/Zst27duui0TiOEGv3TqKCNDGrqqDaRsUPSoqmiGhXi6ExAkqZRPk0V1WFyb6NxJmPtRgjD0bokI4Q2JTUUQpuyasLXboQwLyE8f/57EYNJk97SEZrCSQZZa8i3CwIQgEB/BBDC/vhxNgQgUBMCzz57yh0+/K2hUZA57r777o1EUEdeU0ZN8kJ8Jnr6XCNF+n1AddAleiZqtobQ1g1K2rTBjML2I4TKS5o1hJ/73Ofcxz/+8dbmJBJECaDkRBKICCb/cvhr/sINXDQqrPfuueee1nq+biOEcWsIw01qugmhJFSHpqjqyGKEMMspo2w+k7x9ERICEIBAJwIIIe0DAhBoPIGnvv50NAqokYZw+lleQhjKl3bk1NoxSZ52GQ2FMfzx+HA6abipTC9TRpUnf1MaxaFphHovblMZCaEEUJuPSAYVVtNaOdITOHnyZEv2/HV//vuKVZ9pNLmbECpsuPmLCV23KaM2YmilsDQRwvT1yhkQgAAEqkAAIaxCLZFHCEAgNwLnzn3XffWrf+k+9KHVrVFBP7E8hTC3QhUUscTk+eefj1LTyA9rBQsCX+FkGCGscOWRdQhAoLYEEMLaVi0FgwAEkhB4ctded9877x2aJjojSfCOYdL8DmHfiaWIwNYnhqck2YU0RTIEhUBXAkmEsGskfx+AKaNJSREOAhCAQGcCCCEtBAIQaCwBrRvUrocrVvxoJgzKKoSZFI5IIJABAYQwA4hEAQEIQCBjAghhxkCJDgIQqA4BrR0cfffdQ5tlzM4k0whhJhiJpMYEEMIaVy5FgwAEKksAIaxs1ZFxCECgXwJ79/6Fm/nOdzj9llkWB0KYBUXiqDMBhLDOtUvZIACBqhJACKtac+QbAhDom8Dv//4fuYceWjn0e4N39x2XIkAIM8FIJDUmgBDWuHIpGgQgUFkCCGFlq46MQwAC/RL44o4n3MfW/nS/0bTORwgzQ0lENSWAENa0YikWBCBQaQIIYaWrj8xDAAK9EpC8/f4f/DFC2CtAzoNADwQQwh6gcQoEIACBnAkghDkDJnoIQKCcBBDCctYLuao3AYSw3vVL6SAAgWoSQAirWW/kGgIQ6JMAQtgnQE6HQA8EEMIeoHEKBCAAgZwJIIQ5AyZ6CECgnAQQwnLWC7mqNwGEsN71S+kgAIFqEkAIq1lv5BoCEOiTAELYJ0BOh0APBBDCHqBxCgQgAIGcCSCEOQMmeghAoJwEEMJy1gu5qjcBhLDe9UvpIACBahJACKtZb+QaAhDokwBC2CdATodADwQQwh6gcQoEIACBnAkghDkDJnoIQKCcBBDCctYLuao3AYSw3vVL6SAAgWoSQAirWW/kGgIQ6JMAQtgnQE6HQA8EEMIeoHEKBCAAgZwJIIQ5AyZ6CECgnAQQwnLWC7mqNwGEsN71S+kgAIFqEkAIq1lv5BoCEOiTAELYJ0BOh0APBBDCHqBxCgQgAIGcCSCEOQMmeghAoJwEEMJy1gu5qjcBhLDe9UvpIACBahJACKtZb+QaAhDokwBC2CdATodADwQQwh6gcQoEIACBnAkghDkDJnoIQKCcBBDCctYLuao3AYSw3vVL6SAAgWoSQAirWW/kGgIQ6JMAQtgnQE6HQA8EEMIeoHEKBCAAgZwJIIQ5AyZ6CECgnAQQwnLWC7kaTuDAgQPRG0uXLq0FGoSwFtVIISAAgZoRQAhrVqEUBwIQSEYAIUzGiVCDJZCHEJ48edIdPHjQrVy50u3fv99dv379lkIuXrzYzZo1y+3bt8+dPXt22Odr165158+fd3v27InimDRpUmJICGFiVASEAAQgUBgBhLAw1CQEAQiUiQBCWKbaIC/tCOQhhDt37nTz58+PhC88TPQkfTp27drlZs6cGRtWYvncc8+51atXJ65AhDAxKgJCAAIQKIwAQlgYahKCAATKRGDQQrh9+3Y3b948p865HStWrIhGXHRo9GXv3r2tz2bPnu3WrVsXvdY5Y8eOHfb5mjVr3LFjx9yJEyeiMH54vd66das7c+ZM9NnUqVPdhg0bylQdlcuLRs4kN/5UTr2nY/ny5ZFIXbhwoVUuG3Gz+pOQaZRu1KhRTnWnwz/H3jchPHfuXGskb8aMGa10bbTPEpo4cWJL0I4cORKdc+PGjWiUT+fdc8897ujRo600Q/BhudTWli1b1nYUsJNcxlUqQli5pk6GIQCBBhBACBtQyRQRAhC4lUAZhFDytnnz5ihzp06dctu2bWu9DnO8ZcsWt2rVKrdo0aJICA8dOtQKa/LoC6UfXvKpw4RSr8eMGdNWCmgv3QloJE3TLU3mTPTi5EnS5kvYjh07nC9uJoPjxo27Za2ghFBtw5+aqfPbTdWUVE6ePNktWLDASQj1kEAPHvRaR7cRR8Vto4NWJn9KqS+j+jxOjDvRQwi7ty1CQAACECiaAEJYNHHSgwAESkGgDEIYSpkk7uGHH45GcsJDI3xLlixpCeHVq1dbghcnkwo/Z86cSBx8OVS8ksndu3e7jRs3lqIuqpoJfzplp+mToTyGQhdO0/R5SOA0wqdRRzs6TeOUoE2YMKElhBpZ9Kd0+p+H3OPSCsPoYYTapwmmpPPixYvD8ocQVrVFk28IQKCpBBDCptY85YZAwwmUQQinTZvWmiKq6vCFUNLmTyfV5xqNshFCe63/uwnhpk2bbqltyShC2N+XwJehULTCzVj8qaHhKFw3IVQu/ampvhDauX5JbEQwTtb8EcSw9J1GHi1sGCdC2F8b4mwIQAACZSCAEJahFsgDBCBQOIEyC6FghNNHwxHCtEK4fv362JHHwsHXLEGTO1/ywpG2uBFCf1pmP0IYSlw4QhiO3rUTwiSjg6q6MBxCWLMGTXEgAIFGEkAIG1ntFBoCECizEGozEn9Kp40W9jpCGK4hpPazIyABu3nzphs5cmRr2mS4rk6vL1261FpvGI4QKjcStXZrCPV53AihNhbS+lGTSxPLTiOE7dYQKk/+xjftCIXhWEOYXVsiJghAAAKDIoAQDoo86UIAAgMlUGYh1BqtcFfQ0aNHR5uD9DJlVKAlhbYDqV6Hu5AOtDIqnLjt8unLVDiNU/Wmab22AU2cEAqBpgjbBi7hLqPtpoz6U1N1jjaU0f+2qUw4QhhucKN0JYmXL1++5ecj4qajhtLILqMVbrxkHQIQgMDfE0AIaQoQgEAjCQxaCBsJnUKXgkBaiWuXaX6HsBTVSSYgAAEI9E0AIewbIRFAAAJVJIAQVrHWyHMWBGxU01/HmDZeGz1MMs3Uj5ufnUhLmvAQgAAE8ieAEObPmBQgAIESEkAIS1gpZKn2BBDC2lcxBYQABCpIACGsYKWRZQhAoH8CCGH/DIkBAmkJIIRpiREeAhCAQP4EEML8GZMCBCBQQgIIYQkrhSzVngBCWPsqpoAQgEAFCSCEFaw0sgwBCPRPACHsnyExQCAtAYQwLTHCQwACEMifAEKYP2NSgAAESkgAISxhpZCl2hNACGtfxRQQAhCoIAGEsIKVRpYhAIH+CSCE/TMkBgikJYAQpiVGeAhAAAL5E0AI82dMChCAQAkJIIQlrBSyVHsCCGHtq5gCQgACFSSAEFaw0sgyBCDQPwGEsH+GxACBtAQQwrTECA8BCEAgfwIIYf6MSQECECghAYSwhJVClmpPACGsfRVTQAhAoIIEEMIKVhpZhgAE+ieAEPbPkBggkJYAQpiWGOEhAAEI5E8AIcyfMSlAAAIlJIAQlrBSyFLtCSCEta9iCggBCFSQAEJYwUojyxCAQP8EEML+GRIDBNISQAjTEiM8BCAAgfwJIIT5MyYFCECghAQQwhJWClmqPQGEsPZVTAEhAIEKEkAIK1hpZBkCEOifAELYP0NigEBaAghhWmKEhwAEIJA/AYQwf8akAAEIlJAAQljCSiFLtSeAENa+iikgBCBQQQIIYQUrjSxDAAL9E0AI+2dIDBBISwAhTEuM8BCAAATyJ4AQ5s+YFCAAgRISQAhLWClkqfYEEMLaVzEFhAAEKkgAIaxgpZFlCECgfwIIYf8MiQECaQkghGmJER4CEIBA/gQQwvwZkwIEIFBCAghhCSuFLNWeAEJY+yqmgBCAQAUJIIQVrDSyDAEI9E8AIeyfITFAIC0BhDAtMcJDAAIQyJ8AQpg/Y1KAAARKSKCpQrhp0ya3efPmEtZIc7O0c+dOt2zZMjdp0qTaQ0AIa1/FFBACEKggAYSwgpVGliEAgf4JNEUI9+zZ4w4ePOg2btwYQUMI+287WceQhxDu27fP3bx5061evbqV3V27dkV/++/p9YEDB9ypU6eiz0aNGuXWrFkzrIg7duxovZ43b55bsGCBO3/+vFPbWrlyZSqRRQizbj3EBwEIQKB/Aghh/wyJAQIQqCCBpghhWDUIYfkaa9ZCePLkSXf06NFhYqc0JHuhEB45ciSSQZNAyeHly5db0qjzZsyYEUmgDsnh4sWL3axZs5zSee65524RzE6EEcLytT9yBAEIQAAhpA1AAAKNJFAGIdy6das7c+ZMxH/q1Kluw4YN0d8aebly5Yo7ceKEu3r1avTeihUrovcOHTp0S3i9IdHzD5sWqvBPPfVUK26EMHlzl/yEI2AmRGPHjo3qyQ5/ZE2Sdf36dXfjxg139uzZSKiWLl3aGlWzc+x9k65jx4614vPT1Wif4rHDRun0WqN+CxcubOVF5z3zzDNO4qU0dej8CRMmRH+fO3dumMDZZyZ8CqMyrl27Nsrv/v37h4mlhFGHxa28z58/PxLEJAdCmIQSYSAAAQgUSwAhLJY3qUEAAiUhMGgh3L59e0Ri3bp10f96PWbMmKjzLdHYu3evW79+fSQTkjp1vBctWtTqnEsm58yZEwlLeCisRFJxI4S9N7hQfjqNiEmsTMIkhJI7X9w6TbG00TubyqnzQ3GzUlg8EjYdEsILFy5EAmdHuxHHuHh1/syZM4cJnUme4gtHAMM4/HInIY0QJqFEGAhAAALFEkAIi+VNahCAQEkIDFoIt2zZ4latWhVJng6J2+7du6O1fhLC48ePt0b19LlG9kwQQ4EMker806dPI4R9trVwhCxuNM2S8OUxTrz0uUYMly9ffkuuwlG2uJE5/yQbwTMhnDx5cmtKp97zP/fPi8tX3AifSeIrr7xyi5iGUqw4L168GFuuOPwIYZ+NktMhAAEI5EAAIcwBKlFCAALlJzBoIQyneIqYRghNCE3ojGQ3IZRg2vRSnTN79myEMINm6I+ghaLlb7aipGwKaJwkdRNCf5fRUAj9TV+sSP4IoT/CF44gdhPCfkcIEcIMGhlRQAACEBgwAYRwwBVA8hCAwGAIlEEI/RE/n4I/wpdECMPpo4wQZtemTHi0Bs8fCQtH1sIRwnDUrFchjBvVC0cI+xHCdmsIbSpy3BpCf6QTIcyurRETBCAAgUERQAgHRZ50IWPkTNcAACAASURBVACBgRIYtBCGawj7EcJw+qleT5kyhRHCjFqYBGzixInD1tqFG87odacRwm5rCNuNEIYiaaOF7UYIVeQ0awjDHUnDXUY1guhPSfV3GVVarCHMqJERDQQgAIEBEkAIBwifpCEAgcERGLQQquSSQu0kaodN80w7Qmib0Fg82pGUNYTZtS1Jz6VLl27ZbdN+u08paQMZ7Syq3TfbjZpJvvSbkHb4u4x2mjLqT03VOdpwxn4mIm7KZztJa7dZTS+/Q2hlYJfR7NoZMUEAAhAYFAGEcFDkSRcCEBgogTII4UABkHhtCcT9DmEeheV3CPOgSpwQgAAEiieAEBbPnBQhAIESEEAIS1AJZCE3Ahol1BG3q2kWidoUWPuR+qRxsstoUlKEgwAEIFAcAYSwONakBAEIlIgAQliiyiArjSGAEDamqikoBCBQIQIIYYUqi6xCAALZEUAIs2NJTBBISgAhTEqKcBCAAASKI4AQFsealCAAgRIRQAhLVBlkpTEEEMLGVDUFhQAEKkQAIaxQZZFVCEAgOwIIYXYsiQkCSQkghElJEQ4CEIBAcQQQwuJYkxIEIFAiAghhiSqDrDSGAELYmKqmoBCAQIUIIIQVqiyyCgEIZEcAIcyOJTFBICkBhDApKcJBAAIQKI4AQlgca1KCAARKRAAhLFFlkJXGEEAIG1PVFBQCEKgQAYSwQpVFViEAgewIIITZsSQmCCQlgBAmJUU4CEAAAsURQAiLY01KEIBAiQgghCWqDLLSGAIIYWOqmoJCAAIVIoAQVqiyyCoEIJAdAYQwO5bEBIGkBBDCpKQIBwEIQKA4AghhcaxJCQIQKBEBhLBElUFWGkMAIWxMVVNQCECgQgQQwgpVFlmFAASyI4AQZseSmCCQlABCmJQU4SAAAQgURwAhLI41KUEAAiUigBCWqDLISmMIIISNqWoKCgEIVIgAQlihyiKrEIBAdgQQwuxYEhMEkhJACJOSIhwEIACB4ggghMWxJiUIQKBEBBDCElUGWWkMAYSwMVVNQSEAgQoRQAgrVFlkFQIQyI4AQpgdS2KCQFICCGFSUoSDAAQgUBwBhLA41qQEAQiUiABCWKLKICuNIYAQNqaqKSgEIFAhAghhhSqLrEIAAtkRQAizY0lMEEhKACFMSopwEIAABIojgBAWx5qUIACBEhFACEtUGWSlMQQQwsZUNQWFAAQqRAAhrFBlkVUIQCA7AghhdiyJCQJJCSCESUkRDgIQgEBxBBDC4liTEgQgUCICTRfCU6dOuW3btrnNmzeXqFbIShEEduzY4VauXOkmTZpURHLD0kAIC0dOghCAAAS6EkAIuyIiAAQgUEcCgxbCrVu3uilTprg1a9Z0xZsmbNfI/j5AGiE8dOiQe/HFFxPlNWn6hBscgaRCePLkSffSSy+5pUuXZpZZhDAzlEQEAQhAIDMCCGFmKIkIAhCoEoFBC+GgWaURwp07d0bZTSKvgy4X6XcnkFQIDxw4EEWGEHZnSggIQAACVSaAEFa59sg7BCDQM4FBC+H27dvdtGnToql7Ovbs2eP27t3bKo/ka9GiRdFrP6zCXblyxZ09e9adOXMm+nz27Nlu3bp1XVls2rSpFUZxa+TPpoxK+vTaDn2uPLR734TSwq9YsaJVlq4ZIUChBFSH169fj9KcMWOGU93ZlNEjR464Y8eOtfKjUevly5c7yaDC2aHzJIbnz5+P2qod8+bNcwsWLEhcHkYIE6MiIAQgAIHCCCCEhaEmIQhAoEwEyiSE6mAfPHjQbdy4sYVI8rZ+/fqoAx8KocTRF8YtW7a4VatWtQQyjnM47VRxnjhxou0awjD9MWPGDBsh1Od+HvzwZarnpudl3759EQJJng4TvXZrCCWP8+fPd7NmzXI6VwLnjxBqdHHx4sXR5zqSjjZaPSCETW+RlB8CECgjAYSwjLVCniAAgdwJlEkIJWtz5swZNsImYTMJC4Xw+PHjbsOGDS1G4WhjCC9uemi3KaOSzIcffrglpL4QaiRx9+7dwwTWz2/ulUcCiQnECVsnidu1a5ebOXNmrBBqTeHRo0eHPRiIk8ZOmUMIE1cdASEAAQgURgAhLAw1CUEAAmUiUHYh1EjN1atXo6mgoRCePn162BTRLIQwnLKquvJHKH0hjAur8DbNtEz13PS8dBNCSZ5Gp/3DRgBD2Qunl9o5Np00CWuEMAklwkAAAhAolgBCWCxvUoMABEpCoExCGCd0nUYIsxbCuBG/TiOEEsJwlLIk1Uo2AgKdhFBBVZdr165tndVphFBCeO7cObd69eqeOSOEPaPjRAhAAAK5EUAIc0NLxBCAQJkJlEkIQyGz6Zzt1hCmFULVQ7iG0DaL0aYyoeDZCKCl749WWp2GawjLXNdNzlu4htBG+bSGUJsT+VNAbbTQRgi13vDGjRut9YfiGK4hTMsWIUxLjPAQgAAE8ieAEObPmBQgAIESEiiTEApPml1GexFCpdFpl1GNCGqKqg7tWnrt2jX30EMPRWsI/XP9HU39+BTG32SmhFXe2Cz5u4xqF9FLly65ZcuWRT9MrxHBCxcuRGwmTpzoRo4cGe1+628ao89s91GTQh+mv8lMN8gIYTdCfA4BCECgeAIIYfHMSRECECgBgbIJYQmQkAUI5E4AIcwdMQlAAAIQSE0AIUyNjBMgAIE6EBi0EMbtLNov1/A3Ay0+Ru76Jcv5WRFACLMiSTwQgAAEsiOAEGbHkpggAIEKERiUEJq0addO/3cHK4SOrEKgZwIIYc/oOBECEIBAbgQQwtzQEjEEIFBmAoMSwjIzIW8QyJsAQpg3YeKHAAQgkJ4AQpieGWdAAAI1IIAQ1qASKULlCCCElasyMgwBCDSAAELYgEqmiBCAwK0EEEJaBQSKJ4AQFs+cFCEAAQh0I4AQdiPE5xCAQG0JPH34W+7IkaNuyXsfcPPmze67nJLM119/ve94iAACdSWAENa1ZikXBCBQZQIIYZVrj7xDAAKZEPjijifcR37mg+6OO+7oKz6EsC98nNwAAghhAyqZIkIAApUjgBBWrsrIMAQgkDUBhDBrosQHgXgCCCEtAwIQgED5CCCE5asTcgQBCBRMACEsGDjJNZYAQtjYqqfgEIBAiQkghCWuHLIGAQgUQwAhLIYzqUAAIaQNQAACECgfAYSwfHVCjiAAgYIJIIQFAye5xhJACBtb9RQcAhAoMQGEsMSVQ9YgAIFiCCCExXAmFQgghLQBCEAAAuUjgBCWr07IEQQgUDCBrISw4GyTHAQaTeDYsRPu2ssvRz8bwwEBCEAAAr0TQAh7Z8eZEIBATQgghDWpSIrRKAIIYaOqm8JCAAI5EkAIc4RL1BCAQDUIIITVqCdyCQGfAEJIe4AABCCQDQGEMBuOxAIBCFSYAEJY4coj640lgBA2tuopOAQgkDEBhDBjoEQHAQhUjwBCWL06I8cQQAhpAxCAAASyIYAQZsORWCAAgQoTQAgrXHlkvbEEEMLGVj0FhwAEMiaAEGYMlOggAIHqEUAIq1dn5BgCCCFtAAIQgEA2BBDCbDgSCwQgUGECCGGFK4+sN5YAQtjYqqfgEIBAxgQQwoyBEh0EIFA9Aghh9eqMHEMAIaQNQAACEMiGAEKYDUdigQAEKkwAIaxw5ZH1xhJACBtb9RQcAhDImABCmDFQooMABKpHACGsXp2RYwgghLQBCEAAAtkQQAiz4UgsEIBAhQkghBWuPLLeWAIIYWOrnoJDAAIZE0AIMwZKdBCAQPUIIITVqzNyDAGEkDYAAQhAIBsCCGE2HIkFAhCoMAGEsMKVR9YbSwAhbGzVU3AIQCBjAghhxkCJDgIQqB4BhLB6dUaOIYAQ0gYgAAEIZEMAIcyGI7FAAAIVJoAQVrjyyHpjCSCEja16Cg4BCGRMACHMGCjRQQAC1SOAEFavzsgxBBBC2gAEIACBbAgghNlwJBYIQKDCBBDCClceWW8sAYSwsVVPwSEAgYwJIIQZAyU6CECgegQQwurVGTmGAEJIG4AABCCQDYHGCeGSX/rtbMgRCwQgMDACy999r9vyz388s/QRwsxQEhEECiOQhxCu2vh77ur1m4WVgYQgAIFyENj9mZ91Y+4aWY7MDCAXCOEAoJMkBCDQHwGEsD9+nA2BOhBACOtQi5QBAuUggBC+9tob5aiKYnLBCGExnEkFAnkSQAjzpEvcEKgGAYSwGvVELiFQBQIIIUJYhXZKHiEAAY8AQkhzgAAEEELaAAQgkBUBhBAhzKotEQ8EIFAQAYSwINAkA4ESE0AIS1w5ZA0CFSOAECKEFWuyZBcCEEAIaQMQgABCSBuAAASyIoAQIoRZtSXigQAECiKAEBYEmmQgUGICCGGJK4esQaBiBBBChLBiTZbsQgACCCFtAAIQQAhpAxCAQFYEEEKEMKu2RDwQgEBBBBDCgkCTDARKTAAhLHHlkDUIVIwAQogQVqzJ9p/dnb/+Mff2t45zH//cTvf0s2f7j5AYIFAwAYSwYOAkB4ESEqirEP7qR/+R++jyH3bfPHXe/dyWx0tInixBoH4EEEKEsG2rXrviXe5T//TBSovTFzZ+2I27+0635tNfbJXThPCz//Wrbsfeb9bvW02Jak8AIax9FVNACHQlgBB2RUQACEAgIQGEECFs21R+c8NPuh97972VFsK9v/EL7vLLN4cJYcLvBsEgUFoCCGFpq4aMQaAwAghhYahJCAK1J4AQIoSxjdxk0P9QUyx/9scXtiTx//wXD0Wjb3r//uk/FI0m+seX9n3LfeZLfx69pVG5cXePdE9+/dloKogd79mwtfX3X23dMOz8//6N592/2vonrl1e/Ome4bka/fvFDy6O8mfHC9+9HIlh3AihxNEP608nNak8de5iVHYdl1++4Vb8yu9Efz9w3xT3+U+uaVv22l9FKGDhBBDCwpGTIARKR2DQQqj7ru6r/r3R7tuC1eu9++1vHT9syqh/j7V+RXjP96eXxt2TlR8LY7OfrEL9c226atj3YXlJ6Zo/GcqYAEKIEMY2KV1QP71uxS1r7eIu8CZ1ukDrZnDuwrWW9JlYmYSFidmFWFM73zVjUnT+U9/+TiSXNqXTLt56/dB7Z0XhfCELbwz2mZ1nImhph0IYyqCFs7y3+9xufBafblQ6JLysT8z4SkV0wwgghDQICECgDEIYVwv93rv9NYT/1+P7Ww9c/fuq7rs6fn373tbnJot2z1b4n1h0X3RPtvu1L4P6/Jc/vKzV99ADaOtP2Gfab8Ae/tLiIFBnAgghQti2fcdtvmJCGEpWGIkJnt0YfGnSqKE9wbN4LLzi6SZTdrGXiNqNIy4/YRpxQqj3JJ++YFoZ7QZi6YU3OZNZX3b9Ec86Xzgo22AJIISD5U/qECgDgbIIod337N7ZbjOYpPduu6/rHmyzcjqt+ffDm9RZn6BdX8OfwSQJtD6ACWG3Pk4Z6p88QCBLAgghQtiTEPrTQhRBOAXDIg2F0F7bRdoXsXAU0cQwblRS8ftCGHcDSiOE/sU/3OHMf9qoaSNxI4/hKCJimOVlirhCAgghbQICECibEIb3zl7v3XHTNsN7ajgzSK0hfIjrjxCGs5HC1mN9kXC6KWLI96wpBBBChDATIfSnWUia2o0QdhJCy4idqwvxl/Z985YRvKRPGXsVwnYjhCao7aaiKv8mtWyX3ZRL6GDKiRAOhjupQqBMBMoihOHDW3/ph//QN+m92xdCjeRpyqcvZuGMo3CEUHXkC6N/rvUv/BHCdnVqcSQJW6Z2QV4g0AsBhBAh7CqE/mjfkvvfFk3hCEcI7cIp4bMwOi/pCKEu0jZX35928uTXT7Y2q9ETwrjpmXFPCnWD0uFv9mI3pnANYbv1jeEawnZCaGsZtGGNvxZSU1c4IJAHAYQwD6rECYFqESiLEIbUdN/XYRvNpb1327q/uD0GdF+1e7YvnkrPX9evTezi1v75s5kU/ve+cjjqJ9i5theC0gmXi1SrdZBbCKQjgBAihG1bTDh1wpe9UAj9qSESr//3jw8O2xgmlLBwyqi/hlAZajeVVDeIC1evR1JqU0jidhQL1zT4cfayy6jtpho3ZTQUSqaYpLsIETo9AYQwPTPOgEDdCJRBCHWv1j1Pm735Uqa//Xtjmnt33A/Tm5wpHv9BsdLRw1pf6jpNVVX4uD6DL4R+Own7OnVrQ5QHAkYAIUQI+TZAAAIVI4AQVqzCyC4EciBQBiFUscq0Zr7dfgahrOZQHUQJgUoTQAgRwko3YDIPgSYSQAibWOuUGQLDCSCEt7aIcP8ChQjXHNKOIACBWwkghAgh3wsIQKBiBBDCilUY2YVADgQQwniocb8d3OlnK3KoGqKEQOUIIIQIYeUaLRmGQNMJIIRNbwGUHwLODVoIqQMIQKA+BBBChLA+rZmSQKAhBBDChlQ0xYRABwIIIc0DAhDIigBCiBBm1ZaIBwIQKIgAQlgQaJKBQIkJIIQlrhyyBoGKEUAIEcKKNVmyCwEIIIS0AQhAACGkDUAAAlkRQAgRwqzaEvFAAAIFEUAICwJNMhAoMQGEsMSVQ9YgUDECCCFCWLEmS3YhAAGEkDYAAQgghLQBCEAgKwIIIUKYVVsiHghAoCACCGFBoEkGAiUmgBCWuHLIGgQqRgAhRAgr1mTJLgQggBDSBiAAAYSQNgABCGRFACFECLNqS8QDAQgURAAhLAg0yUCgxAQQwhJXDlmDQMUIIIQIYcWaLNmFAAQQQtoABCCAENIGIACBrAgghA0TwuvXr2fVdogHAhAYEIHbb7/d3XHHHZml/sUdT7iP/MwHM40zs8wREQQgEEsgDyG8ceOGe+ONNyAOAQg0jMCdd97pRowY0bBS/6C4I15DCBtb+RQcAlUlgBBWtebINwSyI4AQZseSmCDQdAIIIULY9O8A5YdA5QgghJWrMjIMgcwJIISZIyVCCDSWAEKIEDa28VNwCFSVAEJY1Zoj3xDIjgBCmB1LYoJA0wkghAhh078DlB8ClSOAEFauysgwBDIngBBmjpQIIdBYAgghQtjYxk/BIVBVAghhVWuOfEMgOwIIYXYsiQkCTSeAECKETf8OUH4IVI4AQli5KiPDEMicAEKYOVIihEBjCSCECGFjGz8Fh0BVCSCEVa058g2B7AgghNmxJCYINJ0AQogQNv07QPkhUDkCCGHlqowMQyBzAghh5kiJEAKNJYAQIoSNa/xbt251Z86ccevXr3czZszIrfybNm1yY8aMcRs3boxNY8uWLe7q1auJ8qEfC/7a177mzp0758aPH+/e9773Rf9zDI7AkSNH3LFjx9yUKVPc8uXLC80IQlgobhKDQCkJ1FUI9+zZ4/bu3etmz57t1q1bN3D2lp9Fixa5NWvW3JKfU6dOuW3btnW83/snKbz+6X4+efJkt3LlyoGXkQwMnsD58+ed2tqoUaNi21neOUQIEcK2bezQoUNu586diYQl74baa/zbt293165dcxs2bGhFYUKoC7su8HkdEkIdmzdv7ksIz54965544gl3//33R/Jx6dKl6KLxgQ98wD3wwAN5ZZ94uxBACGkiEIDAIAkghMXQ7yaoaYRw//790cNd3bt1P9e5Tz/9dNTP0muO5hJACAdb9yNeQwjb1oBkUFKY90hank1Ao3AapfOFMM/00sSddIRQTx6XLVvm5s6d6zRS+OUvfzn6+4tf/KL75Cc/yUhhGugZhkUIM4RJVBCAQGoCCGFqZLmckFQI9TD385//vPvEJz7hNBqj8ySIkkPd13U/52guAYRwsHWPELbhbzLofywxVCfYJPGxxx5rTXm8cOFCNJroHytWrGhNhdConKZHLl68OJoKYoc/emYjavaZTc9olxd/umd4rkb/du/eHaVpx9SpUyMxjBshNDmzsL4Em1Tq6Z3KrqPTVFCLIxwhtKeM+lx50dFt6qqNDj7yyCNReLvxiK3kcMKECZEscji3Y8eOCIOm30yaNCn6W23n+vXr0XuanqMpnv6h9jhr1qzoLZ2vOhZTfyqoXaT98/z41A5VL3bMmzfPLViwIHp54MCBYZ/5+bN4rR0rDv29dOnSrtXJlNGuiAgAgdoTGLQQ6h6ne5l/b/SnVfZ67758+fKwKaN231OFWr8ivOf700v98H4jsDA2+8k+6zY1NW6EULOPTpw4EUWhMivObv0Cyd/Fixej2T06JIF6T/d3PeD9+Mc/zgPeEn1r9+3b59QH8+/Ldk+396zfYdn2l5DY+WvXrm31T/S3jl27djn1m+1QfPqntjZx4sTobfvcj/PkyZPu4MGDwyj5fQ7Fqz6P+oVpp58yZZQRwtivny6oTz755C3CEneBN6nTBVoXxrFjx7akz8TKJCxMzC7EdnHV+dOnT4868jal0y7eeq2Oui7C/oU3vDHYZ3aeiaClHQphKIMWzvLe7vN26wnsfF8I292gFLbTCKw9QfzYxz7WQicR1Bc3vLmU6Do6kKzYhdoujnbhtIupCZg+1wXTJM4u0OGF3b9A+wXSxXr16tXRw5FQMC2cxWl5kHiePn06urnY+oA40fQv7J0gIoQDaWIkCoFSESiDEMYB6ffe7QvYgw8+GK3PC++Vuo/reOihh1qfmyz6s290nddDaLtf+zKoe+9Xv/rVqE/R6X4eCqH/cNcvfzchfPzxxyN59h/i6p6g91TGn/zJn2TaaIm+YXaPtnu+smYPmX2x0/sLFy6MBEyH3cdNCK1Idu8PZVCf2zpSiyPEED68Vv9E8VkfxB6Eh3H7ee+GFiFECNu2kbjNV0wIQ8kKIzHBsxuDxWUXbBMki8d/2tZtiqpd7CWidmGOy0+YhuXRF0L7gvsXciuj3SAsvfAm1+2poi+EFqd/Trcpoza9RF/0uLWC/lTSbl/0JnweXrztYuxfSH0OduG0C6kJoR/eJDNu4xgTQv+CG8YZcvdvJr4Q+qOaSeoKIUxCiTAQqDeBsgihPRSOu8/5NZD03u1v4mKzcjqt+Q83fbGRS80IatfX8GcwddsALhTCdv2ZTkKodYKKRw93w7WC4VTSerfaapXOv6dfuXIlGp1rt5Gc9Qls9ND6IH54/75vUmlE4j4LH3SH9MJ+juU36WwjPz6EECHsSQjDp2nhFAyLNBRCex035z4cRTQxjBuVVPy+EMbJWRoh9IUyvPiH4tZu5DEEGSeE4TTadlNGO8mgRgiVR4XxRw6rdZnNJ7f+xTucLtFuRC8UQv8iHU4P8XMdt4bQ0jepjJsyqjiURj/rBRDCfNoPsUKgSgTKJoThvbPXe3fcCFy4OVs4M0j1Fj7EVR/CRgjD2UhhPXeSuXZC6D+87iSVnWRQI4QawVQHnuUf5fv2+ZKnvpfqKxytC3MdCqE/86fTfT/us7APEjdlVOlbnsI+SBqiCCFCmIkQ2sXZLpDtRgg7CaFlxM6VpC1ZsiQaovcv1kmfMvYqhO1GCK1s/QihL9KdRggfffTR6OZgI4Mqi6ab2KELjtYh6AvM8QMCvqT5c//jnry1GyGME8JOI4T+Z/7FWLnS00R/C+m4EcJetphGCGn1EIBAWYQwfHjrL/3o5d7tC6EeokqY/Ie24Qhd3M9C+MLon2v9C//hbLeW1E4Ik/RndB/S+kAbGZRUPPPMM9H6Qa1X15pCPZREBrvVwuA+1+whzQTSUhMd9tMjdr834Ws3QhgnhPZg2C9VEiEM90poN0LYbmZUJ4oIIULYVQgtgL4EL774YrR4OhwhtIuvH8a+OAobrtsLRwh1kdaFU7/Z50870RfJNqvRE0J/FNFfuxgWQjcoHbb2QH/bjSnMS7v1jeEawn6EMO0aws997nOtncjERYL44Q9/OHqKqC8tItj+suavBbTRv3B6pm7I4qqj0whh3Do/u5B3GyE0IbTw/tx+RggHd3MnZQjUhUBZhDDkaR3mXu/d7Ub1rN9h92xfPJUH/3NtKBf3G8D+bCaF1wZg6ifktYbQ3xjOl0H1J/QwkN8TLv+30V8L6E/F9Kdn3nPPPa3NXjqNEKq0cWsI1dfVb1KGM5vabWIj4XvppZdaeyEwQth/O2KX0Q4MQ4npJIT+1BCJ16pVq4ZtDJNECG3HLl/e9LcvbJr2ofh1UTchjJOtcE1DJyHUZ912GfV/QL6XEUKl4T/1VDl0qMxxayYlhBJAiZ9uVhqFMsntv9nXOwa7eIeLqf2Luj7TxVcLsjsJoUiFUzRsRK+bEGr3Uv/Crzq0rcYRwnq3QUoHgSIIlEEIdT/Wtc3fcdOEsNd7d9yunnaP1r3Tf1Aszro3+lLXaaqqwsf1GdIIoeLw9z3QaKPt/BhKqD9CqJ2uNTKo0UB+jL6Ib0g2afh9AH+9f9g30Gdqu92EULmy2UKWQwmdNmTsJoT+MhT1RebPnx+1PYSw/7pGCPtnSAw5ENBF4fnnn49ilkSwVjAHyBWOkimjFa48sg6BjAiUQQhVlHB9X0bF6ymadvsZKLJuO4P3lGCXkzQqqOUe+l/HvffeiwzmAZo4+ybAlFGmjPbdiJocQbvtp8t0g2xy/dS17AhhXWuWckEgOQGE8FZW4f4FChGuOWxH2B/1szDddlRPXluEhEC5CSCECGG5Wyi5gwAEbiGAENIoIAABhDC+DcT9dnCnn62gJUEAAm/ORhsxYkRjUTBltLFVT8EhUF0CCGF1646cQyArAoMWwqzKQTwQgMDgCSCEjBAOvhWSAwhAIBUBhDAVLgJDoJYEEMJaViuFgsBACCCECOFAGh6JQgACvRNACHtnx5kQqAsBhLAuNUk5IDB4AgghQjj4VkgOIACBVAQQwlS4CAyBWhJACGtZrRQKAgMhgBAihANpeCQKAQj0TgAh7J0dZ0KgLgQQwrrUJOWAwOAJIIQI4eBbITmAAARSEUAIU+EiMARqSQAhrGW1UigIDIQAQogQDqThkSgEINA7AYSwd3acCYG6EEAI61KTlAMCgyeAECKEg2+F5AACEEhFACFMhYvAEKglAYSwltVKoSAwEAIIxeAg9gAAIABJREFUIUI4kIZHohCAQO8EEMLe2XEmBOpCACGsS01SDggMngBCiBAOvhWSAwhAIBUBhDAVLgJDoJYEEMJaViuFgsBACCCECOFAGh6JQgACvRNACHtnx5kQqAsBhLAuNUk5IDB4AgghQjj4VkgOIACBVAQQwlS4CAyBWhJACGtZrRQKAgMhgBAihANpeCQKAQj0TgAh7J0dZ0KgLgQQwrrUJOWAwOAJIIQI4eBbITmAAARSEUAIU+EiMARqSQAhrGW1UigIDIQAQogQDqThkSgEINA7AYSwd3acCYG6EEAI61KTlAMCgyeAECKEg2+F5AACEEhFACFMhYvAEKglAYSwltVKoSAwEAIIIUI4kIZHohCAQO8EshbC3/3Cl9zP/9xHe88QZ0IAAoUTQAgLR06CEKgtAYQQIaxt46ZgEKgrgSyF8Nq1l92TT+5xH/nIT9UVF+WCQC0JIIS1rFYKBYGBEEAIEcKBNDwShQAEeieQpRCeO/ddd/jIUffQ6hW9Z4gzIQCBwgkghIUjJ0EI1JYAQogQVrZxb9261c2ZM8etXLmysmUg49UncODAgagQS5cuLawwWQphHp3KwkCQEAQaTCCP7+6NGzfcG2+80WCqFB0CgyVw/vx5t3//frdmzZpCM4IQIoSFNrg0iUn4pkyZ0vZLgRCmoUnYvAhUXQj37v0LN2nSW9y8ebPzQkS8EIBADgSaJIRbtmxxixcv5gFwDu2IKMtFACEcTH2MeA0hHAz5DFJFCDOASBR9ExiEEOoJ/ve//4YbPfruvvL/Ny98x339qafdhz602t1xxx19xcXJEIBAsQSaJITFkiU1CAyOAEI4GPYIYQfumzZtcuvXr3czZsyIQh06dMjt3r3bbdy4MXotITtz5kwrBg1vL1q0KHqtc+3Qezb0vX379qGRiHlRPFevXo3et3PCrCjstGnTWk8E9frEiRNRsKlTp0b/M2V0MF+cKqS6b98+pykQ/lROvadj+fLlbteuXe7ChQutoujp86xZs6LXO3fudPPnz3cHDx50o0aNarVf/xx734Tw3Llz7vr169H5+s5YuidPnozisWPixIlu9erV0csjR45E52ia1tmzZ4ed14nx669/P9oIZvSY0e6+d97r7rvvze9omuPVV191T+7a65a89wE3efJb05xKWAhAoAQEyiCEGrnTvVyH7ssbNmyI/vb7B2PGjGn1G06dOuW2bdvmNm/e3CK4Z88ed/z48da5inPVqlXRddjOVXxLlixp9Rf8/oAfv/opx44di87T37Nnz3br1q0rQW2RhaoT0L386NGjw2at2f197dq1Tn0BtW87/H6A+h7qz+p83fOtv6E+gNqrHXp/7Nix0ZTRyZMnt+Lz+yEKq++G9Tf0WkunJk2a5CSThw8fjs5VvH5/oxt/powyQti2jXQSQl3AT58+HXuhDad22MVd4mcXcV8022XAF0Klp061yagu9PpCrFixgikk3b7lDf087imb2syyZcuiC6d/hBf6HTt23HIhlQyOGzfulrWCdhOwC7Li1fn+az8txaOL9YIFCyIh1EVbD0n0Oulhawg1wvfiC6fds3/9fDTlc97c2YlGDbWz6OHD33KvvfZ3Q9+hH02aLOEgAIESERi0ELabxhku9/CFL4kQqu/hy6UJpgmhruN6gGbyqdeSUomf9Q38B9ElqjKyUnECun/PnDmz9fC40wwhvx8gIVSb9fsFuv/r+xCuFVTfRd+ZUCjDB9yGUvHogbQeNNu5Wm6lB99pDoQQIexJCO2iG4pd3MXev1hL8vTkLsliWV8I46aHMmU0zVe9mWH9i7ek77nnnmuNzvlEQnkMhc4usnoKGB66IWiEz7/4hjcN/xzdGCZMmNASQruQp6mhcFMZCd4LQ2J47NjxjqOGGhXUjqIv/M13hgRyztDI4r1MFU0DnrAQKBGBQQphOGPIsMT1AfSZPWDW391GCMOH0aEQhvd+P812+SpRtZGVChOQfF28eLF1v2/3kFlF9D+Lm7HkPxwO+yMSQr+/Eabrh/f7Np36Kt2wI4QIYU9CaCfZ1FB7GmeiGEZq0zbCaaCdGihC2O3ry+fdCPgXUV/EdJ49sbM4/CkZEkL/YtxNCBWHPzXVF0I718+rjQh2ush3KpvWEB4/8VxskBdfPD00FfZS9JltFKPX165ei97TNNMHf3RJopHEbnz5HAIQGByBKgmhzRTSFLYkQuhPKRVhf8qoP03Vp69z1Ad56qmnWqOHg6sdUq4rAesfhA+Zw+mfKr+NCIb9D33WSQjDXUbDvkK45MWmhvaz/hAhRAjbfme7rSH0T7QndppS568zDCNHCOt6iSxvuezi7UteOKoXN0KYlRCGo43hCKH/tDEpRa0hPPnsD9Yq+OedP/+9lhC+ffrUoamvE4b+jY8E8I47/iEjgkkhEw4CJSdQRiEUMvUdQqFLO0LYTQi1xjBu/wGEsOSNtgbZs3u47t022ydufWE4QmhhDUGvQhiONoYjhL3+ZAVCiBC2/XqG6wMkfZqnb+v4/BN90eu0PXSvQhiuIbQpIqwhrMHVNeci6OJ58+ZNN3LkyNY0j/CCqteXLl1qTWUORwjtaV67NYT6PG6EUIvD/akfNlrY7whhOGVUU0GPHjvhNDqo3ULfPn0a00FzbldED4FBExikEKrs7e714dKQcM2f5NDfUE7xaCmJrQmME0p/hDCMz68HhHDQrbL+6ZuAaVM6e3Dsr+MTARst7DRC2GkNYacRwlAk9VqHrSFECHtrg+wy2oFbOP1T8mUbu+iCrM/tCBeAh1M6TNx6FUKlE+4qpkWz/i6kvTUBzqo7AdsFzN9FNJzGKUHzF3fHCaE4+Tt7hbuMtpsy6k9N1TnaUEb/26YyvYwQmhCeO/dd98KQBGpN4D33TByKc340GsgBAQjUn8CghVCE/R3Fk+wyqnP0kGzv3r2tClL/wN9ltJsQ2rU4rg+CENa/3ZehhOoLjB8/ftjeAX7/QP1TPYheuHBhtIld3JRRlSPcmdTfZdTfa8OfMhruXK7+i7+pDELYWwtBCHvjxlkQgMAACdy8+ar7sz8/wGjgAOuApCEwaAJlEMJBMyB9CEAgGwJMGWXKaDYtqcdYwieFFg1TQXsEymmNIDBixAj3yis3GA1sRG1TSAjEE0AIaRkQgEBWBBBChDCrtkQ8EIBAQQTCNYQFJUsyEIBAiQgghCWqDLICgYoTQAgRwoo3YbIPgeYRQAibV+eUGAIhAYSQNgEBCGRFACFECLNqS8QDAQgURAAhLAg0yUCgxAQQwhJXDlmDQMUIIIQIYcWaLNmFAAQQQtoABCCAENIGIACBrAgghAhhVm2JeCAAgYIIIIQFgSYZCJSYAEJY4sohaxCoGAGEECGsWJMluxCAAEJIG4AABBBC2gAEIJAVAYQQIcyqLREPBCBQEAGEsCDQJAOBEhNACEtcOWQNAhUjgBAihBVrsmQXAhBACGkDEIAAQkgbgAAEsiKAECKEWbUl4oEABAoigBAWBJpkIFBiAghhiSuHrEGgYgQQQoSwYk2W7EIAAgghbQACEEAIaQMQgEBWBBBChDCrtkQ8EIBAQQQQwoJAkwwESkwAISxx5ZA1CFSMAEKIEFasyZJdCEAAIaQNQAACCCFtAAIQyIoAQogQZtWWiAcCECiIAEJYEGiSgUCJCSCEJa4csgaBihFACBHCijVZsgsBCCCEtAEIQAAhpA1AAAJZEUAIEcKs2hLxQAACBRFACAsCTTIQKDEBhLDElUPWIFAxAgghQlixJkt2IQABhJA2AAEIIIS0AQhAICsCCCFCmFVbIh4IQKAgAghhQaBJBgIlJoAQlrhyyBoEKkYAIUQIK9ZkyS4EIIAQ0gYgAAGEkDYAAQhkRQAhRAizakvEAwEIFEQAISwINMlAoMQEEMISVw5Zg0DFCCCECGHFmizZhQAEEELaAAQggBDSBiAAgawIIIQIYVZtiXgg0JbAvn37nC42S5cuLR2lAwcORHkqY97awUIIS9eMyBAECidQNiE8dOiQ2717t9u4cWNXFlu3bnVLlixxixYt6hp2kAF27tzprl696tatWzfIbJB2AwicP3/e7dmzx61du3YgpUUIEcKBNLysE9XNZcOGDVlHS3wZEehXCO1CuXLlSjdp0qSMcvVmNKEQHjlyxB07dmzYRVlhTp06dcuFWp2F69evt/IzceJEt3r16tj8+WFHjRrl1qxZE4UTGx3Lly9PXC6EMDEqAkKgtgTqIoTbt2+P6qiM0pVGCFWOBx980M2YMaO2bY6C5UcgjRCePHnSvfTSS5k+yEYIEcL8WndBMauj/thjjyV6KllQlkgmINCvEOYJNBTCHTt2OF88lfebN2+6Cxcu3CKECpvkaZ7imDZtmps1a1ZLQi9fvtySx127drmZM2e2Pu9WXoSwGyE+h0D9CdRFCMtcU2mEcMuWLe7hhx9GCMtcoSXOWxohzGNmE0KIELb9euhCqCkgdmhqh41qaERuzpw5bu/eva3PN2/e7HRB1PQKHStWrIg61nbonDNnzkQvx4wZ0xI4Cd22bduczrdDw+bHjx+PRv30+ZNPPummTJnSyo+db+faeX68Jf7e1z5rNqKmgmo0bPz48cOmjPqfK4wvVXZRNEh62qrpnL58SbAmTJgQjeTZobZ2+PDhSNx02Hn620b9LKzako3I+RdWhTt37lxL1PT64sWLbu7cubdM5VA+9+/f3/pOpKlUPd07evRo69ww3W5xIYTdCPE5BOpPYNBCGN5/1Uc4ceLELfd2qwm/T+BPGVVfQ8f06dNvmXKqPog+t/6B38eYPXt2a1RRYcaOHRv1G9TPuP/++923v/3tYf2KuL5G2ErU9/D7NSqTP2XU78foXPWJFMbPl95fv359dA8K+1F+P6f+LZQSdiOgfo3f1/FnIoX9JOvTtHs/7DvNmzfPLViwoFsWWp8jhAhh4sayadOm1kVOF0UdNk1TUyV0I7CLYHjhVXh1wk0oQ+HrJoT63BdSpSf5U3xp1i0kLiwBeyYg2Tl48GBL8uwiZRczyY/ah7UFX4Y6TQ0NhfDSpUutOOwCuXjx4tYoWzjS5xdIN+n58+dHYX0hNNEML6JxT+7Ci6/i99PvBFBp3rhxoyWlaZ4MKl6EsOfmyYkQqA2BQQuhJEjXPHvwq/u85MnWEKrPYMIk6GEfwtYQmhAqbLi2MPzM70fYg2mlb+Llp+d/rvS7jfZZv8X6MZZnXzz9xhP2PfzyKZz6OboXGg+/31ObRkhBeiagmUHjxo1rTftU/+Ps2bNtZx35fZq4WVf6PGkfKC7TCCFCmLgx+9Mhwgtt3IXOLo5KIBQ+/+YQ93kSYTx9+nT0dBAhTFyFhQSMu1D577W7kOmmrhuyL0p+hkMh9DepCUfc7OZv0hcW3J+i6Qthu6mbSYQt6TrHdnGps7Js2bJEayQRwkKaMolAoNQEBimEcfdd/724z/0HuXEjhJI53fvt3i74fr8jTrhsJlGc7IX9km5TOuPi6CSR4XKVMH9+ea0hhWFK3cDIXG4EOj1kbrcMxe8jhP2ouD5Q2qU6CCFC2LbBh1MnFNCenIVP8XoRQl2cV61a5bQRR7cRwnCNoH/TQAhzu2b1FHE3IZR02bROP4G0QqgpozaS100IbdTST8+epPlC6I8c+mGTCKHCtxthtLg6SSNC2FNz4yQINJZAmYUwrv+girKZPu2EUGEkTZpaqXv7U0891Vo6on5CeEydOjX63B9J9MOYgOmeY3G1azBJhNBmQ1kc/jKVUPbC6aV2jj8C2djG2/CCJxHCcKmLkNn+BmE/Ky6swvtLZ7ohRwgRwtg2EidZ4Qihv2V0JyFUg7QLfNyFWu8hhN2+qtX5PIkQTp48OXZueziV0i913BrCJEKodSXhVs7tRgj7FULF265s3aQSIaxOGyenECgDgbILoY3exbHqJISSLm3CpZFC/W8PC+NmGlnc7YTQ3tdUVourVyEMhbHbCGE4k6oMbYY8lINANyFs95DbZhHFCaG//0EvpUQIEcLYdhMKnj3t62WEUEIYTp3QhVVzpW0NYrjWQPKpJ2+2qUynEcIkC8V7+XJwTm8EwjWEikUy124NoZ9KmjWESUcIFb+/gYvlL26EMM0awpBOWG7/gh3HJK7cSXYs1XlMGe2tbXIWBOpEYJBCKI7hGkLd53Vfb7eG0GffSQhtZFCbw/ibsIR7EfjxtRNC25QujCuuHcStIVQZtW5Ry1PCfkxYXpv1ZL+tGK4hrFPboyz9EwjXEPo/bxW3wZ020bMRwriH5+EawrQ5RAgRwrZtJtzN69q1a+6hhx6KOvZppozab/K022VUGQinl2g3Mn+X0U5CqPP9aRzs4pX2MpB9+LhdsJSK/fh7OL3B/12+cHpnp11Gk4wQauMYf5qqpiiPHDmy9TMQnXYZNTJxT/Pipmj4QuePNoa/V2jxmpSyy2j2bZAYIVB3AoMWwm67jIq/Hvb6h2360kkITTZNxEKRtN3K9b5NQW0nhAqjtEaPHp3odw477TIallf9lHDTGNuh1MoZxsdO6HX/VqYrX6ddRv1+g74L+vmrhQsXtvYZsHP9XdP9+JSTpBvdKSxCiBCma72EhkDNCXTanTRp0SWQ+gmMdj9SH8bD7xAmJUs4CEDACAxaCKtSE+ED7Krkm3xCoEgCCCFCWGR7Iy0IlJ5A+LMYeWfYfvg+qTwqP0wZzbtWiB8C5SeAEHavo3b7IdjvJVsMjNx1Z0mIehNACBHCerdwSgeBGhJACGtYqRQJAikJIITtgdkP2isEu3qmbFgEbyQBhBAhbGTDp9AQqDIBhLDKtUfeIZANAYQwG47EAgEIsIZwxGsIId8DCECgYgQQwopVGNmFQA4EEMIcoBIlBBpKgBFChLChTZ9iQ6C6BBDC6tYdOYdAVgQQwqxIEg8EIIAQIoR8CyAAgYoRQAgrVmFkFwI5EEAIc4BKlBBoKAGEECFsaNOn2BCoLgGEsLp1R84hkBUBhDArksQDAQgghAgh3wIIQKBiBBDCilUY2YVADgQQwhygEiUEGkoAIUQIG9r0KTYEqksAIaxu3ZFzCGRFACHMiiTxQAACCCFCyLcAAhCoGAGEsGIVRnYhkAMBhDAHqEQJgYYSQAgRwoY2fYoNgeoSQAirW3fkHAJZEUAIsyJJPBCAAEKIEPItgAAEKkYAIaxYhZFdCORAACHMASpRQqChBBBChLChTZ9iQ6C6BBDC6tYdOYdAVgQQwqxIEg8EIIAQIoR8CyAAgYoRQAgrVmFkFwI5EEAIc4BKlBBoKAGEECFsaNOn2BCoLgGEsLp1R84hkBUBhDArksQDAQgghAgh3wIIQKBiBBDCilUY2YVADgQQwhygEiUEGkoAIUQIG9r0KTYEqksAIaxu3ZFzCGRFACHMiiTxQAACCCFCyLcAAhCoGAGEsGIVRnYhkAMBhDAHqEQJgYYSQAgRwoY2fYoNgeoSQAirW3fkHAJZEUAIsyJJPBCAAEKIEPItgAAEKkYAIaxYhZFdCORAACHMASpRQqChBBBChLChTZ9iQ6C6BBDC6tYdOYdAVgQQwqxIEg8EIIAQIoR8CyAAgYoRQAgrVmFkFwI5ECibEB46dMjt3r3bbdy4sWtpt27d6pYsWeIWLVrUNSwBIFBGAvv27XMTJkxwCxYsKGP2UucJIUQI2zaanTt3uunTp7cu2Hp99uxZt2HDhtQNrdcTdIN58cUX3Zo1a3qNgvMqRkAX2blz57pJkyZFOT9w4IC7fPmyW716dWElOXLkSJRWWS/0CGFhTYGEIFBaAnURwu3bt0eM161bV1rWYX+oW0YlvEX2lbrlh8+zJ5CHEJ48edIdPHjQrVy5Msrwnj17hmV8xowZbunSpdF758+fH/b54sWL3axZs5zFsXbt2lSFRggRwrYNpgxP8HQR1oEQpvpeVzqw6nzZsmUtIRxEYfK40GdZDoQwS5rEBYFqEqiLEFaBftr+0KZNm9zmzZurUDTy2COBPPoJ6v/Mnz+/JXbPPfdc24fhO3bscCaBJocSST1M10PtixcvuuXLlycuHUKIEMY2Fl38zpw50/pMQqZRmtOnT0dP8U6dOuWefPJJN3r0aHfixIko3OzZs928efOcSZze8y+IGu3zP1OcNl1ETwgtHp23YsUKd+XKFadz7FBYnROXN4tny5Yt0Rdk79690WljxoyJpq/o4myHn24YPsxz4m8SATMhoPZx/fr1Vly6uJ07d651YdNF7/Dhw27kyJHRaLWOKVOmuGnTpkVP1ezwn4zpwnjs2LFhcdro465du9yFCxdan6ntqI1b3PpAbVojhXFh9TROh/I9efLk6HuhY+LEiW7hwoXDnt7ZhdrC60mfn680T/MQwkyaG5FAoNIEBi2Eut5t27Zt2D1a93GbMhp+rvu6jXz4gmX9As1ICqecWr/B+hK6Z1+9ejVKU30OG1VUHGPHjnXHjx+P+i7333+/+/a3vz2sD2L56SRqfvxKY/369VFfJ+wPqc8RF1bXdb+/YX0K9XHUH/Efbuv8VatWRf0gjQRZvyUsW6Ub6QAyL1GT3NhImrKg93RIkOL6GdYnMCFTf2LUqFGt+vLv//a+CaF/H7f+gtKykTpDoH6BzXTSzCfFo/6N+iA676677nJHjx5tpdlJ6hR3KIuhoEoY/X5Ht6pACBHCtm3Ev1gpkC5YvhDqRuBf4HURnDp1amuahL5YunCbQCq8Lq66YPoXZl3wn3rqqdjpFXEXUT/D4ZoF5VmCYDcJk0e7AYThlefwplL0tNhuX9KmfR5exPyLoj0F8y+6Ch9eaG/cuBFd+MOpE3ptF9xOF1td/CV47aaM+vGofpQHfypHOLKttHTht5uBwqud2tO7tNNiEcKmfSsoLwRuJTBoIbQHqr7k6Z5vQqj7q/8AVq+tDxAnhPbA119b6F9LdY6umyZVej1nzpyo06twur/76fmfi57fJ4lrT51mJIX9ofB89Y8ko5omGiee3YSQEcXsvuHqJ+zfv3+YfLebeRR3b/b7E8qV+gPjxo0bJpgmmeov2sNc65+0e7jr9yt0z1c7sRE+xaf3dJjIhg+z9ZnFHdd/0fnW97F8d+rHhMQRQoSwLyH0n7SFF1//Aun/bQlaeHWkJYv+hdzCdBNCfaEee+yx1g0ovGiHN4DwQu3foJRmkieI2V22iCmOQBIh9C+4obz5F/jwAmmdAk3J0GFz9e3poOWnmxCGN5wwz+ETyjiB9J/cdbuRhJwQQr47EIDAIIUwbgMZ/724z/37eTsh9B88q4Z1T3/44YejB27h/drvV8TJXtjv8OOKaz02Shc3gthNCP0H270IoeLXw2mWx2TzvdY9fObMmV2nXoYjbeG9vNO9OW4kstOSF38EL65v0m0Kqvo2altqI3Hnh5IYCmY3sgghQtizEPoipkg6CaE9vQsT80cYbfqFP2IXJ4Th9FKbFhrePKzzb6OUccIX91QuvOl0+xLxebYEuglh+OSvkxDqAutP/7Sc+k/llJ4Of4QvTgjDuPzpJIrDl9QkQhg+RUwzvQMhzLbNERsEqkigzEIYToE0vv7SDxsJDEfm7L4cJ1lhPdmspHaje3Y/17S8djOR/Dj9aa5h/8Smd1r4cPmK5aUXIVSc1rfx+zRVbJdlyLMvR6Fohcs//BHB8F7eTQjDXUZ9IQw3fREXm90UJ2vdHkRbn1Z7LPhLaYx3KIkIYbqWOOI1hLAwIfTFrFM1+RIYCmHciF84QmhPE5MKoU1hiRPGdM2J0FkQyFoIw7UE7fLoX4zDC3N4oY0bIUwrhIwQZtFaiAMCzSVQdiG0KZRxNdRuhNDESOvCtURF/+ta2W32TjshtPfV/7C4krYYf1QwHCEM+yb9jhD6eYqbUZU0z4T7AQGTO1/y4h7W+mvxshTCuJlDJpC9CqHFqT024tYQ+v0dhDDdtwEh7MArbsTPX0OYZoTQLua+fLVL2r+whwIYXoT1WiNAtmYhnBKSZMqoPbE0gWQNYbovUdah/V22FHe4hjDNCGGa7Zf9p4jhTSPu9aVLl1rTe3oZIfRHJFlDmHUrIj4I1J/AIIVQdMM1hOH9OFxD6NdIJyE0udJGLuGyFH8NoR9fOyG0DfDCuJK0Dj+PYX8o7rXitJ+aCGcaKX9+38JGUOOWynTaVyFJvgnzJgHdt2/evBltQmfr9cOHvXqtw1/fH87e6bSGsN0IoeJUHYfrCzuNEHYTuLCf4PeVwl1GlX6SEUe/rTBllBHCttcOf1dQTZ3Q0asQ6txwxzG9J0HU+/7uWuF0CduxS1NJH3zwwWG7milfWgfWrxDabqZM1Rj8rcRfSK2pna+88sqwXUbTCKFKE+70pfd0kbZF3VZif9qIP9VD4qZ//u8B6aJuc/l1fq9CaLuS+tNPk9QAU0aTUCIMBOpNYNBC2G2XUdEPd9w0AeokhDov3CDOajKcpmkPdDttCKNztCN6t985DJej+MtXwv6QNhnxd01XX8QfEfWXydiD8HCH1GvXrjlNm9W9x9+t1fpGuu9w9E7A7v3+EpGwP6B7ebjhW9ymMP7OpOEuo/7mc/6UUX+Zic7RBi/6X+Hj5C/cayBcphJudtPudwiNWJplKDoHIUQIe/+21eBMdvaqQSVWsAihQKYtAkKYlhjhIVA/AoMWwqoQTfsbglUpF/msH4FwhlSvJeR3CNOTY8poema1OgMhrFV1VqYwCGFlqoqMQqC0BBDC7lUTt9tp+PuBioXZQd1ZEiJ/AmmWubTLjcWR5jcIGSF0DiHMv32XOgWEsNTVU9vMIYS1rVoKBoHCCCCE7VH7UzyT7F1QWKWREARKSoApo0wZLWnTJFsQgEA7AkwZpW1AAAIIIW0AAhDIigBCiBBm1ZaIBwIQKIgAQlgQaJKBQIkJIIQlrhyyBoGKEUAIEcKKNVmyCwEIIIS0AQhAACGkDUAAAlkRQAgRwqzaEvFAAAIFEUCzfu/GAAAcYUlEQVQICwJNMhAoMQGEsMSVQ9YgUDECCCFCWLEmS3YhAAGEkDYAAQgghLQBCEAgKwIIIUKYVVsiHghAoCACCGFBoEkGAiUmgBCWuHLIGgQqRgAhRAgr1mTJLgQggBDSBiAAAYSQNgABCGRFACFECLNqS8QDAQgURAAhLAg0yUCgxAQQwhJXDlmDQMUIIIQIYcWaLNmFAAQQQtoABCCAENIGIACBrAgghAhhVm2JeCAAgYIIIIQFgSYZCJSYAEJY4sohaxCoGAGEECGsWJMluxCAAEJIG4AABBBC2gAEIJAVAYQQIcyqLREPBCBQEAGEsCDQJAOBEhNACEtcOWQNAhUjgBAihBVrsmQXAhBACGkDEIAAQkgbgAAEsiKAECKEWbUl4oEABAoigBAWBJpkIFBiAghhiSuHrEGgYgQQQoSwYk2W7EIAAgghbQACEEAIaQMQgEBWBBBChDCrtkQ8EIBAQQQQwoJAkwwESkwAISxx5ZA1CFSMAEKIEFasyZJdCEAAIaQNQAACCCFtAAIQyIoAQogQZtWWiAcCECiIAEJYEGiSgUCJCSCEJa4csgaBihFACBHCijVZsgsBCCCEtAEIQAAhpA1AAAJZEUAIEcKs2hLxQKCRBA4cOBCVe+nSpYWVHyEsDDUJQaC0BBDCzlWzdetWN2fOHLdy5crS1iEZg0BI4Pz5827//v1uzZo1hcJBCBHCtg1u586dbvr06W7RokWFNsp+EtMNYMOGDa0otmzZ4hYvXpzrDSFMs5/8c271CCCE1aszcgyBOhBouhDq3jtlypS2HWeEsA6tvHllQAgHU+cjXkMI25LXxXTJkiWVEcJDhw65p556apgQ5t2sTp065R577DG3cePGvJMi/pISQAhLWjFkCwI1J5ClEL766qvuwoVLbvz4se6NN96oBTmEsBbV2LhCIISDqXKEsA13XUjPnDnT+lRD15cvX3ZXrlxxV69edSdOnIhEUe9v3749em3HihUrWiNyGqFbtWqV02ijHevXr3czZsyIXsalo3j37Nnj9u7d2zpn9uzZbt26da3XYZrKh5/G1KlTIzEMpVZhJI7t8iIB9uNRvO1GSCWD27Zta8U1ZsyY6GmlDj+vik/MHnzwQffkk09GYSwPOseXybDcPqvBfEWqm+q+ffucpkD4Uzn1no7ly5e7Xbt2DXWALrQKqJHkWbNmRa9VZ/Pnz3cHDx50o0aNaj2B9s+x900Iz507565fvx6dr/Zt6Z48eTKKx46JEye61atXRy+PHDkSnXPjxg139uzZYed1Is+U0eq2S3IOgawIZCGEEsGjx064F1887e644w73Y/84+dT3TZs2Of8epfva7t27W/e0dvd3lV/n2mF9Cb3WvX3evHlRPLpvdroHK+y0adNa/Q2/X6A+gA6mjGbV2ohH9/KjR48OG5G2+/vatWud+gLqF9rh9wPU91Bb1fm651t/Q32AY8eODeuHjB07NpoyOnny5FZ8fj/E+ijW39BrTYueNGmSk0wePnw4Olfx+v2NbjXIlFFGCNu2EZM5EyKTFV/4wpNNkjZv3hx9pDgkPTaNU3EcP348eq2/T58+PUye2mXGz4su+jp86dJrP26LxxdCdfLV6ba8hHlVWN2ATNDCm1tc3sIwYZzGQFKsL6YEMrz5WVkUl/Jo7JKk3+0L3uTP456yie+yZcuiC6d/hBf6HTt23HIhlQyOGzfulrWCdhOwC7Li1fn+az8txaOL9YIFCyIh1EVbHSC9TnoghElJEQ4C9SXQqxDaaOAzz5x0L710Yeh69Naha9CcoWve+OjhVNIRwk5C2On+Hi7lCO/vesCc5GGoL4RKTw/e/Pu3rved+iv1bRmULC8Cun/PnDmz9fC40wwhvx8gIVT/0+8X6P6vPmO4VlB9F7XnUCjDB9xWRsWjB9J60GznauBBD77THAghQti2vcQJoclcp0amm4QvhJIhk0p/iqUJUJILvy924U3I8tJNCMPy6Dx/Sknc9BK/LEmEMIzTn8YaJ4u+9NlIoi+6cXlO8wVvelj/4i3pe+6551qjcz6bUB5DobOLrJ4ChoduCOpE+Rff8Kbhn6Mbw4QJE1pCaBfyNHWFEKahRVgI1JNAWiEMRwPfPn2au+++e6ORQTuyEsJ29/e4+6B/75Pk6SFykg01fCGMu38zZbSe7X6QpZJ8Xbx4sXW/b/eQWXn0P4ubseQ/HA77I+rP+v2NMF0/vN+36dRX6cYNIUQIUwlh3IheOA1TEfpC+PDDD7emiMatubOpI/7Imd1M/MzZ1JEshdC/+cStmexFCH0x9W9YcWX3b47hNFgre6cpM92+4E3/3L+I+iImLvbEzhj5UzIkhP7FuJsQKg5/aqovhHauXxc2ItjpIt+p7hDCprdsyg8BNzS74IR79q9PDW3+Nq0rjpevvexeePGMkxS+4+1vc+MnjIs95/457+walwXoNmVU4cL7e9y9XeFsWUg4DbRTZhDCxFVFwAwJWP8gfMgcTv9UkjYiGPY/9FknIQx3GQ37CuGSF5sa2s/6Q4QQIWz7NYkbIQyFMG5ULhwh7CaElgF7mqdhck2tNKnU51mMEMYJXzhCGG6i04sQKr9ip3L75eg2QpjmyWiG17baR2UXb1/ywlG9uBHCrIQwHG0MRwj9p41JKwMhTEqKcBCoL4FrQ5J38tkfrFnqVNLz5783NK3su1GQ+955r7t79N2xwefef18mU0bDyO1eq2n3/jrDMBxCWN/2WpeS2T1c926b7RO3vjAcIbSwxqFXIQxHG8MRwl5/sgIhRAjbfkfD6RZxawLCaY42WphmhNAyYDeC8IZhTxRtpKzdGsK4NXe+BIbyGq7Z62WEME7yVB5brzh69OjWWkcL669p8MsS5qcuF89Bl0MXz5s3b7qRI0e2pnmEF1S9vnTpUmuaUjhCaE/z2q0h1OdxI4RaHO5P/bDRQkYIB90qSB8CzSNgAqm1g1OG1g1Onz51aMromxu82ZFmymi4FjBch+/H64tep5+D6lUIwzWEcffb5tU4Jc6DgAmYNqWzB8f+Oj6laaOFnUYIO60h7DRCGIqkXuuwNYQIYW+1zi6jHbj5UzskMTripoyGu4VpQbgt7LaRMttV1J82GU41tZ1BlY6/O5nel1ipE21rEcPdy0xA7X3bvbOXXUb9XUW7jRAqr/5UT8uH3Yz86Z5Wdi32tV1Z/TIrrrjpNP5IaW/NvNln2S5g/i6i4TROtS1/cXecEIqi2qzt7BXuMtpuyqg/NVXnaEMZ/W+byjBC2Oz2SekhMAgCf/PCd5zEUKOG8+bNdvPmzh66z96dalOZ8H6lfoJt7NLp/q7yqm+gTdzssAelvQpheC+2Xb/9XUgHwZk060lA7Xv8+PHD9g7w+wfq5+lB9MKFC6NN7OKmjIpMuDOp+im2y6i/jtafMhruXK7+i7+pDELYW5tDCHvjxlldCLRbL8hvFtJ0siDAlNEsKBIHBCCg3x6UHB45cjRaW7h06XuAAgEINJAAU0aZMtrAZp++yP4oqJ0dju75scatB+RH7NNz54x4AgghLQMCEMiagEYLy/bD9OFv84YjilkzID4INJUAQogQNrXt51Jumz4aJ4sIYS7IGxkpQtjIaqfQEMidQJo1hLlnhgQgAIHCCCCECGFhjY2EIACBbAgghNlwJBYIQGA4AYSQFgGBZhJACBHCZrZ8Sg2BChNACCtceWQdAiUmgBCWuHLIGgRyJIAQIoQ5Ni+ihgAE8iCAEOZBlTghAAGEkDYAgWYSQAgRwma2fEoNgQoTQAgrXHlkHQIlJoAQlrhyyBoEciSAECKEOTYvooYABPIggBDmQZU4IQABhJA2AIFmEkAIEcJmtnxKDYEKE0AIK1x5ZB0CJSaAEJa4csgaBHIkgBAihDk2L6KGAATyIIAQ5kGVOCEAAYSQNgCBZhJACBHCZrZ8Sg2BChNACCtceWQdAiUmgBCWuHLIGgRyJIAQIoQ5Ni+ihgAE8iCAEOZBlTghAAGEkDYAgWYSQAgRwma2fEoNgQoTQAgrXHlkHQIlJoAQlrhyyBoEciSAEDZMCHNsS0QNAQhAAAIQgAAEIAABCECgUgRGvIYQVqrCyCwEIAABCEAAAhCAAAQgAIGsCCCEWZEkHghAAAIQgAAEIAABCEAAAhUjgBBWrMLILgQgAAEIQAACEIAABCAAgawIIIRZkSQeCEAAAhCAAAQgAAEIQAACFSOAEFaswsguBCAAAQhAAAIQgAAEIACBrAgghFmRJB4IQAACEIAABCAAAQhAAAIVI4AQVqzCyC4EIAABCEAAAhCAAAQgAIGsCCCEWZEkHghAAAIQgAAEIAABCEAAAhUjgBBWrMLILgQgAAEIQAACEIAABCAAgawIIIRZkSQeCEAAAhCAAAQgAAEIQAACFSOAEFaswsguBCAAAQhAAAIQgED5CFx55XV3+qXXEmXsjjtHJQo3+k7nJo15I1FYAkGgVwIIYa/kOA8CEIAABCAAAQhAoPEE/vL4y+5//9LZSAYlhd2OMaNud2+5713dgg37/H3vfMOtWfB9t+BtyGEqcARORAAhTISJQBCAAAQgAAEIQAACEBhO4N//4Xn3hd0XEomgndmLENq5/2zJ9926pd+nGiCQKQGEMFOcRAYBCEAAAhCAAAQg0AQCX3n6invk0RdSF7UfIVRin/7g604jhhwQyIoAQpgVSeKBAAQgAAEIQAACEGgMgUX/8plUI4MGpl8hHD3SuS/8/N85/c8BgSwIIIRZUCQOCEAAAhCAAAQgAIHGEHjmxRvuQ//m2Z7KGyeEC6Y7d99bhkd37opzf9EmiUfXvu7e+RZGCXuqAE66hQBCSKOAAAQgAAEIQAACEIBACgKPf+2S+9Xf+U6KM34QNBRCjfT9l//BxY74PbrPuT/4q1uT+Rf/+PvupxeylrCnCuAkhJA2AAEIQAACEIAABCAAgX4I/O5/eynaWbSXIxRCjQz+1rr4mHYddW7Lrls/Y3OZXshzTjsCjBDSNiAAAQhAAAIQgAAEIJCCQJ2EUDulfvs7N92jj7w9IqDpsP/hj77r3r9wrPvw+8anoBIfVD/L8YXdL7mfXjbe/fgDY/uOjwiyJ4AQZs+UGCEAAQhAAAIQgAAEakwgSyFcMce5/+2D8bCKGCH8Z79xyknaTv72D0eZ0N9675d+6i3uf/7QpL5r0abX/q8fneJ+/v33RPGJ3+mXXnV6r+nHtZvOPfH0bdGa0EHtHosQNr0VUn4IQAACEIAABCAAgVQEshLCH73PuV97yLm77miOEF555XWnHVp1aFSy6aOGTxy+zf2nP7stWkM6qN1jEcJUX38CQwACEIAABCAAAQg0nUC/Qjhj/rvczy5z7mfe49ypv3Vuxg/FE/29/UOSMPQvPLJcQziIEUJtyHP6pdciIRx71+2Nbk4aIfz1P77dvXvqG27d0sFsFIQQNroJUngIQAACEIAABCAAgbQE+hHC98662/3bfz4r+pmJIy8696//0LnJQ0vr9NMT/iFR0M9O6P+6CWFa3oTPlwBCmC9fYocABCAAAQhAAAIQqBmBOCHUSNe//CeT3dL7Rw8r7Xf+9lX3qc+/EP2I/fqfeIv75TWT3Yjbbnca/Yv7SYkkqHodIVQeNDI37Z5/2BqZ6zZCaOeofDqv26Hw2pjmR+bcHQWNW0PYKY406VnYudPv7Jat1ucqv46wLL2k63O0BFT2pKySZvqvvzciCprXb08ihElrgnAQgAAEIAABCEAAAhAYIhAnhJK9TWunxfL57B+cdQtm3OV+4j3jhnb0vOF+c++d7tnv9Y4yrRBKdrRzqORMf5sQfeYX3ha9325TmbF3/YPocztH5/mbw/glUByPPPqm+NqhTWTmTh8V/Wajf55J6KH/e25LTHW+fspDQmWHxOrf/fy0W9YZ2k6oOsfSk4AqjQ/9m2cjGf3PvzIjikZxqr40PfWJ/ZfcV56+Esngvn83tJvP0JE0XeVZci9mNuVV50tGlZZEU+9b/pV3vd9NVs9fHeF+9ndujzaU+fQHf8BOI8NfeeY295//8rZho8T6/Un9DmWWB0KYJU3iggAEIAABCEAAAhCoPYG0Qnjp5dfd+Ltvd9v+9Hvu87u+5+6cNq8vRmmF0ARMciJZGjPqtkgOJTESF0lVuMuova/wJjUqtw6Jnr9DqPHQOQov4VLcki+Lp5sQSiaPvXA9+qmLH5kzOjpfP4mh/yVWNuKo15I+5VnvLZl9V5QnK4/+jhNC5enq9e9HeXvbD93R+pkNsVFc7184JpJXxW8SLGm0kUSFM9kTD/3Tawml/tZ59r7iU35Udklvp6OdEGpd4df+ekQ0KvjuaW+4u4c2HvrGmRHuG98ZEW1A8wf/49/11Yb8kxHCzFASEQQgAAEIQAACEIBAEwikFcLXv/+Ge+T/ed796V9dHpKx292S9wQLBlNCWzF3pPvoj3SfvmmipJEr7eap0TZ/ExdJmKRNRyiEei/cBVQCJBnTYbIk+Vnxv5yI3lN4Eze99sN3E0KFV1x+/iRZy3/t+LCfwFBZJFuhlOp85c2mq4YjhBK7//KpmbFTRXWun27cNFeT6jBd5U/5FF/7LUfFZ/nstpNqnBBKBKONZt725qihBNCO3/jKbdHI4Y/P/b77lR/PZqQQIUz5BSQ4BCAAAQhAAAIQgECzCaQVQtHS6JfWEr74vVfdzTvfXF/X6/HI+8e6T/xEsh+NN+n7w3993y3TF/2fgAiF0B9l8/OpUbv/8Effa00BlVAqjThB88UoiRAqvIROUzM1mqf8acqnRg01VVOHBEyf7f0/Zt+yQ6nlJW6EsN1UVytbXLp+mUwI/VFDnWtTUsPfbbS8dEs3TghtdFAyGPfbhD/zW/8gynZWo4QIYa/fRM6DAAQgAAEIQAACEGgkgbRC+IcHLroPLZ0Qsfrl3/ob9yfHf7BWrBeAaYTQRrBM+ML0bFQtFMJ2gmeiY5JmLCRsei88QoHU593WENponaa2avTN0rIRx3ayaoLbbg1h3G8eajTwd//b30YiGqabRgjDkUDjFIpiyCdOCLWmUO//3i+87iaNeeMWpo/suN1poxkJoT962Etb0jkIYa/kOA8CEIAABCAAAQhAoJEE2u0y+uefnXfLqJUkZe1n3pxm+Vu/NCNav/aFP7vs/u3ON9fj9XKkEUITPn8DFz/NUBi1Jk7CFk6BtHNsOqXJUjfxMVadRgglY0pT0zollrZ7p00ZNSE04Wu3Ni9OGG0Ez1+HaGVR3n/td0+3TTdOCEOxbhd/Ny6Whzgh/NTjt0drBdsJoYTx5VffFMIsDoQwC4rEAQEIQAACEIAABCDQGAKdfocw7ofWbSdMffabv/gOt3LBWPfM6Vfdzz56xl0Zmv6Y9kgjhCYscVMXTVqUftymMnHTMm10z0bETNL8nTutPPrMNmPpJITGMxxlMzn1p4ya4MYJnpU1boQwLryNXrZLd1BC+J/+7Db3xOHbXNzmQUeGRHHjkDBqfeFnP9zfSLPVE0KY9htIeAhAAAIQgAAEIACBRhPo54fptanML/6Tt7n/afWESAY/8Tvn3ft/+C43d+rQNpLeoc/+459ejMQxPP7/9u7exY4qjAPwkOAmUVxNCBvMBkS0WEgRGz/QzohdQLQS/MBKUMTCxm0E/4A0glqKjYpFsLBzbS20ESwUWyMIfqGiEoTo/c1ylpO7c5f7RTbseaaSvXfm3POcsfjlzLzvLIGwfk8woaw81pndtLp9wlBRmVTNzDmliualz3/rWziMP7JZ3lMsrR9KldFU6yxFa/YKhGXXsd6VzO/OdRMK60BYQmJMym/Lf2999cdOW41ZA2E9bmkfkXGWHQhTLObi1uHu8XNXu2ce3P6HgKEdwrScePH97cdGEwofO5sqo//1j4leHBWVye7g66P3C8+NQuEyDoFwGYquQYAAAQIECBAg0IzAooEwRWXuv+dY99bzp7rV0Xtyk45Jj5bOEghz7TpE1WMl8CSwJQQNvUOY8+q+gDk34fCdl+68plpnHd7q6ycYJpwl8O0VCHN+dv5K0/gSQJ87f6J777Nf+2vUFTzrnc0yXnZfM0ZC7rSBsFRILTu4ZdyXL6z1xWKWHQjLzl9aSbz91Pbu3qS2Ewl/b3xyqP+8PvLO4NMPXO3Sj3BZh0C4LEnXIUCAAAECBAgQaEJgGYEwUAmDH72y3t21NtxC4tKXf3abH+zuYD9rIMxYpTfeD79s7zg+eu/qTljLZwk/9fdKz8KEuW++/6f/LH360q9v6LHYfJ6glu9+e/nKqD/gLTsN5fP3up9hCaFlzHLTxDXn5/pPPHS8D5/5W4LlUEGYMt6Zk0f67+a8vBNZB8LynScfPrGr5USZb4rKJIxuj3Pb4LiTfvOk65c+jMUxY5Vm8+krmFBY/y3FY4YqiqbFxI+/d6Ndwa47tdr13xkqNLPI/3gC4SJ6ziVAgAABAgQIEGhOYFmBsA9Z6yvdx69ut1QYP5YZCFtYpLITOqlCagsG88xRIJxHzTkECBAgQIAAAQLNCgiE+7f0eYQ1j3PmEdJ6p7J+bHWogMz+/eIbf2SB8MZfI7+QAAECBAgQIEDgBhIQCPdvMUqV0fyCPEa6ceZI36i+fqQz7xI6phcQCKe38k0CBAgQIECAAAECffhIBcx5jlQZTVGZ+sgjo3l0tD5SZXTzw5+6ra//2jXMm8+e7M6PKpO2eiSQp4JpKQYTh+wWphjM+HuJrRrNMm+BcBYt3yVAgAABAgQIEGheoG7lMCvGUCDsA81AtdFJPQo/3VzvTh8/POvQB/L7eYS0NLI/kBO8DpMSCK8DsiEIECBAgAABAgQOlkDpvTfrrCYFwmmvk53B7BA6CCxLQCBclqTrECBAgAABAgQINCMw3sNu2okvEgizi/juC2vdxlgT+2nH9j0CQwICofuCAAECBAgQIECAwBwCeVwxjdDHm7fvdal5A+F9dx/tXrtwuzA4xzo5ZW8BgdAdQoAAAQIECBAgQGABgTRvv/zzle6L7/6+ptDJ0CVvPnqo+3dluoIwt452BDdO39Rt3LHSPXL22OB7hgv8bKcS6AUEQjcCAQIECBAgQIAAAQIEGhUQCBtdeNMmQIAAAQIECBAgQICAQOgeIECAAAECBAgQIECAQKMCAmGjC2/aBAgQIECAAAECBAgQEAjdAwQIECBAgAABAgQIEGhUQCBsdOFNmwABAgQIECBAgAABAgKhe4AAAQIECBAgQIAAAQKNCgiEjS68aRMgQIAAAQIECBAgQEAgdA8QIECAAAECBAgQIECgUQGBsNGFN20CBAgQIECAAAECBAgIhO4BAgQIECBAgAABAgQINCogEDa68KZNgAABAgQIECBAgAABgdA9QIAAAQIECBAgQIAAgUYFBMJGF960CRAgQIAAAQIECBAgIBC6BwgQIECAAAECBAgQINCogEDY6MKbNgECBAgQIECAAAECBARC9wABAgQIECBAgAABAgQaFRAIG1140yZAgAABAgQIECBAgIBA6B4gQIAAAQIECBAgQIBAowICYaMLb9oECBAgQIAAAQIECBAQCN0DBAgQIECAAAECBAgQaFRAIGx04U2bAAECBAgQIECAAAECAqF7gAABAgQIECBAgAABAo0KCISNLrxpEyBAgAABAgQIECBAQCB0DxAgQIAAAQIECBAgQKBRAYGw0YU3bQIECBAgQIAAAQIECPwPVBq43azngdIAAAAASUVORK5CYII=)"
      ],
      "metadata": {
        "id": "3CAPtwaRj3xK"
      }
    },
    {
      "cell_type": "markdown",
      "source": [
        "#### Data Dictionary"
      ],
      "metadata": {
        "id": "U6iBYIR-gm0n"
      }
    },
    {
      "cell_type": "markdown",
      "source": [
        "##### Transactions Table"
      ],
      "metadata": {
        "id": "Xdo4498Dx1K1"
      }
    },
    {
      "cell_type": "markdown",
      "source": [
        "|Database field |Data type| Description | Example| Restrictions|\n",
        "|---------------|---------------|--------------------------------------------------|-----------------------|----------------------------------------|\n",
        "|`transaction_id`|varchar|Unique identifier of the transaction|8B223ASDAAS-4512-00045787|Primary key, not null values|\n",
        "|`user_id`|varchar|Identifier of the user who makes the transaction|78A444545AS-8734-456TYTAA|No restrictions|\n",
        "|`amount`|float|Numeric value related to the amount of the transaction|54.12|Rounded to two and up to 15 digits for value|\n",
        "|`timestamp`|timestamp|Time of the transaction in UTC|2023-01-01 06:12:14|Format YYY-MM-DD HH:MM:SS|\n",
        "|`transaction_type`|varchar|Category of the transaction|Subscription|Up to 50 characters|"
      ],
      "metadata": {
        "id": "O2qheXwYx5GX"
      }
    },
    {
      "cell_type": "markdown",
      "source": [
        "##### Packages Table"
      ],
      "metadata": {
        "id": "UFTu7L3VRpzk"
      }
    },
    {
      "cell_type": "markdown",
      "source": [
        "|Database field |Data type| Description | Example| Restrictions|\n",
        "|---------------|---------------|--------------------------------------------------|-----------------------|----------------------------------------|\n",
        "|`package_id`|varchar|Unique identifier of the package sent |7A342RTSEQA-7836-32157815|Primary key, not null values|\n",
        "|`courier`|varchar|Category that identifies the company who delivery the package|DHL|Up to 50 characters|\n",
        "|`delivery_date`|date|Date indicating when the package was delivered|2022-07-05|Format YYY-MM-DD|\n",
        "|`delivery_status`|varchar|Category indicating the package delivery status|Delivered|Up to 50 characters|\n",
        "|`user_id`|varchar|Identifier of the user who received the package|78A444545AS-8734-456TYTAA|No restrictions|"
      ],
      "metadata": {
        "id": "LH45g0gjRyFH"
      }
    },
    {
      "cell_type": "markdown",
      "source": [
        "##### Users Table"
      ],
      "metadata": {
        "id": "Li9izHg8Ru-Y"
      }
    },
    {
      "cell_type": "markdown",
      "source": [
        "|Database field |Data type| Description | Example| Restrictions|\n",
        "|---------------|---------------|--------------------------------------------------|-----------------------|----------------------------------------|\n",
        "|`user_id`|varchar|Unique identifier of the user|78A444545AS-8734-456TYTAA|Primary key, not null values|\n",
        "|`name`|varchar|Complete name of the user|Cosme Fulanito|Up to 75 characters|\n",
        "|`email`|varchar|Email of the user|fulanito.cosme@gmail.com|Up to 100 characters|\n",
        "|`join_date`|date|Date of user login to the platform|2023-06-02|Format YYY-MM-DD|\n"
      ],
      "metadata": {
        "id": "iPi4t1NuZCJo"
      }
    },
    {
      "cell_type": "markdown",
      "source": [
        "### 2.- Merging Data and Data Cleaning\n",
        "Instructions\n",
        "Create a merged file that consolidates the information. Make sure that:\n",
        "- Date formats are standardized to YYYY-MM-DD,\n",
        "- Timestamp fields have the Mexico City time zone,\n",
        "- Numeric fields have two decimal places,\n",
        "- Text strings do not exceed 256 characters.\n"
      ],
      "metadata": {
        "id": "u6yJuUYtlBUn"
      }
    },
    {
      "cell_type": "markdown",
      "source": [
        "#### Previous steps for data cleaning"
      ],
      "metadata": {
        "id": "35ny6MWEkxvv"
      }
    },
    {
      "cell_type": "markdown",
      "source": [
        "##### Check the data types"
      ],
      "metadata": {
        "id": "hSIcGxKL_j2U"
      }
    },
    {
      "cell_type": "markdown",
      "source": [
        "I'm goint to check a summary of every dataset and after of that I'm going to check the date values that are the most complicated"
      ],
      "metadata": {
        "id": "sdGXggfFz4yH"
      }
    },
    {
      "cell_type": "code",
      "source": [
        "test = pd.DataFrame({\n",
        "    'user_id': ['7A342RTSEQA-7836-32157815', '7B564RTYOP-9456-78951234'],\n",
        "    'name': ['Juana la Cubana', 'Ana Lava la Tina'],\n",
        "    'email': ['la.cubana@example.com', 'anita_tina@example.com'],\n",
        "    'amount': [54.12, 100.50],\n",
        "    'join_date': ['2023-01-01', '2023-06-02'],\n",
        "    'cantidades': [1,2]\n",
        "})\n",
        "\n",
        "print(test['join_date'].dtype)\n",
        "\n",
        "test['join_date'].isnull().any()"
      ],
      "metadata": {
        "colab": {
          "base_uri": "https://localhost:8080/"
        },
        "id": "90OWvVjR5R6a",
        "outputId": "526299b2-f699-4718-a1e3-e91646c50cba"
      },
      "execution_count": 68,
      "outputs": [
        {
          "output_type": "stream",
          "name": "stdout",
          "text": [
            "object\n"
          ]
        },
        {
          "output_type": "execute_result",
          "data": {
            "text/plain": [
              "False"
            ]
          },
          "metadata": {},
          "execution_count": 68
        }
      ]
    },
    {
      "cell_type": "code",
      "source": [
        "### I'm going to create a function that detects the type of every column\n",
        "### If the column is character or date the function prints the unique value,\n",
        "### if is numeric, the function prints a statistical summary\n",
        "def quickViewDf(df):\n",
        "  columns = df.columns\n",
        "  for column in columns:\n",
        "    print(f'Column evaluated is {column}') ## Evaluates every column\n",
        "    nullValues = df[column].isnull().any()\n",
        "    print(f'Does this column have null values: {nullValues}')\n",
        "    if df[column].dtype in ('float64', 'int64'): ## if the data type is integer or float gives a summary\n",
        "      print(df[column].describe())\n",
        "    else:\n",
        "      uniqueValues = df[column].unique() ### Get the unique values\n",
        "      maxCharValues = np.max(df[column].str.len()) ### Detect the max number of characters of all rows and give the number\n",
        "      print(f'Total values {len(df[column])}')\n",
        "      print(f'Unique values {len(uniqueValues)}')\n",
        "      print(f'Max number of characters evaluated in all rows: {maxCharValues}')\n",
        "      print(uniqueValues)\n",
        "    print('-------------------------------')\n",
        "\n",
        "\n",
        "\n"
      ],
      "metadata": {
        "id": "jDDqUVyV1WCx"
      },
      "execution_count": 69,
      "outputs": []
    },
    {
      "cell_type": "code",
      "source": [
        "quickViewDf(transactionData)"
      ],
      "metadata": {
        "colab": {
          "base_uri": "https://localhost:8080/"
        },
        "id": "RkivP148uNo9",
        "outputId": "c16c9081-7ef4-41d5-92f1-351b8b2b9d54"
      },
      "execution_count": 70,
      "outputs": [
        {
          "output_type": "stream",
          "name": "stdout",
          "text": [
            "Column evaluated is transaction_id\n",
            "Does this column have null values: False\n",
            "Total values 10002\n",
            "Unique values 10000\n",
            "Max number of characters evaluated in all rows: 36\n",
            "['8b266b46-9ec7-4010-83e4-004b3bef400f'\n",
            " '98ae73d5-6918-4790-9d63-eedf8ad43a0b'\n",
            " '483b1462-9efe-4e9e-a659-da11640c3201' ...\n",
            " 'fa91e893-25d6-4acf-b8ba-70e6655a985c'\n",
            " '3b7226ab-3e15-41d4-b1a8-8bb40cd58198'\n",
            " '45c3a0fe-5f12-40b6-a0d9-714bebdcec7a']\n",
            "-------------------------------\n",
            "Column evaluated is user_id\n",
            "Does this column have null values: False\n",
            "Total values 10002\n",
            "Unique values 10000\n",
            "Max number of characters evaluated in all rows: 36\n",
            "['1d10b266-b7b2-4258-88b3-3957de0461ea'\n",
            " 'bf04c0b9-8a09-49e4-b4a5-0b2915bc5143'\n",
            " '616735b6-b8db-4517-bb3f-8171ec2a6166' ...\n",
            " 'ffdddbb5-7988-4d29-bc05-3005955d9a46'\n",
            " '19ede31b-9973-4045-ad18-34fe7753f8ec'\n",
            " '2edc892a-50f2-4dfc-8d8a-5d47f528f2fd']\n",
            "-------------------------------\n",
            "Column evaluated is amount\n",
            "Does this column have null values: False\n",
            "count    10002.000000\n",
            "mean       495.455799\n",
            "std        289.957151\n",
            "min          0.190000\n",
            "25%        241.262500\n",
            "50%        492.205000\n",
            "75%        749.170000\n",
            "max        999.980000\n",
            "Name: amount, dtype: float64\n",
            "-------------------------------\n",
            "Column evaluated is timestamp\n",
            "Does this column have null values: False\n",
            "Total values 10002\n",
            "Unique values 9983\n",
            "Max number of characters evaluated in all rows: 19\n",
            "['2023-06-11 06:12:30' '2023.08.30 09:26' '11/22/2023 01:09 AM' ...\n",
            " '2023-09-15 15:35:30' '2023.09.05 09:19' '30-07-2023 19:04']\n",
            "-------------------------------\n",
            "Column evaluated is transaction_type\n",
            "Does this column have null values: False\n",
            "Total values 10002\n",
            "Unique values 3\n",
            "Max number of characters evaluated in all rows: 12\n",
            "['In-Store' 'Subscription' 'Online']\n",
            "-------------------------------\n"
          ]
        }
      ]
    },
    {
      "cell_type": "code",
      "source": [
        "quickViewDf(packageData)"
      ],
      "metadata": {
        "id": "EsCF-4_wvI58",
        "colab": {
          "base_uri": "https://localhost:8080/"
        },
        "outputId": "2d42839e-9f4e-4912-b38d-e30410580ff4"
      },
      "execution_count": 71,
      "outputs": [
        {
          "output_type": "stream",
          "name": "stdout",
          "text": [
            "Column evaluated is package_id\n",
            "Does this column have null values: False\n",
            "Total values 10002\n",
            "Unique values 10000\n",
            "Max number of characters evaluated in all rows: 36\n",
            "['80c09506-8a61-454a-a226-22e639d8795b'\n",
            " '2e321909-afe9-4ed2-9065-05425bce5394'\n",
            " '89b8b5d6-b90e-4a29-9d1e-a9a9db4d1e03' ...\n",
            " 'aed2b69d-1aef-44aa-9f79-52a7bc88f1e8'\n",
            " '71aa3136-17fe-4628-98cd-f46b0c893c28'\n",
            " 'b55f438f-18ce-4464-9e7e-6bb63384f8f8']\n",
            "-------------------------------\n",
            "Column evaluated is courier\n",
            "Does this column have null values: False\n",
            "Total values 10002\n",
            "Unique values 5\n",
            "Max number of characters evaluated in all rows: 6\n",
            "['DHL' 'ups' 'UPS' 'FEDEX' 'DHL   ']\n",
            "-------------------------------\n",
            "Column evaluated is delivery_date\n",
            "Does this column have null values: False\n",
            "Total values 10002\n",
            "Unique values 3921\n",
            "Max number of characters evaluated in all rows: 10\n",
            "['09-12-2022' '05/16/2021' '2022-08-30' ... '2021.10.06' '2022.02.12'\n",
            " '15-05-2022']\n",
            "-------------------------------\n",
            "Column evaluated is delivery_status\n",
            "Does this column have null values: False\n",
            "Total values 10002\n",
            "Unique values 4\n",
            "Max number of characters evaluated in all rows: 10\n",
            "['Delivered' 'In Transit' 'Pending' 'Lost']\n",
            "-------------------------------\n",
            "Column evaluated is user_id\n",
            "Does this column have null values: False\n",
            "Total values 10002\n",
            "Unique values 10000\n",
            "Max number of characters evaluated in all rows: 36\n",
            "['1d10b266-b7b2-4258-88b3-3957de0461ea'\n",
            " 'bf04c0b9-8a09-49e4-b4a5-0b2915bc5143'\n",
            " '616735b6-b8db-4517-bb3f-8171ec2a6166' ...\n",
            " 'ffdddbb5-7988-4d29-bc05-3005955d9a46'\n",
            " '19ede31b-9973-4045-ad18-34fe7753f8ec'\n",
            " '2edc892a-50f2-4dfc-8d8a-5d47f528f2fd']\n",
            "-------------------------------\n"
          ]
        }
      ]
    },
    {
      "cell_type": "code",
      "source": [
        "quickViewDf(userData)"
      ],
      "metadata": {
        "colab": {
          "base_uri": "https://localhost:8080/"
        },
        "id": "Wgzv8h__0_z9",
        "outputId": "450b2359-0410-4bbd-b91a-256080e4e5d8"
      },
      "execution_count": 72,
      "outputs": [
        {
          "output_type": "stream",
          "name": "stdout",
          "text": [
            "Column evaluated is user_id\n",
            "Does this column have null values: False\n",
            "Total values 10002\n",
            "Unique values 10000\n",
            "Max number of characters evaluated in all rows: 36\n",
            "['1d10b266-b7b2-4258-88b3-3957de0461ea'\n",
            " 'bf04c0b9-8a09-49e4-b4a5-0b2915bc5143'\n",
            " '616735b6-b8db-4517-bb3f-8171ec2a6166' ...\n",
            " 'ffdddbb5-7988-4d29-bc05-3005955d9a46'\n",
            " '19ede31b-9973-4045-ad18-34fe7753f8ec'\n",
            " '2edc892a-50f2-4dfc-8d8a-5d47f528f2fd']\n",
            "-------------------------------\n",
            "Column evaluated is name\n",
            "Does this column have null values: False\n",
            "Total values 10002\n",
            "Unique values 9362\n",
            "Max number of characters evaluated in all rows: 26\n",
            "['Angela Smith' 'Mr. John Powell' 'Susan Chase' ... 'Melissa Gonzalez'\n",
            " 'Debbie Hamilton' 'Joanna Williams']\n",
            "-------------------------------\n",
            "Column evaluated is email\n",
            "Does this column have null values: False\n",
            "Total values 10002\n",
            "Unique values 9934\n",
            "Max number of characters evaluated in all rows: 40\n",
            "['nfischer@yahoo.com' 'rebeccabarnes@yahoo.com'\n",
            " 'riverschristopher@davis.net' ... 'chloemcdonald@barnes.net'\n",
            " 'john32@smith.org' 'dbrown@scott.org']\n",
            "-------------------------------\n",
            "Column evaluated is join_date\n",
            "Does this column have null values: False\n",
            "Total values 10002\n",
            "Unique values 3955\n",
            "Max number of characters evaluated in all rows: 10\n",
            "['02/06/2023' '2022-05-04' '2022-01-01' ... '05/19/2022' '2023.05.05'\n",
            " '19-07-2022']\n",
            "-------------------------------\n"
          ]
        }
      ]
    },
    {
      "cell_type": "markdown",
      "source": [
        "###### Notes about checking types\n",
        "After of the quick evaluation I have some notes:\n",
        "- All the columns on all datasets don't have null values\n",
        "- All datasets have different date formats in the columns with that type, it is necessary to clean and adapt those columns to the correct format.\n",
        "\n",
        "- The courier column of the dataset called packages must be modified because has extra values and needs to be conver to a lower case or upper case.\n",
        "\n",
        "- *At the same time I can say that all string columns do not exceed the number of characters limit (256)* ❗\n"
      ],
      "metadata": {
        "id": "aHb3YfJM7i5e"
      }
    },
    {
      "cell_type": "markdown",
      "source": [
        "#### Cleaning Data"
      ],
      "metadata": {
        "id": "h4HT4A6P_nrW"
      }
    },
    {
      "cell_type": "code",
      "source": [
        "import re\n",
        "from datetime import datetime\n",
        "from typing import Optional"
      ],
      "metadata": {
        "id": "gVDYJOiFD4HS"
      },
      "execution_count": 73,
      "outputs": []
    },
    {
      "cell_type": "code",
      "source": [
        "### I'm going to create a function in order to detect the different data types\n",
        "\n",
        "#packageData['delivery_date'][[bool(re.search('[.]',i)) for i in  packageData['delivery_date']]]\n",
        "\n",
        "def detectPatternDateFromStr(datestr: str) -> Optional[str]:\n",
        "  dictPatterns={\n",
        "      r'^\\d{4}-\\d{2}-\\d{2}$':'%Y-%m-%d',\n",
        "      r'^\\d{4}\\.\\d{2}\\.\\d{2}$':'%Y.%m.%d',\n",
        "      #r'^\\d{2}-\\d{2}-\\d{4}$':'%m-%d-%Y',\n",
        "      r'^\\d{2}/\\d{2}/\\d{4}$':'%m/%d/%Y',\n",
        "      r'^\\d{4}/\\d{2}/\\d{2}$':'%Y/%m/%d',\n",
        "      r'^\\d{2}\\.\\d{2}\\.\\d{4}$':'%m.%d.%Y',\n",
        "      r'^\\d{4}-\\d{2}-\\d{2} \\d{2}:\\d{2}:\\d{2}$':'%Y-%m-%d %H:%M:%S',\n",
        "      r'^\\d{2}/\\d{2}/\\d{4} \\d{2}:\\d{2} [APap][Mm]$':'%m/%d/%Y %I:%M %p',\n",
        "      r'^\\d{4}\\.\\d{2}\\.\\d{2} \\d{2}:\\d{2}$':'%Y.%m.%d %H:%M',\n",
        "      r'^\\d{2}-\\d{2}-\\d{4} \\d{2}:\\d{2}$':'%d-%m-%Y %H:%M',\n",
        "      #r'^\\d{2}-\\d{2}-\\d{2}$':'%m-%d-%y',\n",
        "      r'^([0-2][0-9]|3[0-1])-(0[1-9]|1[0-2])-\\d{4}$':'%d-%m-%Y',\n",
        "      r'^(0[1-9]|1[0-2])-([0-2][0-9]|3[0-1])-\\d{4}$':'%m-%d-%Y',\n",
        "      r'^\\d{4}\\d{2}\\d{2}$':'%Y%m%d',\n",
        "      r'^\\d{2}/\\d{2}/\\d{2}$':'%m/%d/%y'\n",
        "  }\n",
        "\n",
        "  for pattern, format in dictPatterns.items():\n",
        "    if re.match(pattern, datestr):\n",
        "      return format\n",
        "\n",
        "  return None\n",
        "\n",
        "\n",
        "def convertStrToDateFromFormat(datestr):\n",
        "  dateFormat = detectPatternDateFromStr(datestr)\n",
        "  if dateFormat:\n",
        "    return pd.to_datetime(datestr, format= dateFormat)\n",
        "  else:\n",
        "    return None\n",
        "\n",
        "#11-05-2023 16:35\n",
        "#%m-%d-%Y\n",
        "\n",
        "#strTest = '26-11-2021'\n",
        "\n",
        "#bool(re.match('^(0[1-9]|1[0-2])-([0-2][0-9]|3[0-1])-\\d{4}$', strTest))"
      ],
      "metadata": {
        "id": "DNR6-y2hEODT"
      },
      "execution_count": 74,
      "outputs": []
    },
    {
      "cell_type": "code",
      "source": [
        "## Function to clean and make lowercase str columns not related to\n",
        "\n",
        "#x = 'transaction'\n",
        "#print(bool(re.search('id|name|email', x)))\n",
        "def cleandAndLower(df):\n",
        "  columns = df.columns\n",
        "  for column in columns:\n",
        "    if df[column].dtype=='object':\n",
        "      if not re.search('id|name|email', column):\n",
        "        df[column]= df[column].str.strip()\n",
        "        df[column]= df[column].str.lower()\n",
        "  return df\n",
        "\n"
      ],
      "metadata": {
        "id": "rsDNh58YgR86"
      },
      "execution_count": 75,
      "outputs": []
    },
    {
      "cell_type": "markdown",
      "source": [
        "Checking the dates and convert to the desired format 'YYYY-MM-DD' in dates or\n",
        "'YYYY-MM-DD HH:MM:SS' in timestamps\n"
      ],
      "metadata": {
        "id": "Ko1cmrWFe_Mv"
      }
    },
    {
      "cell_type": "code",
      "source": [
        "### Let's apply the function to generate the desired date format from dirty dates formats in the columns\n",
        "packageData['delivery_date'] = packageData['delivery_date'].apply(convertStrToDateFromFormat)\n",
        "transactionData['timestamp'] = transactionData['timestamp'].apply(convertStrToDateFromFormat)\n",
        "userData['join_date'] = userData['join_date'].apply(convertStrToDateFromFormat)\n"
      ],
      "metadata": {
        "id": "v2rXh0YYQJuL"
      },
      "execution_count": 76,
      "outputs": []
    },
    {
      "cell_type": "code",
      "source": [
        "### Check if the conversion works, if there are values > 0 there are dates not converted\n",
        "print(packageData[packageData['delivery_date'].isnull()].shape[0])\n",
        "print(transactionData[transactionData['timestamp'].isnull()].shape[0])\n",
        "print(userData[userData['join_date'].isnull()].shape[0])"
      ],
      "metadata": {
        "colab": {
          "base_uri": "https://localhost:8080/"
        },
        "id": "4qwMZACkU1d8",
        "outputId": "c821a16a-5cdf-44e4-9fc8-38bd54f9379d"
      },
      "execution_count": 77,
      "outputs": [
        {
          "output_type": "stream",
          "name": "stdout",
          "text": [
            "0\n",
            "0\n",
            "0\n"
          ]
        }
      ]
    },
    {
      "cell_type": "markdown",
      "source": [
        "The functions applied works fine, we could deleted the blank spaces to the courier column from the package dataset"
      ],
      "metadata": {
        "id": "rPkqZ5UOfKhf"
      }
    },
    {
      "cell_type": "code",
      "source": [
        "### Clean the strings columns from spaces and lowercase the values of package data (id columns, names and emails are avoided)\n",
        "packageData = cleandAndLower(packageData)\n",
        "print(packageData['courier'].unique())\n",
        "print(packageData['delivery_status'].unique())"
      ],
      "metadata": {
        "colab": {
          "base_uri": "https://localhost:8080/"
        },
        "id": "iHNU6ZVGkSWf",
        "outputId": "c982e974-b8d5-4a44-9316-7da4580c688d"
      },
      "execution_count": 78,
      "outputs": [
        {
          "output_type": "stream",
          "name": "stdout",
          "text": [
            "['dhl' 'ups' 'fedex']\n",
            "['delivered' 'in transit' 'pending' 'lost']\n"
          ]
        }
      ]
    },
    {
      "cell_type": "code",
      "source": [
        "### Clean the strings columns from spaces and lowercase the values of transaction data (id columns, names and emails are avoided)\n",
        "transactionData = cleandAndLower(transactionData)\n",
        "print(transactionData['transaction_type'].unique())\n"
      ],
      "metadata": {
        "colab": {
          "base_uri": "https://localhost:8080/"
        },
        "id": "yvxf8675lguh",
        "outputId": "e57b3e38-fa0f-428c-c807-a00c9c516ac6"
      },
      "execution_count": 79,
      "outputs": [
        {
          "output_type": "stream",
          "name": "stdout",
          "text": [
            "['in-store' 'subscription' 'online']\n"
          ]
        }
      ]
    },
    {
      "cell_type": "code",
      "source": [
        "### Let's round the values of amount in transaction data to two decimals\n",
        "transactionData['amount'] = transactionData['amount'].round(2)"
      ],
      "metadata": {
        "id": "byLsIXUY3pcA"
      },
      "execution_count": 80,
      "outputs": []
    },
    {
      "cell_type": "code",
      "source": [
        "### Clean the strings columns from spaces and lowercase the values of user data (id columns, names and emails are avoided)\n",
        "userData = cleandAndLower(userData)"
      ],
      "metadata": {
        "id": "84Aujuoilrkd"
      },
      "execution_count": 81,
      "outputs": []
    },
    {
      "cell_type": "code",
      "source": [
        "## Drop Duplicates in all databases\n",
        "transactionData = transactionData.drop_duplicates()\n",
        "userData = userData.drop_duplicates()\n",
        "packageData = packageData.drop_duplicates()\n",
        "\n",
        "transactionData = transactionData.drop_duplicates(subset=['transaction_id'])\n",
        "userData = userData.drop_duplicates(subset=['user_id'])\n",
        "packageData = packageData.drop_duplicates(subset=['package_id'])\n"
      ],
      "metadata": {
        "id": "aNM9m0PrDnOb"
      },
      "execution_count": 82,
      "outputs": []
    },
    {
      "cell_type": "code",
      "source": [
        "#transactionData[transactionData['transaction_id']=='8b266b46-9ec7-4010-83e4-004b3bef400f']"
      ],
      "metadata": {
        "id": "XsdazEvFE_c-"
      },
      "execution_count": 83,
      "outputs": []
    },
    {
      "cell_type": "markdown",
      "source": [
        "#### Merge Datasets"
      ],
      "metadata": {
        "id": "I6CJApumlFn0"
      }
    },
    {
      "cell_type": "code",
      "source": [
        "## Let's see the original size of every dataset provided\n",
        "print(packageData.shape)\n",
        "print(transactionData.shape)\n",
        "print(userData.shape)\n"
      ],
      "metadata": {
        "colab": {
          "base_uri": "https://localhost:8080/"
        },
        "id": "g0Xs5AFLo4j_",
        "outputId": "69517fc0-015b-4802-fb47-7955ad08bc9b"
      },
      "execution_count": 84,
      "outputs": [
        {
          "output_type": "stream",
          "name": "stdout",
          "text": [
            "(10000, 5)\n",
            "(10000, 5)\n",
            "(10000, 4)\n"
          ]
        }
      ]
    },
    {
      "cell_type": "code",
      "source": [
        "### First I'm going to join transaction data with user data an after of that merge the new data with package data\n",
        "desiredColsUnion = userData.columns.append(transactionData.columns).append(packageData.columns)\n",
        "desiredColsUnion = desiredColsUnion.unique() ## This is because i want a specific order of the columns after the join\n",
        "\n",
        "transactionAndUserData = pd.merge(transactionData, userData, on='user_id') # First Merge\n",
        "\n",
        "mergedData = pd.merge(transactionAndUserData, packageData, on='user_id') # Second Merge\n",
        "\n",
        "mergedData= mergedData[desiredColsUnion] ## Select the columns in the order required\n",
        "mergedData = mergedData.drop_duplicates() ## Drop Duplicates"
      ],
      "metadata": {
        "id": "QTlCcN6nqN26"
      },
      "execution_count": 85,
      "outputs": []
    },
    {
      "cell_type": "code",
      "source": [
        "## Load special formatters of google colab to make more readable the tables\n",
        "from google.colab import data_table\n",
        "data_table.enable_dataframe_formatter()\n"
      ],
      "metadata": {
        "id": "p2HfFukLrxN-"
      },
      "execution_count": 86,
      "outputs": []
    },
    {
      "cell_type": "markdown",
      "source": [
        "***Let's print the new table***"
      ],
      "metadata": {
        "id": "9i81VwPktXYR"
      }
    },
    {
      "cell_type": "code",
      "source": [
        "mergedData.head(10)"
      ],
      "metadata": {
        "colab": {
          "base_uri": "https://localhost:8080/",
          "height": 505
        },
        "id": "VaJwWcQqpuIi",
        "outputId": "78b8f187-8953-4e6e-ca19-16908eb8cbc2"
      },
      "execution_count": 87,
      "outputs": [
        {
          "output_type": "execute_result",
          "data": {
            "text/plain": [
              "                                user_id             name  \\\n",
              "0  1d10b266-b7b2-4258-88b3-3957de0461ea     Angela Smith   \n",
              "1  bf04c0b9-8a09-49e4-b4a5-0b2915bc5143  Mr. John Powell   \n",
              "2  616735b6-b8db-4517-bb3f-8171ec2a6166      Susan Chase   \n",
              "3  a6266c94-16ee-4914-a587-a3d43a81f913      Sally Smith   \n",
              "4  ccac9e39-e865-4a9f-acc3-1cf90c862ede   Albert Cordova   \n",
              "5  d7be528d-0e2c-4410-ba87-306c4a04fcab   Shawn Anderson   \n",
              "6  43720d9b-c242-4c83-ae28-9004770a7044    Corey Hickman   \n",
              "7  aa7c68aa-2e5b-4255-98b8-2ee5048d40eb   Jeffrey Mosley   \n",
              "8  95af9858-5249-4e5f-b409-1fd058f6042f      Jason Smith   \n",
              "9  19a5870d-e88b-4825-a322-7c991ee1ffe5     Jason Peters   \n",
              "\n",
              "                              email  join_date  \\\n",
              "0                nfischer@yahoo.com 2023-02-06   \n",
              "1           rebeccabarnes@yahoo.com 2022-05-04   \n",
              "2       riverschristopher@davis.net 2022-01-01   \n",
              "3      mswanson@mitchell-cooper.com 2021-07-20   \n",
              "4       uhicks@macias-patterson.com 2023-09-26   \n",
              "5         angelaclark@calderon.info 2023-08-23   \n",
              "6         william65@hess-walker.com 2022-11-04   \n",
              "7  jordanstephanie@bryan-gaines.com 2021-11-07   \n",
              "8     duane30@griffin-rodriguez.net 2022-08-07   \n",
              "9              braundaniel@webb.net 2024-01-17   \n",
              "\n",
              "                         transaction_id  amount           timestamp  \\\n",
              "0  8b266b46-9ec7-4010-83e4-004b3bef400f  865.48 2023-06-11 06:12:30   \n",
              "1  98ae73d5-6918-4790-9d63-eedf8ad43a0b  416.50 2023-08-30 09:26:00   \n",
              "2  483b1462-9efe-4e9e-a659-da11640c3201  473.42 2023-11-22 01:09:00   \n",
              "3  9954f0e8-487a-4bb8-9596-41d2dbfec7b4  307.00 2023-05-20 04:46:00   \n",
              "4  ee42937c-7f14-4782-82b9-dfa0f14773e5  183.00 2023-11-05 23:21:00   \n",
              "5  a0b4e7d0-c7d4-4ee4-84ad-acdb8379f8ec  689.80 2023-06-16 05:13:00   \n",
              "6  44bc6f22-54ac-4498-9945-6e686f763726   37.60 2023-05-11 16:35:00   \n",
              "7  eddad204-f1d9-40cd-8f0b-fb8208a9b057  560.80 2023-12-06 19:49:00   \n",
              "8  a2f211e9-7cfd-4768-b4ec-e86cceee1555  495.80 2023-11-21 04:36:55   \n",
              "9  ad2a3f5e-975a-4787-a121-3708d3a618c6  118.00 2023-05-05 10:26:00   \n",
              "\n",
              "  transaction_type                            package_id courier  \\\n",
              "0         in-store  80c09506-8a61-454a-a226-22e639d8795b     dhl   \n",
              "1     subscription  2e321909-afe9-4ed2-9065-05425bce5394     ups   \n",
              "2           online  89b8b5d6-b90e-4a29-9d1e-a9a9db4d1e03     ups   \n",
              "3         in-store  f13aa104-f973-4a2e-bac0-6a04ac86b9ae     dhl   \n",
              "4     subscription  51f15194-b5ad-4062-9bd2-16738f9667f0     ups   \n",
              "5           online  75bb8e99-ff6a-45b6-bcf5-120af842c8c2   fedex   \n",
              "6         in-store  c19ca5d8-bb7d-4f0d-a0bf-9da6d5f0f9dd     ups   \n",
              "7         in-store  4c010ef6-fd78-4813-8328-1afb057bf324     dhl   \n",
              "8           online  d9eb0820-5822-4483-a99e-44bdf75c8ac9     ups   \n",
              "9     subscription  2e636598-a94b-47cd-a1d2-1a7f1de8d3d1     dhl   \n",
              "\n",
              "  delivery_date delivery_status  \n",
              "0    2022-12-09       delivered  \n",
              "1    2021-05-16      in transit  \n",
              "2    2022-08-30         pending  \n",
              "3    2021-12-08      in transit  \n",
              "4    2022-12-05            lost  \n",
              "5    2021-11-26      in transit  \n",
              "6    2021-08-31         pending  \n",
              "7    2022-05-09            lost  \n",
              "8    2022-09-09            lost  \n",
              "9    2022-11-23         pending  "
            ],
            "text/html": [
              "\n",
              "  <div id=\"df-fd7644a9-d38b-4d6d-b044-bee9cbe52379\" class=\"colab-df-container\">\n",
              "    <div>\n",
              "<style scoped>\n",
              "    .dataframe tbody tr th:only-of-type {\n",
              "        vertical-align: middle;\n",
              "    }\n",
              "\n",
              "    .dataframe tbody tr th {\n",
              "        vertical-align: top;\n",
              "    }\n",
              "\n",
              "    .dataframe thead th {\n",
              "        text-align: right;\n",
              "    }\n",
              "</style>\n",
              "<table border=\"1\" class=\"dataframe\">\n",
              "  <thead>\n",
              "    <tr style=\"text-align: right;\">\n",
              "      <th></th>\n",
              "      <th>user_id</th>\n",
              "      <th>name</th>\n",
              "      <th>email</th>\n",
              "      <th>join_date</th>\n",
              "      <th>transaction_id</th>\n",
              "      <th>amount</th>\n",
              "      <th>timestamp</th>\n",
              "      <th>transaction_type</th>\n",
              "      <th>package_id</th>\n",
              "      <th>courier</th>\n",
              "      <th>delivery_date</th>\n",
              "      <th>delivery_status</th>\n",
              "    </tr>\n",
              "  </thead>\n",
              "  <tbody>\n",
              "    <tr>\n",
              "      <th>0</th>\n",
              "      <td>1d10b266-b7b2-4258-88b3-3957de0461ea</td>\n",
              "      <td>Angela Smith</td>\n",
              "      <td>nfischer@yahoo.com</td>\n",
              "      <td>2023-02-06</td>\n",
              "      <td>8b266b46-9ec7-4010-83e4-004b3bef400f</td>\n",
              "      <td>865.48</td>\n",
              "      <td>2023-06-11 06:12:30</td>\n",
              "      <td>in-store</td>\n",
              "      <td>80c09506-8a61-454a-a226-22e639d8795b</td>\n",
              "      <td>dhl</td>\n",
              "      <td>2022-12-09</td>\n",
              "      <td>delivered</td>\n",
              "    </tr>\n",
              "    <tr>\n",
              "      <th>1</th>\n",
              "      <td>bf04c0b9-8a09-49e4-b4a5-0b2915bc5143</td>\n",
              "      <td>Mr. John Powell</td>\n",
              "      <td>rebeccabarnes@yahoo.com</td>\n",
              "      <td>2022-05-04</td>\n",
              "      <td>98ae73d5-6918-4790-9d63-eedf8ad43a0b</td>\n",
              "      <td>416.50</td>\n",
              "      <td>2023-08-30 09:26:00</td>\n",
              "      <td>subscription</td>\n",
              "      <td>2e321909-afe9-4ed2-9065-05425bce5394</td>\n",
              "      <td>ups</td>\n",
              "      <td>2021-05-16</td>\n",
              "      <td>in transit</td>\n",
              "    </tr>\n",
              "    <tr>\n",
              "      <th>2</th>\n",
              "      <td>616735b6-b8db-4517-bb3f-8171ec2a6166</td>\n",
              "      <td>Susan Chase</td>\n",
              "      <td>riverschristopher@davis.net</td>\n",
              "      <td>2022-01-01</td>\n",
              "      <td>483b1462-9efe-4e9e-a659-da11640c3201</td>\n",
              "      <td>473.42</td>\n",
              "      <td>2023-11-22 01:09:00</td>\n",
              "      <td>online</td>\n",
              "      <td>89b8b5d6-b90e-4a29-9d1e-a9a9db4d1e03</td>\n",
              "      <td>ups</td>\n",
              "      <td>2022-08-30</td>\n",
              "      <td>pending</td>\n",
              "    </tr>\n",
              "    <tr>\n",
              "      <th>3</th>\n",
              "      <td>a6266c94-16ee-4914-a587-a3d43a81f913</td>\n",
              "      <td>Sally Smith</td>\n",
              "      <td>mswanson@mitchell-cooper.com</td>\n",
              "      <td>2021-07-20</td>\n",
              "      <td>9954f0e8-487a-4bb8-9596-41d2dbfec7b4</td>\n",
              "      <td>307.00</td>\n",
              "      <td>2023-05-20 04:46:00</td>\n",
              "      <td>in-store</td>\n",
              "      <td>f13aa104-f973-4a2e-bac0-6a04ac86b9ae</td>\n",
              "      <td>dhl</td>\n",
              "      <td>2021-12-08</td>\n",
              "      <td>in transit</td>\n",
              "    </tr>\n",
              "    <tr>\n",
              "      <th>4</th>\n",
              "      <td>ccac9e39-e865-4a9f-acc3-1cf90c862ede</td>\n",
              "      <td>Albert Cordova</td>\n",
              "      <td>uhicks@macias-patterson.com</td>\n",
              "      <td>2023-09-26</td>\n",
              "      <td>ee42937c-7f14-4782-82b9-dfa0f14773e5</td>\n",
              "      <td>183.00</td>\n",
              "      <td>2023-11-05 23:21:00</td>\n",
              "      <td>subscription</td>\n",
              "      <td>51f15194-b5ad-4062-9bd2-16738f9667f0</td>\n",
              "      <td>ups</td>\n",
              "      <td>2022-12-05</td>\n",
              "      <td>lost</td>\n",
              "    </tr>\n",
              "    <tr>\n",
              "      <th>5</th>\n",
              "      <td>d7be528d-0e2c-4410-ba87-306c4a04fcab</td>\n",
              "      <td>Shawn Anderson</td>\n",
              "      <td>angelaclark@calderon.info</td>\n",
              "      <td>2023-08-23</td>\n",
              "      <td>a0b4e7d0-c7d4-4ee4-84ad-acdb8379f8ec</td>\n",
              "      <td>689.80</td>\n",
              "      <td>2023-06-16 05:13:00</td>\n",
              "      <td>online</td>\n",
              "      <td>75bb8e99-ff6a-45b6-bcf5-120af842c8c2</td>\n",
              "      <td>fedex</td>\n",
              "      <td>2021-11-26</td>\n",
              "      <td>in transit</td>\n",
              "    </tr>\n",
              "    <tr>\n",
              "      <th>6</th>\n",
              "      <td>43720d9b-c242-4c83-ae28-9004770a7044</td>\n",
              "      <td>Corey Hickman</td>\n",
              "      <td>william65@hess-walker.com</td>\n",
              "      <td>2022-11-04</td>\n",
              "      <td>44bc6f22-54ac-4498-9945-6e686f763726</td>\n",
              "      <td>37.60</td>\n",
              "      <td>2023-05-11 16:35:00</td>\n",
              "      <td>in-store</td>\n",
              "      <td>c19ca5d8-bb7d-4f0d-a0bf-9da6d5f0f9dd</td>\n",
              "      <td>ups</td>\n",
              "      <td>2021-08-31</td>\n",
              "      <td>pending</td>\n",
              "    </tr>\n",
              "    <tr>\n",
              "      <th>7</th>\n",
              "      <td>aa7c68aa-2e5b-4255-98b8-2ee5048d40eb</td>\n",
              "      <td>Jeffrey Mosley</td>\n",
              "      <td>jordanstephanie@bryan-gaines.com</td>\n",
              "      <td>2021-11-07</td>\n",
              "      <td>eddad204-f1d9-40cd-8f0b-fb8208a9b057</td>\n",
              "      <td>560.80</td>\n",
              "      <td>2023-12-06 19:49:00</td>\n",
              "      <td>in-store</td>\n",
              "      <td>4c010ef6-fd78-4813-8328-1afb057bf324</td>\n",
              "      <td>dhl</td>\n",
              "      <td>2022-05-09</td>\n",
              "      <td>lost</td>\n",
              "    </tr>\n",
              "    <tr>\n",
              "      <th>8</th>\n",
              "      <td>95af9858-5249-4e5f-b409-1fd058f6042f</td>\n",
              "      <td>Jason Smith</td>\n",
              "      <td>duane30@griffin-rodriguez.net</td>\n",
              "      <td>2022-08-07</td>\n",
              "      <td>a2f211e9-7cfd-4768-b4ec-e86cceee1555</td>\n",
              "      <td>495.80</td>\n",
              "      <td>2023-11-21 04:36:55</td>\n",
              "      <td>online</td>\n",
              "      <td>d9eb0820-5822-4483-a99e-44bdf75c8ac9</td>\n",
              "      <td>ups</td>\n",
              "      <td>2022-09-09</td>\n",
              "      <td>lost</td>\n",
              "    </tr>\n",
              "    <tr>\n",
              "      <th>9</th>\n",
              "      <td>19a5870d-e88b-4825-a322-7c991ee1ffe5</td>\n",
              "      <td>Jason Peters</td>\n",
              "      <td>braundaniel@webb.net</td>\n",
              "      <td>2024-01-17</td>\n",
              "      <td>ad2a3f5e-975a-4787-a121-3708d3a618c6</td>\n",
              "      <td>118.00</td>\n",
              "      <td>2023-05-05 10:26:00</td>\n",
              "      <td>subscription</td>\n",
              "      <td>2e636598-a94b-47cd-a1d2-1a7f1de8d3d1</td>\n",
              "      <td>dhl</td>\n",
              "      <td>2022-11-23</td>\n",
              "      <td>pending</td>\n",
              "    </tr>\n",
              "  </tbody>\n",
              "</table>\n",
              "</div>\n",
              "    <div class=\"colab-df-buttons\">\n",
              "\n",
              "  <div class=\"colab-df-container\">\n",
              "    <button class=\"colab-df-convert\" onclick=\"convertToInteractive('df-fd7644a9-d38b-4d6d-b044-bee9cbe52379')\"\n",
              "            title=\"Convert this dataframe to an interactive table.\"\n",
              "            style=\"display:none;\">\n",
              "\n",
              "  <svg xmlns=\"http://www.w3.org/2000/svg\" height=\"24px\" viewBox=\"0 -960 960 960\">\n",
              "    <path d=\"M120-120v-720h720v720H120Zm60-500h600v-160H180v160Zm220 220h160v-160H400v160Zm0 220h160v-160H400v160ZM180-400h160v-160H180v160Zm440 0h160v-160H620v160ZM180-180h160v-160H180v160Zm440 0h160v-160H620v160Z\"/>\n",
              "  </svg>\n",
              "    </button>\n",
              "\n",
              "  <style>\n",
              "    .colab-df-container {\n",
              "      display:flex;\n",
              "      gap: 12px;\n",
              "    }\n",
              "\n",
              "    .colab-df-convert {\n",
              "      background-color: #E8F0FE;\n",
              "      border: none;\n",
              "      border-radius: 50%;\n",
              "      cursor: pointer;\n",
              "      display: none;\n",
              "      fill: #1967D2;\n",
              "      height: 32px;\n",
              "      padding: 0 0 0 0;\n",
              "      width: 32px;\n",
              "    }\n",
              "\n",
              "    .colab-df-convert:hover {\n",
              "      background-color: #E2EBFA;\n",
              "      box-shadow: 0px 1px 2px rgba(60, 64, 67, 0.3), 0px 1px 3px 1px rgba(60, 64, 67, 0.15);\n",
              "      fill: #174EA6;\n",
              "    }\n",
              "\n",
              "    .colab-df-buttons div {\n",
              "      margin-bottom: 4px;\n",
              "    }\n",
              "\n",
              "    [theme=dark] .colab-df-convert {\n",
              "      background-color: #3B4455;\n",
              "      fill: #D2E3FC;\n",
              "    }\n",
              "\n",
              "    [theme=dark] .colab-df-convert:hover {\n",
              "      background-color: #434B5C;\n",
              "      box-shadow: 0px 1px 3px 1px rgba(0, 0, 0, 0.15);\n",
              "      filter: drop-shadow(0px 1px 2px rgba(0, 0, 0, 0.3));\n",
              "      fill: #FFFFFF;\n",
              "    }\n",
              "  </style>\n",
              "\n",
              "    <script>\n",
              "      const buttonEl =\n",
              "        document.querySelector('#df-fd7644a9-d38b-4d6d-b044-bee9cbe52379 button.colab-df-convert');\n",
              "      buttonEl.style.display =\n",
              "        google.colab.kernel.accessAllowed ? 'block' : 'none';\n",
              "\n",
              "      async function convertToInteractive(key) {\n",
              "        const element = document.querySelector('#df-fd7644a9-d38b-4d6d-b044-bee9cbe52379');\n",
              "        const dataTable =\n",
              "          await google.colab.kernel.invokeFunction('convertToInteractive',\n",
              "                                                    [key], {});\n",
              "        if (!dataTable) return;\n",
              "\n",
              "        const docLinkHtml = 'Like what you see? Visit the ' +\n",
              "          '<a target=\"_blank\" href=https://colab.research.google.com/notebooks/data_table.ipynb>data table notebook</a>'\n",
              "          + ' to learn more about interactive tables.';\n",
              "        element.innerHTML = '';\n",
              "        dataTable['output_type'] = 'display_data';\n",
              "        await google.colab.output.renderOutput(dataTable, element);\n",
              "        const docLink = document.createElement('div');\n",
              "        docLink.innerHTML = docLinkHtml;\n",
              "        element.appendChild(docLink);\n",
              "      }\n",
              "    </script>\n",
              "  </div>\n",
              "\n",
              "\n",
              "<div id=\"df-8347b2bf-0082-41ff-931f-b2e2f23852b6\">\n",
              "  <button class=\"colab-df-quickchart\" onclick=\"quickchart('df-8347b2bf-0082-41ff-931f-b2e2f23852b6')\"\n",
              "            title=\"Suggest charts\"\n",
              "            style=\"display:none;\">\n",
              "\n",
              "<svg xmlns=\"http://www.w3.org/2000/svg\" height=\"24px\"viewBox=\"0 0 24 24\"\n",
              "     width=\"24px\">\n",
              "    <g>\n",
              "        <path d=\"M19 3H5c-1.1 0-2 .9-2 2v14c0 1.1.9 2 2 2h14c1.1 0 2-.9 2-2V5c0-1.1-.9-2-2-2zM9 17H7v-7h2v7zm4 0h-2V7h2v10zm4 0h-2v-4h2v4z\"/>\n",
              "    </g>\n",
              "</svg>\n",
              "  </button>\n",
              "\n",
              "<style>\n",
              "  .colab-df-quickchart {\n",
              "      --bg-color: #E8F0FE;\n",
              "      --fill-color: #1967D2;\n",
              "      --hover-bg-color: #E2EBFA;\n",
              "      --hover-fill-color: #174EA6;\n",
              "      --disabled-fill-color: #AAA;\n",
              "      --disabled-bg-color: #DDD;\n",
              "  }\n",
              "\n",
              "  [theme=dark] .colab-df-quickchart {\n",
              "      --bg-color: #3B4455;\n",
              "      --fill-color: #D2E3FC;\n",
              "      --hover-bg-color: #434B5C;\n",
              "      --hover-fill-color: #FFFFFF;\n",
              "      --disabled-bg-color: #3B4455;\n",
              "      --disabled-fill-color: #666;\n",
              "  }\n",
              "\n",
              "  .colab-df-quickchart {\n",
              "    background-color: var(--bg-color);\n",
              "    border: none;\n",
              "    border-radius: 50%;\n",
              "    cursor: pointer;\n",
              "    display: none;\n",
              "    fill: var(--fill-color);\n",
              "    height: 32px;\n",
              "    padding: 0;\n",
              "    width: 32px;\n",
              "  }\n",
              "\n",
              "  .colab-df-quickchart:hover {\n",
              "    background-color: var(--hover-bg-color);\n",
              "    box-shadow: 0 1px 2px rgba(60, 64, 67, 0.3), 0 1px 3px 1px rgba(60, 64, 67, 0.15);\n",
              "    fill: var(--button-hover-fill-color);\n",
              "  }\n",
              "\n",
              "  .colab-df-quickchart-complete:disabled,\n",
              "  .colab-df-quickchart-complete:disabled:hover {\n",
              "    background-color: var(--disabled-bg-color);\n",
              "    fill: var(--disabled-fill-color);\n",
              "    box-shadow: none;\n",
              "  }\n",
              "\n",
              "  .colab-df-spinner {\n",
              "    border: 2px solid var(--fill-color);\n",
              "    border-color: transparent;\n",
              "    border-bottom-color: var(--fill-color);\n",
              "    animation:\n",
              "      spin 1s steps(1) infinite;\n",
              "  }\n",
              "\n",
              "  @keyframes spin {\n",
              "    0% {\n",
              "      border-color: transparent;\n",
              "      border-bottom-color: var(--fill-color);\n",
              "      border-left-color: var(--fill-color);\n",
              "    }\n",
              "    20% {\n",
              "      border-color: transparent;\n",
              "      border-left-color: var(--fill-color);\n",
              "      border-top-color: var(--fill-color);\n",
              "    }\n",
              "    30% {\n",
              "      border-color: transparent;\n",
              "      border-left-color: var(--fill-color);\n",
              "      border-top-color: var(--fill-color);\n",
              "      border-right-color: var(--fill-color);\n",
              "    }\n",
              "    40% {\n",
              "      border-color: transparent;\n",
              "      border-right-color: var(--fill-color);\n",
              "      border-top-color: var(--fill-color);\n",
              "    }\n",
              "    60% {\n",
              "      border-color: transparent;\n",
              "      border-right-color: var(--fill-color);\n",
              "    }\n",
              "    80% {\n",
              "      border-color: transparent;\n",
              "      border-right-color: var(--fill-color);\n",
              "      border-bottom-color: var(--fill-color);\n",
              "    }\n",
              "    90% {\n",
              "      border-color: transparent;\n",
              "      border-bottom-color: var(--fill-color);\n",
              "    }\n",
              "  }\n",
              "</style>\n",
              "\n",
              "  <script>\n",
              "    async function quickchart(key) {\n",
              "      const quickchartButtonEl =\n",
              "        document.querySelector('#' + key + ' button');\n",
              "      quickchartButtonEl.disabled = true;  // To prevent multiple clicks.\n",
              "      quickchartButtonEl.classList.add('colab-df-spinner');\n",
              "      try {\n",
              "        const charts = await google.colab.kernel.invokeFunction(\n",
              "            'suggestCharts', [key], {});\n",
              "      } catch (error) {\n",
              "        console.error('Error during call to suggestCharts:', error);\n",
              "      }\n",
              "      quickchartButtonEl.classList.remove('colab-df-spinner');\n",
              "      quickchartButtonEl.classList.add('colab-df-quickchart-complete');\n",
              "    }\n",
              "    (() => {\n",
              "      let quickchartButtonEl =\n",
              "        document.querySelector('#df-8347b2bf-0082-41ff-931f-b2e2f23852b6 button');\n",
              "      quickchartButtonEl.style.display =\n",
              "        google.colab.kernel.accessAllowed ? 'block' : 'none';\n",
              "    })();\n",
              "  </script>\n",
              "</div>\n",
              "\n",
              "    </div>\n",
              "  </div>\n"
            ],
            "application/vnd.google.colaboratory.intrinsic+json": {
              "type": "dataframe",
              "variable_name": "mergedData",
              "summary": "{\n  \"name\": \"mergedData\",\n  \"rows\": 10000,\n  \"fields\": [\n    {\n      \"column\": \"user_id\",\n      \"properties\": {\n        \"dtype\": \"string\",\n        \"num_unique_values\": 10000,\n        \"samples\": [\n          \"4eccfb6b-1782-4880-9694-cccd7bfa83b9\",\n          \"91952c5b-8a7a-4fb9-98a0-96481517d331\",\n          \"64725b8c-50ad-4172-9e59-5163025374b6\"\n        ],\n        \"semantic_type\": \"\",\n        \"description\": \"\"\n      }\n    },\n    {\n      \"column\": \"name\",\n      \"properties\": {\n        \"dtype\": \"string\",\n        \"num_unique_values\": 9362,\n        \"samples\": [\n          \"Amanda Harris\",\n          \"Daniel Lowe\",\n          \"Stacy Howard\"\n        ],\n        \"semantic_type\": \"\",\n        \"description\": \"\"\n      }\n    },\n    {\n      \"column\": \"email\",\n      \"properties\": {\n        \"dtype\": \"string\",\n        \"num_unique_values\": 9934,\n        \"samples\": [\n          \"bdominguez@gmail.com\",\n          \"jonathancarlson@schmidt-williams.com\",\n          \"xpittman@stephenson-romero.com\"\n        ],\n        \"semantic_type\": \"\",\n        \"description\": \"\"\n      }\n    },\n    {\n      \"column\": \"join_date\",\n      \"properties\": {\n        \"dtype\": \"date\",\n        \"min\": \"2021-05-03 00:00:00\",\n        \"max\": \"2024-05-02 00:00:00\",\n        \"num_unique_values\": 1096,\n        \"samples\": [\n          \"2024-01-13 00:00:00\",\n          \"2022-06-22 00:00:00\",\n          \"2022-06-18 00:00:00\"\n        ],\n        \"semantic_type\": \"\",\n        \"description\": \"\"\n      }\n    },\n    {\n      \"column\": \"transaction_id\",\n      \"properties\": {\n        \"dtype\": \"string\",\n        \"num_unique_values\": 10000,\n        \"samples\": [\n          \"85c21ccc-7f8a-4349-a506-a19ea61e9e33\",\n          \"cb09279f-fd1a-4243-8e39-da962eeca430\",\n          \"809dfab6-fef2-4103-984d-d36817fe007c\"\n        ],\n        \"semantic_type\": \"\",\n        \"description\": \"\"\n      }\n    },\n    {\n      \"column\": \"amount\",\n      \"properties\": {\n        \"dtype\": \"number\",\n        \"std\": 289.9614602336304,\n        \"min\": 0.19,\n        \"max\": 999.98,\n        \"num_unique_values\": 8700,\n        \"samples\": [\n          747.53,\n          341.9,\n          114.18\n        ],\n        \"semantic_type\": \"\",\n        \"description\": \"\"\n      }\n    },\n    {\n      \"column\": \"timestamp\",\n      \"properties\": {\n        \"dtype\": \"date\",\n        \"min\": \"2023-05-04 11:37:00\",\n        \"max\": \"2024-05-03 13:45:37\",\n        \"num_unique_values\": 9949,\n        \"samples\": [\n          \"2024-01-06 05:09:13\",\n          \"2024-03-08 19:05:00\",\n          \"2023-08-28 07:06:21\"\n        ],\n        \"semantic_type\": \"\",\n        \"description\": \"\"\n      }\n    },\n    {\n      \"column\": \"transaction_type\",\n      \"properties\": {\n        \"dtype\": \"category\",\n        \"num_unique_values\": 3,\n        \"samples\": [\n          \"in-store\",\n          \"subscription\",\n          \"online\"\n        ],\n        \"semantic_type\": \"\",\n        \"description\": \"\"\n      }\n    },\n    {\n      \"column\": \"package_id\",\n      \"properties\": {\n        \"dtype\": \"string\",\n        \"num_unique_values\": 10000,\n        \"samples\": [\n          \"1fb773ee-c49f-4545-bcee-0d54681897a3\",\n          \"6f89be65-b721-4a57-8cf6-bf7cf5ef9a94\",\n          \"86c47e82-baa0-4f57-aa17-6877e728d014\"\n        ],\n        \"semantic_type\": \"\",\n        \"description\": \"\"\n      }\n    },\n    {\n      \"column\": \"courier\",\n      \"properties\": {\n        \"dtype\": \"category\",\n        \"num_unique_values\": 3,\n        \"samples\": [\n          \"dhl\",\n          \"ups\",\n          \"fedex\"\n        ],\n        \"semantic_type\": \"\",\n        \"description\": \"\"\n      }\n    },\n    {\n      \"column\": \"delivery_date\",\n      \"properties\": {\n        \"dtype\": \"date\",\n        \"min\": \"2021-05-03 00:00:00\",\n        \"max\": \"2024-05-02 00:00:00\",\n        \"num_unique_values\": 1095,\n        \"samples\": [\n          \"2021-08-16 00:00:00\",\n          \"2021-09-03 00:00:00\",\n          \"2023-04-22 00:00:00\"\n        ],\n        \"semantic_type\": \"\",\n        \"description\": \"\"\n      }\n    },\n    {\n      \"column\": \"delivery_status\",\n      \"properties\": {\n        \"dtype\": \"category\",\n        \"num_unique_values\": 4,\n        \"samples\": [\n          \"in transit\",\n          \"lost\",\n          \"delivered\"\n        ],\n        \"semantic_type\": \"\",\n        \"description\": \"\"\n      }\n    }\n  ]\n}"
            },
            "application/vnd.google.colaboratory.module+javascript": "\n      import \"https://ssl.gstatic.com/colaboratory/data_table/54ded79905fc55e4/data_table.js\";\n\n      const table = window.createDataTable({\n        data: [[{\n            'v': 0,\n            'f': \"0\",\n        },\n\"1d10b266-b7b2-4258-88b3-3957de0461ea\",\n\"Angela Smith\",\n\"nfischer@yahoo.com\",\n\"2023-02-06 00:00:00\",\n\"8b266b46-9ec7-4010-83e4-004b3bef400f\",\n{\n            'v': 865.48,\n            'f': \"865.48\",\n        },\n\"2023-06-11 06:12:30\",\n\"in-store\",\n\"80c09506-8a61-454a-a226-22e639d8795b\",\n\"dhl\",\n\"2022-12-09 00:00:00\",\n\"delivered\"],\n [{\n            'v': 1,\n            'f': \"1\",\n        },\n\"bf04c0b9-8a09-49e4-b4a5-0b2915bc5143\",\n\"Mr. John Powell\",\n\"rebeccabarnes@yahoo.com\",\n\"2022-05-04 00:00:00\",\n\"98ae73d5-6918-4790-9d63-eedf8ad43a0b\",\n{\n            'v': 416.5,\n            'f': \"416.5\",\n        },\n\"2023-08-30 09:26:00\",\n\"subscription\",\n\"2e321909-afe9-4ed2-9065-05425bce5394\",\n\"ups\",\n\"2021-05-16 00:00:00\",\n\"in transit\"],\n [{\n            'v': 2,\n            'f': \"2\",\n        },\n\"616735b6-b8db-4517-bb3f-8171ec2a6166\",\n\"Susan Chase\",\n\"riverschristopher@davis.net\",\n\"2022-01-01 00:00:00\",\n\"483b1462-9efe-4e9e-a659-da11640c3201\",\n{\n            'v': 473.42,\n            'f': \"473.42\",\n        },\n\"2023-11-22 01:09:00\",\n\"online\",\n\"89b8b5d6-b90e-4a29-9d1e-a9a9db4d1e03\",\n\"ups\",\n\"2022-08-30 00:00:00\",\n\"pending\"],\n [{\n            'v': 3,\n            'f': \"3\",\n        },\n\"a6266c94-16ee-4914-a587-a3d43a81f913\",\n\"Sally Smith\",\n\"mswanson@mitchell-cooper.com\",\n\"2021-07-20 00:00:00\",\n\"9954f0e8-487a-4bb8-9596-41d2dbfec7b4\",\n{\n            'v': 307.0,\n            'f': \"307.0\",\n        },\n\"2023-05-20 04:46:00\",\n\"in-store\",\n\"f13aa104-f973-4a2e-bac0-6a04ac86b9ae\",\n\"dhl\",\n\"2021-12-08 00:00:00\",\n\"in transit\"],\n [{\n            'v': 4,\n            'f': \"4\",\n        },\n\"ccac9e39-e865-4a9f-acc3-1cf90c862ede\",\n\"Albert Cordova\",\n\"uhicks@macias-patterson.com\",\n\"2023-09-26 00:00:00\",\n\"ee42937c-7f14-4782-82b9-dfa0f14773e5\",\n{\n            'v': 183.0,\n            'f': \"183.0\",\n        },\n\"2023-11-05 23:21:00\",\n\"subscription\",\n\"51f15194-b5ad-4062-9bd2-16738f9667f0\",\n\"ups\",\n\"2022-12-05 00:00:00\",\n\"lost\"],\n [{\n            'v': 5,\n            'f': \"5\",\n        },\n\"d7be528d-0e2c-4410-ba87-306c4a04fcab\",\n\"Shawn Anderson\",\n\"angelaclark@calderon.info\",\n\"2023-08-23 00:00:00\",\n\"a0b4e7d0-c7d4-4ee4-84ad-acdb8379f8ec\",\n{\n            'v': 689.8,\n            'f': \"689.8\",\n        },\n\"2023-06-16 05:13:00\",\n\"online\",\n\"75bb8e99-ff6a-45b6-bcf5-120af842c8c2\",\n\"fedex\",\n\"2021-11-26 00:00:00\",\n\"in transit\"],\n [{\n            'v': 6,\n            'f': \"6\",\n        },\n\"43720d9b-c242-4c83-ae28-9004770a7044\",\n\"Corey Hickman\",\n\"william65@hess-walker.com\",\n\"2022-11-04 00:00:00\",\n\"44bc6f22-54ac-4498-9945-6e686f763726\",\n{\n            'v': 37.6,\n            'f': \"37.6\",\n        },\n\"2023-05-11 16:35:00\",\n\"in-store\",\n\"c19ca5d8-bb7d-4f0d-a0bf-9da6d5f0f9dd\",\n\"ups\",\n\"2021-08-31 00:00:00\",\n\"pending\"],\n [{\n            'v': 7,\n            'f': \"7\",\n        },\n\"aa7c68aa-2e5b-4255-98b8-2ee5048d40eb\",\n\"Jeffrey Mosley\",\n\"jordanstephanie@bryan-gaines.com\",\n\"2021-11-07 00:00:00\",\n\"eddad204-f1d9-40cd-8f0b-fb8208a9b057\",\n{\n            'v': 560.8,\n            'f': \"560.8\",\n        },\n\"2023-12-06 19:49:00\",\n\"in-store\",\n\"4c010ef6-fd78-4813-8328-1afb057bf324\",\n\"dhl\",\n\"2022-05-09 00:00:00\",\n\"lost\"],\n [{\n            'v': 8,\n            'f': \"8\",\n        },\n\"95af9858-5249-4e5f-b409-1fd058f6042f\",\n\"Jason Smith\",\n\"duane30@griffin-rodriguez.net\",\n\"2022-08-07 00:00:00\",\n\"a2f211e9-7cfd-4768-b4ec-e86cceee1555\",\n{\n            'v': 495.8,\n            'f': \"495.8\",\n        },\n\"2023-11-21 04:36:55\",\n\"online\",\n\"d9eb0820-5822-4483-a99e-44bdf75c8ac9\",\n\"ups\",\n\"2022-09-09 00:00:00\",\n\"lost\"],\n [{\n            'v': 9,\n            'f': \"9\",\n        },\n\"19a5870d-e88b-4825-a322-7c991ee1ffe5\",\n\"Jason Peters\",\n\"braundaniel@webb.net\",\n\"2024-01-17 00:00:00\",\n\"ad2a3f5e-975a-4787-a121-3708d3a618c6\",\n{\n            'v': 118.0,\n            'f': \"118.0\",\n        },\n\"2023-05-05 10:26:00\",\n\"subscription\",\n\"2e636598-a94b-47cd-a1d2-1a7f1de8d3d1\",\n\"dhl\",\n\"2022-11-23 00:00:00\",\n\"pending\"]],\n        columns: [[\"number\", \"index\"], [\"string\", \"user_id\"], [\"string\", \"name\"], [\"string\", \"email\"], [\"string\", \"join_date\"], [\"string\", \"transaction_id\"], [\"number\", \"amount\"], [\"string\", \"timestamp\"], [\"string\", \"transaction_type\"], [\"string\", \"package_id\"], [\"string\", \"courier\"], [\"string\", \"delivery_date\"], [\"string\", \"delivery_status\"]],\n        columnOptions: [{\"width\": \"1px\", \"className\": \"index_column\"}],\n        rowsPerPage: 25,\n        helpUrl: \"https://colab.research.google.com/notebooks/data_table.ipynb\",\n        suppressOutputScrolling: true,\n        minimumWidth: undefined,\n      });\n\n      function appendQuickchartButton(parentElement) {\n        let quickchartButtonContainerElement = document.createElement('div');\n        quickchartButtonContainerElement.innerHTML = `\n<div id=\"df-ae7c6664-1cb6-439b-a276-febd40448e12\">\n  <button class=\"colab-df-quickchart\" onclick=\"quickchart('df-ae7c6664-1cb6-439b-a276-febd40448e12')\"\n            title=\"Suggest charts\"\n            style=\"display:none;\">\n    \n<svg xmlns=\"http://www.w3.org/2000/svg\" height=\"24px\"viewBox=\"0 0 24 24\"\n     width=\"24px\">\n    <g>\n        <path d=\"M19 3H5c-1.1 0-2 .9-2 2v14c0 1.1.9 2 2 2h14c1.1 0 2-.9 2-2V5c0-1.1-.9-2-2-2zM9 17H7v-7h2v7zm4 0h-2V7h2v10zm4 0h-2v-4h2v4z\"/>\n    </g>\n</svg>\n  </button>\n  \n<style>\n  .colab-df-quickchart {\n      --bg-color: #E8F0FE;\n      --fill-color: #1967D2;\n      --hover-bg-color: #E2EBFA;\n      --hover-fill-color: #174EA6;\n      --disabled-fill-color: #AAA;\n      --disabled-bg-color: #DDD;\n  }\n\n  [theme=dark] .colab-df-quickchart {\n      --bg-color: #3B4455;\n      --fill-color: #D2E3FC;\n      --hover-bg-color: #434B5C;\n      --hover-fill-color: #FFFFFF;\n      --disabled-bg-color: #3B4455;\n      --disabled-fill-color: #666;\n  }\n\n  .colab-df-quickchart {\n    background-color: var(--bg-color);\n    border: none;\n    border-radius: 50%;\n    cursor: pointer;\n    display: none;\n    fill: var(--fill-color);\n    height: 32px;\n    padding: 0;\n    width: 32px;\n  }\n\n  .colab-df-quickchart:hover {\n    background-color: var(--hover-bg-color);\n    box-shadow: 0 1px 2px rgba(60, 64, 67, 0.3), 0 1px 3px 1px rgba(60, 64, 67, 0.15);\n    fill: var(--button-hover-fill-color);\n  }\n\n  .colab-df-quickchart-complete:disabled,\n  .colab-df-quickchart-complete:disabled:hover {\n    background-color: var(--disabled-bg-color);\n    fill: var(--disabled-fill-color);\n    box-shadow: none;\n  }\n\n  .colab-df-spinner {\n    border: 2px solid var(--fill-color);\n    border-color: transparent;\n    border-bottom-color: var(--fill-color);\n    animation:\n      spin 1s steps(1) infinite;\n  }\n\n  @keyframes spin {\n    0% {\n      border-color: transparent;\n      border-bottom-color: var(--fill-color);\n      border-left-color: var(--fill-color);\n    }\n    20% {\n      border-color: transparent;\n      border-left-color: var(--fill-color);\n      border-top-color: var(--fill-color);\n    }\n    30% {\n      border-color: transparent;\n      border-left-color: var(--fill-color);\n      border-top-color: var(--fill-color);\n      border-right-color: var(--fill-color);\n    }\n    40% {\n      border-color: transparent;\n      border-right-color: var(--fill-color);\n      border-top-color: var(--fill-color);\n    }\n    60% {\n      border-color: transparent;\n      border-right-color: var(--fill-color);\n    }\n    80% {\n      border-color: transparent;\n      border-right-color: var(--fill-color);\n      border-bottom-color: var(--fill-color);\n    }\n    90% {\n      border-color: transparent;\n      border-bottom-color: var(--fill-color);\n    }\n  }\n</style>\n\n  <script>\n    async function quickchart(key) {\n      const quickchartButtonEl =\n        document.querySelector('#' + key + ' button');\n      quickchartButtonEl.disabled = true;  // To prevent multiple clicks.\n      quickchartButtonEl.classList.add('colab-df-spinner');\n      try {\n        const charts = await google.colab.kernel.invokeFunction(\n            'suggestCharts', [key], {});\n      } catch (error) {\n        console.error('Error during call to suggestCharts:', error);\n      }\n      quickchartButtonEl.classList.remove('colab-df-spinner');\n      quickchartButtonEl.classList.add('colab-df-quickchart-complete');\n    }\n    (() => {\n      let quickchartButtonEl =\n        document.querySelector('#df-ae7c6664-1cb6-439b-a276-febd40448e12 button');\n      quickchartButtonEl.style.display =\n        google.colab.kernel.accessAllowed ? 'block' : 'none';\n    })();\n  </script>\n</div>`;\n        parentElement.appendChild(quickchartButtonContainerElement);\n      }\n\n      appendQuickchartButton(table);\n    "
          },
          "metadata": {},
          "execution_count": 87
        }
      ]
    },
    {
      "cell_type": "markdown",
      "source": [
        "###### Notes about cleaning and merging"
      ],
      "metadata": {
        "id": "B45zI_potcxr"
      }
    },
    {
      "cell_type": "markdown",
      "source": [
        "The cleaning of this dataset was a little tricky, the columns related with date formats have several formats and I need to use regular expressions to clean the dates and obtain the desire format.\n",
        "\n",
        "After of that the cleaning was easier and I just need to apply simple functions to clean spaces and lowercase the values.\n",
        "\n",
        "At the end the merging was easier and just need to join with the 'user_id' as the union key"
      ],
      "metadata": {
        "id": "CPNneTixtg9Y"
      }
    },
    {
      "cell_type": "markdown",
      "source": [
        "### 3.- DAG area\n",
        "Instructions\n",
        "Design a DAG for the production deployment of your merged table creation. Based on that, answer the following questions:\n",
        "- Would you choose ETL or ELT? Why?\n",
        "- Which part of the process would you emphasize most? Why?\n"
      ],
      "metadata": {
        "id": "D0g0aCLRqQrx"
      }
    },
    {
      "cell_type": "markdown",
      "source": [
        " #### ETL vs ELT"
      ],
      "metadata": {
        "id": "C43urQBpZcM-"
      }
    },
    {
      "cell_type": "markdown",
      "source": [
        "The dataset has different problems with the quality of the data.\n",
        "So for this reason I choose the ETL process instead of ELT this is because is more complicated to create regular expressions (To clean the date formats) in the databases than using a programming language.\n"
      ],
      "metadata": {
        "id": "CJCk0pwhijBp"
      }
    },
    {
      "cell_type": "markdown",
      "source": [
        "![Story DAG Diagram ETL Process.png](data:image/png;base64,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)"
      ],
      "metadata": {
        "id": "-l-ZISKni2hC"
      }
    },
    {
      "cell_type": "markdown",
      "source": [
        "#### Which part of the process would you emphasize most?"
      ],
      "metadata": {
        "id": "MMVZxRRJjASj"
      }
    },
    {
      "cell_type": "markdown",
      "source": [
        "**In this case the data cleaning process is the most crucial.\n",
        "So I recommend that the focus must be on this part.**"
      ],
      "metadata": {
        "id": "zLkwiGYljFyg"
      }
    },
    {
      "cell_type": "markdown",
      "source": [
        "#### Simulation of the DAG Process"
      ],
      "metadata": {
        "id": "ITQ-5g5kjVdC"
      }
    },
    {
      "cell_type": "markdown",
      "source": [
        "This simulation consist in 2 parts\n",
        "1. Creation of the functions in Python\n",
        "2.  An Airflow python code that is all commented and converted a text.\n",
        "This is because Airflow can't be executed in Colaboratory.\n",
        "But the intention is to show how the process of DAG could be working\n"
      ],
      "metadata": {
        "id": "n_6Y6OHgrJhr"
      }
    },
    {
      "cell_type": "markdown",
      "source": [
        "###### Functions available not necessary for Airflow"
      ],
      "metadata": {
        "id": "7AYiPl2BsUXz"
      }
    },
    {
      "cell_type": "code",
      "source": [
        "#### NOTE this functions were used in previous code, so i paste it here in order to make easier to read the next code\n",
        "\n",
        "import pandas as pd\n",
        "import numpy as np\n",
        "from datetime import datetime\n",
        "import re\n",
        "from sqlalchemy import create_engine\n",
        "from sqlalchemy.exc import SQLAlchemyError\n",
        "\n",
        "#### Functions available for all the next process\n",
        "\n",
        "##### Download a file from a driveID\n",
        "def downloadDrivefile(fileId, fileName):\n",
        "  fileDownloaded = drive.CreateFile({'id': fileId})\n",
        "  fileDownloaded.GetContentFile(fileName)\n",
        "\n",
        "#### Detect different dates formats and convert them into YYYY-MM-DD or YYYY-MM-DD HH:MM:SS\n",
        "def detectPatternDateFromStr(datestr: str) -> Optional[str]:\n",
        "  dictPatterns={\n",
        "      r'^\\d{4}-\\d{2}-\\d{2}$':'%Y-%m-%d',\n",
        "      r'^\\d{4}\\.\\d{2}\\.\\d{2}$':'%Y.%m.%d',\n",
        "      #r'^\\d{2}-\\d{2}-\\d{4}$':'%m-%d-%Y',\n",
        "      r'^\\d{2}/\\d{2}/\\d{4}$':'%m/%d/%Y',\n",
        "      r'^\\d{4}/\\d{2}/\\d{2}$':'%Y/%m/%d',\n",
        "      r'^\\d{2}\\.\\d{2}\\.\\d{4}$':'%m.%d.%Y',\n",
        "      r'^\\d{4}-\\d{2}-\\d{2} \\d{2}:\\d{2}:\\d{2}$':'%Y-%m-%d %H:%M:%S',\n",
        "      r'^\\d{2}/\\d{2}/\\d{4} \\d{2}:\\d{2} [APap][Mm]$':'%m/%d/%Y %I:%M %p',\n",
        "      r'^\\d{4}\\.\\d{2}\\.\\d{2} \\d{2}:\\d{2}$':'%Y.%m.%d %H:%M',\n",
        "      r'^\\d{2}-\\d{2}-\\d{4} \\d{2}:\\d{2}$':'%d-%m-%Y %H:%M',\n",
        "      #r'^\\d{2}-\\d{2}-\\d{2}$':'%m-%d-%y',\n",
        "      r'^([0-2][0-9]|3[0-1])-(0[1-9]|1[0-2])-\\d{4}$':'%d-%m-%Y',\n",
        "      r'^(0[1-9]|1[0-2])-([0-2][0-9]|3[0-1])-\\d{4}$':'%m-%d-%Y',\n",
        "      r'^\\d{4}\\d{2}\\d{2}$':'%Y%m%d',\n",
        "      r'^\\d{2}/\\d{2}/\\d{2}$':'%m/%d/%y'\n",
        "  }\n",
        "\n",
        "  for pattern, format in dictPatterns.items():\n",
        "    if re.match(pattern, datestr):\n",
        "      return format\n",
        "\n",
        "  return None\n",
        "\n",
        "#### Execute the previous function and convert a column in datetime format\n",
        "def convertStrToDateFromFormat(datestr):\n",
        "  dateFormat = detectPatternDateFromStr(datestr)\n",
        "  if dateFormat:\n",
        "    return pd.to_datetime(datestr, format= dateFormat)\n",
        "  else:\n",
        "    return None\n",
        "\n",
        "\n",
        "##### Clean a dataframe from spaces and convert to lowercase, except id columns and name or email columns\n",
        "def cleandAndLower(df):\n",
        "  columns = df.columns\n",
        "  for column in columns:\n",
        "    if df[column].dtype=='object':\n",
        "      if not re.search('id|name|email', column):\n",
        "        df[column]= df[column].str.strip()\n",
        "        df[column]= df[column].str.lower()\n",
        "  return df\n",
        "\n",
        "##### Convert a dataframe to mysql\n",
        "def populateTableFromDf(df, connection_string, database_table):\n",
        "  try:\n",
        "    engine = create_engine(connection_string)\n",
        "    with engine.connect() as connection:\n",
        "      df.to_sql(\n",
        "          name= database_table,\n",
        "          con = connection,\n",
        "          if_exists = 'append',\n",
        "          index=False#,\n",
        "          #dtype={primary_key: 'PRIMARY KEY'}\n",
        "      )\n",
        "      print(f'Database {database_table} populated correctly')\n",
        "  except SQLAlchemyError as e:\n",
        "    print(f'Error in the process: {e}')"
      ],
      "metadata": {
        "id": "gqr2eGaurxV-"
      },
      "execution_count": 132,
      "outputs": []
    },
    {
      "cell_type": "markdown",
      "source": [
        "###### Non executable code for simulation in Airflow"
      ],
      "metadata": {
        "id": "vP8gcRv1ryKq"
      }
    },
    {
      "cell_type": "markdown",
      "source": [
        "########## DAG SIMULATION\n",
        "```\n",
        "from airflow import DAG\n",
        "from airflow.operators.python_operator import PythonOperator\n",
        "\n",
        "#### Default Arguments of the DAG\n",
        "default_args = {\n",
        "    'owner': 'airflow',\n",
        "    'depends_on_past': False,\n",
        "    'start_date': datetime(2023, 11, 1),\n",
        "    'retries': 1\n",
        "}\n",
        "\n",
        "dag = DAG(\n",
        "    'etl_process_dag',\n",
        "    default_args=default_args,\n",
        "    description='ETL process for data loading into MySQL',\n",
        "    schedule_interval=None\n",
        ")\n",
        "\n",
        "# Global variables and data conection\n",
        "packageData = transactionData = userData = None\n",
        "\n",
        "user = 'avnadmin'\n",
        "password = 'the MYSQL PASSS'\n",
        "host = 'mysql-1f1f1a85-my1project-fdn.i.aivencloud.com'\n",
        "port = 25864\n",
        "database = 'defaultdb'\n",
        "sslPath = '/content/ca.pem'\n",
        "\n",
        "connectionString = (\n",
        "    f\"mysql+pymysql://{user}:{password}@{host}:{port}/{database}?\"\n",
        "    f\"ssl_ca={sslPath}\"\n",
        ")\n",
        "\n",
        "############################ EXTRACT\n",
        "def extract_data():\n",
        "    global packageData, transactionData, userData\n",
        "    packageData = pd.read_csv('package_delivery_info.csv')\n",
        "    transactionData = pd.read_csv('transaction_info.csv')\n",
        "    userData = pd.read_csv('user_info.csv')\n",
        "    print(\"Data extracted successfully.\")\n",
        "\n",
        "\n",
        "############################ TRANSFORM\n",
        "\n",
        "def transform_data():\n",
        "    global packageData, transactionData, userData\n",
        "    packageData['delivery_date'] = packageData['delivery_date'].apply(convertStrToDateFromFormat)\n",
        "    transactionData['transaction_date'] = transactionData['transaction_date'].apply(convertStrToDateFromFormat)\n",
        "    userData = cleandAndLower(userData)\n",
        "    print(\"Data transformed successfully.\")\n",
        "\n",
        "############################ LOAD\n",
        "def load_data():\n",
        "    global packageData, transactionData, userData\n",
        "    populateTableFromDf(packageData, connectionString, 'package_delivery')\n",
        "    populateTableFromDf(transactionData, connectionString, 'transactions')\n",
        "    populateTableFromDf(userData, connectionString, 'users')\n",
        "    print('The datasets were loaded into MySQL.')\n",
        "\n",
        "# Task of the DAG\n",
        "extract_task = PythonOperator(\n",
        "    task_id='extract_data',\n",
        "    python_callable=extract_data,\n",
        "    dag=dag\n",
        ")\n",
        "\n",
        "transform_task = PythonOperator(\n",
        "    task_id='transform_data',\n",
        "    python_callable=transform_data,\n",
        "    dag=dag\n",
        ")\n",
        "\n",
        "load_task = PythonOperator(\n",
        "    task_id='load_data',\n",
        "    python_callable=load_data,\n",
        "    dag=dag\n",
        ")\n",
        "\n",
        "## Let's define the esquem\n",
        "extract_task >> transform_task >> load_task\n",
        "\n",
        "\n",
        "### And that's the DAG process\n",
        "\n",
        "\n",
        "```\n",
        "\n"
      ],
      "metadata": {
        "id": "S27aTqK92sC5"
      }
    },
    {
      "cell_type": "markdown",
      "source": [
        "### 4.- SQL Queries area\n",
        "Instructions\n",
        "Write SQL queries to answer the following:\n",
        "- How many users are there in total?\n",
        "- How many users have transacted?\n",
        "- What is the card delivery rate?\n",
        "- Which is the most efficient package courier?\n",
        "- Which are the top 10 categories with the most transactions?"
      ],
      "metadata": {
        "id": "fmbtHaqNqU0B"
      }
    },
    {
      "cell_type": "markdown",
      "source": [
        "#### Create the databases in mysql"
      ],
      "metadata": {
        "id": "KcqF7uE5z9tx"
      }
    },
    {
      "cell_type": "markdown",
      "source": [
        "I'm going to create the datasets in the mysql cluster.\n",
        "\n",
        "I use a service called [aiven](https://aiven.io/) that allows me to create simple mysql clusters"
      ],
      "metadata": {
        "id": "eMxWUsC20Gq_"
      }
    },
    {
      "cell_type": "code",
      "source": [
        "from google.colab import userdata\n",
        "mysqlPass= userdata.get('MySQLSecret') ## Password of the mysql connection"
      ],
      "metadata": {
        "id": "c-RxDSHTv6hT"
      },
      "execution_count": 88,
      "outputs": []
    },
    {
      "cell_type": "code",
      "source": [
        "### Main credentials and inputs to connect to the mysql database\n",
        "user = 'avnadmin'\n",
        "password = mysqlPass\n",
        "host='mysql-1f1f1a85-my1project-fdn.i.aivencloud.com'\n",
        "port= 25864\n",
        "database= 'defaultdb'\n",
        "sslPath = '/content/ca.pem'\n",
        "\n",
        "connectionString = (\n",
        "    f\"mysql+pymysql://{user}:{password}@{host}:{port}/{database}?\"\n",
        "    f\"ssl_ca={sslPath}\"\n",
        ")\n"
      ],
      "metadata": {
        "id": "asNYPCXtwFnu"
      },
      "execution_count": 89,
      "outputs": []
    },
    {
      "cell_type": "code",
      "source": [
        "from sqlalchemy import create_engine\n",
        "from sqlalchemy.exc import SQLAlchemyError\n",
        "from sqlalchemy import text"
      ],
      "metadata": {
        "id": "7g8dBhfS2yli"
      },
      "execution_count": 90,
      "outputs": []
    },
    {
      "cell_type": "code",
      "source": [
        "### Let's check the database connection\n",
        "engine = create_engine(connectionString)\n"
      ],
      "metadata": {
        "id": "Kg6eXEtsqYJ-"
      },
      "execution_count": 91,
      "outputs": []
    },
    {
      "cell_type": "code",
      "source": [
        "#### Try the connection\n",
        "try:\n",
        "  engine.connect()\n",
        "  print('Sucessful Connection')\n",
        "except Exception as e:\n",
        "  print(f'Error in connection {e}')\n"
      ],
      "metadata": {
        "colab": {
          "base_uri": "https://localhost:8080/"
        },
        "id": "8KkCqr0G3Hi9",
        "outputId": "39d643c9-0443-4cdb-f11a-877ad6cfe626"
      },
      "execution_count": 92,
      "outputs": [
        {
          "output_type": "stream",
          "name": "stdout",
          "text": [
            "Sucessful Connection\n"
          ]
        }
      ]
    },
    {
      "cell_type": "code",
      "source": [
        "### Function to create a table in mysql from a query\n",
        "def createTableFromSQL(sql_query, connection_string):\n",
        "  try:\n",
        "    engine = create_engine(connection_string)\n",
        "    with engine.connect() as connection:\n",
        "      connection.execute(text(sql_query))\n",
        "      print('Query executed successfuly')\n",
        "    return True\n",
        "  except SQLAlchemyError as e:\n",
        "    print(f'Error executing the query: {e}')\n",
        "    return False\n",
        "\n",
        "\n",
        "### Function to populate a mysql table from a Pandas dataframe\n",
        "def populateTableFromDf(df, connection_string, database_table):\n",
        "  try:\n",
        "    engine = create_engine(connection_string)\n",
        "    with engine.connect() as connection:\n",
        "      df.to_sql(\n",
        "          name= database_table,\n",
        "          con = connection,\n",
        "          if_exists = 'append',\n",
        "          index=False#,\n",
        "          #dtype={primary_key: 'PRIMARY KEY'}\n",
        "      )\n",
        "      print(f'Database {database_table} populated correctly')\n",
        "  except SQLAlchemyError as e:\n",
        "    print(f'Error in the process: {e}')\n",
        "\n"
      ],
      "metadata": {
        "id": "j3FX4-X_4ULz"
      },
      "execution_count": 93,
      "outputs": []
    },
    {
      "cell_type": "code",
      "source": [
        "#### Create queries\n",
        "transactionsQueryCreation =\"\"\"\n",
        "CREATE TABLE IF NOT EXISTS  transactions (\n",
        "    transaction_id VARCHAR(36) PRIMARY KEY ,\n",
        "    user_id VARCHAR(36),\n",
        "    amount DECIMAL(15, 2),\n",
        "    timestamp DATETIME,\n",
        "    transaction_type VARCHAR(50)\n",
        ")\n",
        "\"\"\"\n",
        "\n",
        "packagesQueryCreation =\"\"\"\n",
        "CREATE TABLE IF NOT EXISTS  packages (\n",
        "    package_id VARCHAR(36) PRIMARY KEY ,\n",
        "    courier VARCHAR(50),\n",
        "    delivery_date DATETIME,\n",
        "    delivery_status VARCHAR(50),\n",
        "    user_id VARCHAR(36)\n",
        ")\n",
        "\"\"\"\n",
        "\n",
        "usersQueryCreation =\"\"\"\n",
        "CREATE TABLE IF NOT EXISTS  users (\n",
        "    user_id VARCHAR(36) PRIMARY KEY ,\n",
        "    name VARCHAR(75),\n",
        "    email VARCHAR(100),\n",
        "    join_date DATETIME\n",
        ")\n",
        "\"\"\"\n",
        "\n"
      ],
      "metadata": {
        "id": "-la1GBrQ49Ih"
      },
      "execution_count": 94,
      "outputs": []
    },
    {
      "cell_type": "code",
      "source": [
        "### Create transactions table\n",
        "createTableFromSQL(sql_query=transactionsQueryCreation,\n",
        "                   connection_string=connectionString)"
      ],
      "metadata": {
        "colab": {
          "base_uri": "https://localhost:8080/"
        },
        "id": "0GXjG40_8Oak",
        "outputId": "39ed86e6-24ed-49dc-e71e-db29789e8f78"
      },
      "execution_count": 95,
      "outputs": [
        {
          "output_type": "stream",
          "name": "stdout",
          "text": [
            "Query executed successfuly\n"
          ]
        },
        {
          "output_type": "execute_result",
          "data": {
            "text/plain": [
              "True"
            ]
          },
          "metadata": {},
          "execution_count": 95
        }
      ]
    },
    {
      "cell_type": "code",
      "source": [
        "### Create packages table\n",
        "createTableFromSQL(sql_query=packagesQueryCreation,\n",
        "                   connection_string=connectionString)"
      ],
      "metadata": {
        "colab": {
          "base_uri": "https://localhost:8080/"
        },
        "id": "I20QCTt68aA_",
        "outputId": "d87b03e0-5449-4c2d-bbf7-b4f8cb4ec556"
      },
      "execution_count": 96,
      "outputs": [
        {
          "output_type": "stream",
          "name": "stdout",
          "text": [
            "Query executed successfuly\n"
          ]
        },
        {
          "output_type": "execute_result",
          "data": {
            "text/plain": [
              "True"
            ]
          },
          "metadata": {},
          "execution_count": 96
        }
      ]
    },
    {
      "cell_type": "code",
      "source": [
        "### Create users table\n",
        "createTableFromSQL(sql_query=usersQueryCreation,\n",
        "                   connection_string=connectionString)"
      ],
      "metadata": {
        "colab": {
          "base_uri": "https://localhost:8080/"
        },
        "id": "fKIqMx0n8aIV",
        "outputId": "d61b421b-e566-4513-d9db-2708381f0547"
      },
      "execution_count": 97,
      "outputs": [
        {
          "output_type": "stream",
          "name": "stdout",
          "text": [
            "Query executed successfuly\n"
          ]
        },
        {
          "output_type": "execute_result",
          "data": {
            "text/plain": [
              "True"
            ]
          },
          "metadata": {},
          "execution_count": 97
        }
      ]
    },
    {
      "cell_type": "markdown",
      "source": [
        "#### Populate the tables"
      ],
      "metadata": {
        "id": "LEI8cG4k0rp9"
      }
    },
    {
      "cell_type": "markdown",
      "source": [
        "I'm goint to fill the tables with the dataframes"
      ],
      "metadata": {
        "id": "VrsctP58_NWm"
      }
    },
    {
      "cell_type": "code",
      "source": [
        "### Populate or fill the transactions table\n",
        "populateTableFromDf(df=transactionData, connection_string=connectionString,\n",
        "                    database_table='transactions')"
      ],
      "metadata": {
        "colab": {
          "base_uri": "https://localhost:8080/"
        },
        "id": "ij_GIdjt_RIF",
        "outputId": "e1b8fcb2-eeee-405d-d5d1-281156245df6"
      },
      "execution_count": 47,
      "outputs": [
        {
          "output_type": "stream",
          "name": "stdout",
          "text": [
            "Database transactions populated correctly\n"
          ]
        }
      ]
    },
    {
      "cell_type": "code",
      "source": [
        "### Populate or fill the packages table\n",
        "populateTableFromDf(df=packageData, connection_string=connectionString,\n",
        "                    database_table='packages')"
      ],
      "metadata": {
        "colab": {
          "base_uri": "https://localhost:8080/"
        },
        "id": "cMiHUOjk_RS7",
        "outputId": "585691ae-a335-4bf9-daec-90e526d546df"
      },
      "execution_count": 49,
      "outputs": [
        {
          "output_type": "stream",
          "name": "stdout",
          "text": [
            "Database packages populated correctly\n"
          ]
        }
      ]
    },
    {
      "cell_type": "code",
      "source": [
        "### Populate or fill the users table\n",
        "populateTableFromDf(df=userData, connection_string=connectionString,\n",
        "                    database_table='users')"
      ],
      "metadata": {
        "colab": {
          "base_uri": "https://localhost:8080/"
        },
        "id": "PVRxZYro_Rab",
        "outputId": "deb72db1-a641-4730-98e9-45796a5e93ff"
      },
      "execution_count": 50,
      "outputs": [
        {
          "output_type": "stream",
          "name": "stdout",
          "text": [
            "Database users populated correctly\n"
          ]
        }
      ]
    },
    {
      "cell_type": "markdown",
      "source": [
        "#### Answering the queries"
      ],
      "metadata": {
        "id": "zyh34hHM0uwO"
      }
    },
    {
      "cell_type": "code",
      "source": [
        "#### Function to get the data from a query\n",
        "def getDataFromSQL(sql_query, connection_string) -> pd.DataFrame:\n",
        "  try:\n",
        "    engine = create_engine(connection_string)\n",
        "    with engine.connect() as connection:\n",
        "      df= pd.read_sql(sql_query, connection)\n",
        "      print('Query executed successfuly')\n",
        "    return df\n",
        "  except SQLAlchemyError as e:\n",
        "    print(f'Error in the query execution: {e}')\n",
        "    return pd.DataFrame()"
      ],
      "metadata": {
        "id": "o8fsXzLx7MOn"
      },
      "execution_count": 100,
      "outputs": []
    },
    {
      "cell_type": "markdown",
      "source": [
        "##### 1 How many users are there in total?"
      ],
      "metadata": {
        "id": "uvlEpgf60xIz"
      }
    },
    {
      "cell_type": "code",
      "source": [
        "questionQuery1 = '''\n",
        "SELECT\n",
        "\tCOUNT(DISTINCT users.user_id) AS unique_users\n",
        "FROM defaultdb.users AS users\n",
        "'''"
      ],
      "metadata": {
        "id": "8fkHLIoZUGWA"
      },
      "execution_count": 101,
      "outputs": []
    },
    {
      "cell_type": "code",
      "source": [
        "dfQ1 = getDataFromSQL(sql_query = questionQuery1, connection_string=connectionString)\n",
        "### How many users are there in total?\n",
        "print('How many users are there in total?')\n",
        "\n",
        "print(f\"The total number of users is: {dfQ1['unique_users'][0]}\")"
      ],
      "metadata": {
        "colab": {
          "base_uri": "https://localhost:8080/"
        },
        "id": "fytxdBRYUgtT",
        "outputId": "a9b6add2-1498-4639-f831-9955424c73e1"
      },
      "execution_count": 103,
      "outputs": [
        {
          "output_type": "stream",
          "name": "stdout",
          "text": [
            "Query executed successfuly\n",
            "How many users are there in total?\n",
            "The total number of users is: 10000\n"
          ]
        }
      ]
    },
    {
      "cell_type": "markdown",
      "source": [
        "##### 2 How many users have transacted?"
      ],
      "metadata": {
        "id": "e8-IUJoE00Qu"
      }
    },
    {
      "cell_type": "code",
      "source": [
        "questionQuery2 = '''\n",
        "SELECT\n",
        "\tCASE\n",
        "\t\tWHEN transactions.transaction_id IS NOT NULL\n",
        "\t\tTHEN 'Make a transaction'\n",
        "\t\tELSE 'User no make a transaction'\n",
        "\tEND,\n",
        "\tCOUNT(DISTINCT users.user_id) AS users\n",
        "FROM defaultdb.users AS users\n",
        "LEFT JOIN defaultdb.transactions AS transactions ON\n",
        "\t(users.user_id= transactions.user_id)\n",
        "GROUP BY 1\n",
        "'''"
      ],
      "metadata": {
        "id": "HCDmawlhUN6G"
      },
      "execution_count": 105,
      "outputs": []
    },
    {
      "cell_type": "code",
      "source": [
        "dfQ2 = getDataFromSQL(sql_query = questionQuery2, connection_string=connectionString)\n",
        "### How many users have transacted?\n",
        "print('How many users have transacted?')\n",
        "print(f\"The total number of users who make a transaction is: {dfQ2['users'][0]}\")"
      ],
      "metadata": {
        "colab": {
          "base_uri": "https://localhost:8080/"
        },
        "id": "s9eOSCNaVSWU",
        "outputId": "9394ddb1-153a-4287-a661-31bac9adbb56"
      },
      "execution_count": 113,
      "outputs": [
        {
          "output_type": "stream",
          "name": "stdout",
          "text": [
            "Query executed successfuly\n",
            "How many users have transacted?\n",
            "The total number of users who make a transaction is: 10000\n"
          ]
        }
      ]
    },
    {
      "cell_type": "markdown",
      "source": [
        "##### 3 What is the card delivery rate?"
      ],
      "metadata": {
        "id": "etKCs95t01P_"
      }
    },
    {
      "cell_type": "code",
      "source": [
        "questionQuery3 = '''\n",
        "WITH filteredData AS (\n",
        "\tSELECT\n",
        "\t\tSUM(CASE\n",
        "\t\t\tWHEN packages.delivery_status= 'delivered'\n",
        "\t\t\tTHEN 1 ELSE 0\n",
        "\t\tEND) AS delivered_packages,\n",
        "\t\tSUM(1) AS total_packages\n",
        "\tFROM defaultdb.transactions AS transactions\n",
        "\tLEFT JOIN defaultdb.packages AS packages ON\n",
        "\t\t(transactions.user_id= packages.user_id)\n",
        "\tWHERE transactions.transaction_type IN ('subscription', 'online')\n",
        ")\n",
        "SELECT\n",
        "\tfilteredData.delivered_packages,\n",
        "\tfilteredData.total_packages,\n",
        "\tfilteredData.delivered_packages/filteredData.total_packages AS delivery_rate\n",
        "FROM filteredData\n",
        "'''"
      ],
      "metadata": {
        "id": "90nHG19-UOrQ"
      },
      "execution_count": 114,
      "outputs": []
    },
    {
      "cell_type": "code",
      "source": [
        "#### Note, there is no a category called \"card\" so I considered the categories \"subscription\" and \"online\" as related with card payment\n",
        "dfQ3 = getDataFromSQL(sql_query = questionQuery3, connection_string=connectionString)\n",
        "### What is the card delivery rate?\n",
        "print('What is the card delivery rate?')\n",
        "\n",
        "print(f\"The delivery rate is: {dfQ3['delivery_rate'][0]*100}%\")"
      ],
      "metadata": {
        "colab": {
          "base_uri": "https://localhost:8080/"
        },
        "id": "hH5L3Q9QVT-x",
        "outputId": "1e73ba00-9ce3-46c8-f47b-03f9476742e6"
      },
      "execution_count": 117,
      "outputs": [
        {
          "output_type": "stream",
          "name": "stdout",
          "text": [
            "Query executed successfuly\n",
            "What is the card delivery rate?\n",
            "The delivery rate is: 25.16%\n"
          ]
        }
      ]
    },
    {
      "cell_type": "markdown",
      "source": [
        "##### 4 Which is the most efficient package courier?"
      ],
      "metadata": {
        "id": "644av4D-01Ik"
      }
    },
    {
      "cell_type": "code",
      "source": [
        "questionQuery4 = '''\n",
        "WITH courierPerformance AS (\n",
        "\tSELECT\n",
        "\t\tpackages.courier,\n",
        "\t\tSUM(CASE\n",
        "\t\t\tWHEN packages.delivery_status= 'delivered'\n",
        "\t\t\tTHEN 1 ELSE 0\n",
        "\t\tEND) AS delivered_packages,\n",
        "\t\tCOUNT(1) AS total_packages\n",
        "\tFROM defaultdb.packages AS packages\n",
        "\tGROUP BY 1\n",
        ")\n",
        "SELECT\n",
        "\tcourier,\n",
        "\tdelivered_packages,\n",
        "\ttotal_packages,\n",
        "\tdelivered_packages/total_packages AS efficiency\n",
        "FROM courierPerformance\n",
        "ORDER BY 4 DESC\n",
        "'''"
      ],
      "metadata": {
        "id": "upuPoh-YUPYl"
      },
      "execution_count": 118,
      "outputs": []
    },
    {
      "cell_type": "code",
      "source": [
        "import seaborn as sns\n",
        "import matplotlib.pyplot as plt\n",
        "\n",
        "dfQ4 = getDataFromSQL(sql_query = questionQuery4, connection_string=connectionString)\n",
        "### Which is the most efficient package courier?\n",
        "#print('Which is the most efficient package courier?')\n",
        "\n",
        "dfQ4['efficiency']=dfQ4['efficiency']*100\n",
        "\n",
        "packageCourier = sns.barplot(data = dfQ4, x = 'courier', y = 'efficiency',\n",
        "                             color='#c7c3f4')\n",
        "\n",
        "# This is where you create the labels for the graph as percents\n",
        "labelsC = (dfQ4['efficiency'].round(1).astype(str) + '%').values\n",
        "\n",
        "packageCourier.bar_label(packageCourier.containers[0],\n",
        "                         labels = labelsC, fontsize= 7)\n",
        "plt.title('Which is the most efficient package courier?')\n",
        "\n",
        "plt.ylabel('Efficiency', fontsize=12)\n",
        "\n",
        "plt.xlabel('Courier', fontsize=12)\n",
        "plt.show()"
      ],
      "metadata": {
        "colab": {
          "base_uri": "https://localhost:8080/",
          "height": 494
        },
        "id": "oda8W935VUse",
        "outputId": "c80c774d-707e-4157-a8c6-87c90b22f0d7"
      },
      "execution_count": 126,
      "outputs": [
        {
          "output_type": "stream",
          "name": "stdout",
          "text": [
            "Query executed successfuly\n"
          ]
        },
        {
          "output_type": "display_data",
          "data": {
            "text/plain": [
              "<Figure size 640x480 with 1 Axes>"
            ],
            "image/png": "[encoded data removed]"
          },
          "metadata": {}
        }
      ]
    },
    {
      "cell_type": "markdown",
      "source": [
        "##### 5 Which are the top 10 categories with the most transactions?"
      ],
      "metadata": {
        "id": "EGg6ISNG01Tu"
      }
    },
    {
      "cell_type": "code",
      "source": [
        "questionQuery5 = '''\n",
        "SELECT\n",
        "\tCONCAT(transactions.transaction_type, '-', packages.delivery_status) AS category ,\n",
        "\tSUM(1) AS transactions\n",
        "FROM defaultdb.transactions  AS transactions\n",
        "LEFT JOIN defaultdb.packages AS packages ON\n",
        "\t(transactions.user_id= packages.user_id)\n",
        "GROUP BY 1\n",
        "ORDER BY 2 DESC\n",
        "LIMIT 10\n",
        "'''"
      ],
      "metadata": {
        "id": "HDbbFrv2UQDE"
      },
      "execution_count": 127,
      "outputs": []
    },
    {
      "cell_type": "code",
      "source": [
        "import seaborn as sns\n",
        "import matplotlib.pyplot as plt\n",
        "dfQ5 = getDataFromSQL(sql_query = questionQuery5, connection_string=connectionString)\n",
        "### Which are the top 10 categories with the most transactions?\n",
        "print('Which are the top 10 categories with the most transactions?')\n",
        "\n",
        "\n",
        "sns.barplot(data = dfQ5, x= 'category',\n",
        "            y= 'transactions', color='#c3f4c7').set_title('Which are the top 10 categories with the most transactions?')\n",
        "\n",
        "plt.xticks(rotation=90)\n",
        "plt.ylabel('Transactions', fontsize=12)\n",
        "\n",
        "plt.xlabel('Category', fontsize=12)\n",
        "\n",
        "plt.show()\n"
      ],
      "metadata": {
        "colab": {
          "base_uri": "https://localhost:8080/",
          "height": 652
        },
        "id": "Tzjq3vCoVVPq",
        "outputId": "00270b6b-f89f-4034-f16c-3a5721ab248c"
      },
      "execution_count": 131,
      "outputs": [
        {
          "output_type": "stream",
          "name": "stdout",
          "text": [
            "Query executed successfuly\n",
            "Which are the top 10 categories with the most transactions?\n"
          ]
        },
        {
          "output_type": "display_data",
          "data": {
            "text/plain": [
              "<Figure size 640x480 with 1 Axes>"
            ],
            "image/png": "[encoded data removed]"
          },
          "metadata": {}
        }
      ]
    },
    {
      "cell_type": "markdown",
      "source": [
        " ### Conclusions"
      ],
      "metadata": {
        "id": "bOfidWoDqXi8"
      }
    },
    {
      "cell_type": "markdown",
      "source": [
        "**This was a very interesting challenge and I used several techniques to solve it.\n",
        "I prefered the ETL process over the ELT because the data has several problems that were easier to solve before to upload to the database**"
      ],
      "metadata": {
        "id": "G9wyOIjQ487w"
      }
    },
    {
      "cell_type": "markdown",
      "source": [
        "### References"
      ],
      "metadata": {
        "id": "9h8E7WMK_smk"
      }
    },
    {
      "cell_type": "markdown",
      "source": [
        "1. https://airflow.apache.org/docs/apache-airflow/stable/core-concepts/index.html\n",
        "2. https://medium.com/@maheshbhatm/how-to-run-an-airflow-dag-with-parameters-using-the-airflow-api-97def0c6af81\n",
        "3. https://konfuzio.com/en/regex-date-python/\n",
        "4. https://medium.com/@techsuneel99/understanding-uml-the-unified-modeling-language-bfec589df4f7"
      ],
      "metadata": {
        "id": "kYEWQXM3LQOf"
      }
    },
    {
      "cell_type": "markdown",
      "source": [
        "### Greetings"
      ],
      "metadata": {
        "id": "3ac-BFnCqZR4"
      }
    },
    {
      "cell_type": "markdown",
      "source": [
        "**Thanks for giving me this opportunity**\n",
        "\n",
        "**I hope my explanations and code were reliable and easy to understand.**"
      ],
      "metadata": {
        "id": "F0ljlCqnk8Sq"
      }
    }
  ]
}